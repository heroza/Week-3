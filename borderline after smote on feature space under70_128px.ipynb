{
  "cells": [
    {
      "cell_type": "markdown",
      "metadata": {
        "id": "view-in-github",
        "colab_type": "text"
      },
      "source": [
        "<a href=\"https://colab.research.google.com/github/heroza/Week-3/blob/main/borderline%20after%20smote%20on%20feature%20space%20under70_128px.ipynb\" target=\"_parent\"><img src=\"https://colab.research.google.com/assets/colab-badge.svg\" alt=\"Open In Colab\"/></a>"
      ]
    },
    {
      "cell_type": "code",
      "execution_count": 1,
      "metadata": {
        "colab": {
          "base_uri": "https://localhost:8080/"
        },
        "id": "Eus_4tUgfEk9",
        "outputId": "9ae16fad-cecb-4b5f-aac3-aacd5dfffacc"
      },
      "outputs": [
        {
          "output_type": "stream",
          "name": "stdout",
          "text": [
            "Mounted at /content/drive\n"
          ]
        }
      ],
      "source": [
        "from google.colab import drive\n",
        "drive.mount('/content/drive')"
      ]
    },
    {
      "cell_type": "markdown",
      "metadata": {
        "id": "E_x4c0_DTkaa"
      },
      "source": [
        "#Library, atribut, and function"
      ]
    },
    {
      "cell_type": "code",
      "execution_count": 1,
      "metadata": {
        "id": "nR2MJBYq-oiB"
      },
      "outputs": [],
      "source": [
        "import pandas as pd\n",
        "import numpy as np\n",
        "import tensorflow as tf\n",
        "import matplotlib.pyplot as plt\n",
        "import seaborn as sns\n",
        "import os\n",
        "from collections import Counter\n",
        "from pathlib import Path\n",
        "from PIL import Image\n",
        "from sklearn import preprocessing\n",
        "from sklearn.neighbors import NearestNeighbors\n",
        "from sklearn.metrics import precision_recall_fscore_support, balanced_accuracy_score, confusion_matrix, accuracy_score\n",
        "from keras.callbacks import ReduceLROnPlateau, EarlyStopping, ModelCheckpoint\n",
        "from keras.preprocessing.image import ImageDataGenerator\n",
        "from keras.models import Sequential\n",
        "from keras.layers import Conv2D, MaxPooling2D, UpSampling2D\n",
        "from tensorflow import keras\n",
        "from tensorflow.keras import layers\n",
        "from tensorflow.keras.optimizers import Adam, SGD\n",
        "from tensorflow.keras.preprocessing import image\n",
        "from tensorflow.keras.applications.resnet50 import ResNet50, preprocess_input, decode_predictions\n",
        "from tensorflow.keras.applications.inception_v3 import InceptionV3, preprocess_input\n",
        "from tensorflow.keras.layers import GlobalAveragePooling2D, Dense, Input, Dropout, Flatten\n",
        "from tensorflow.keras.models import Model, load_model\n",
        "from keras.utils.np_utils import to_categorical\n",
        "import imblearn\n",
        "from imblearn.over_sampling import SMOTE, SVMSMOTE, ADASYN, KMeansSMOTE, BorderlineSMOTE"
      ]
    },
    {
      "cell_type": "code",
      "execution_count": 2,
      "metadata": {
        "id": "9-c7Xghg4SB4"
      },
      "outputs": [],
      "source": [
        "# input image size\n",
        "IMAGE_W = 128\n",
        "IMAGE_H = 128\n",
        "IMG_SIZE = (IMAGE_W,IMAGE_H)\n",
        "num_classes = 7\n",
        "EPOCHS = 50\n",
        "BATCH_SIZE = 64\n",
        "opt_adam = Adam(learning_rate=0.001, beta_1=0.9, beta_2=0.999, epsilon=None, decay=0.0, amsgrad=False)\n",
        "opt_SGD = SGD(learning_rate=0.001)\n",
        "the_arch = 'resnet50'"
      ]
    },
    {
      "cell_type": "code",
      "execution_count": 31,
      "metadata": {
        "id": "JffFid9sOXeo"
      },
      "outputs": [],
      "source": [
        "# load train and test dataset\n",
        "def preprocess_image_input(input_images, arch = the_arch):\n",
        "  input_images = input_images.astype('float32')\n",
        "  if arch == 'inception_v3':\n",
        "    output_ims = tf.keras.applications.inception_v3.preprocess_input(input_images)\n",
        "  else:\n",
        "    output_ims = tf.keras.applications.resnet50.preprocess_input(input_images)\n",
        "  return output_ims\n",
        "\n",
        "def load_cifar10_dataset():\n",
        "  from keras.datasets import cifar10\n",
        "    # load dataset\n",
        "  (X_train, y_train), (X_val, y_val) = cifar10.load_data()\n",
        "    # one hot encode target values\n",
        "  y_train = to_categorical(y_train)\n",
        "  y_val = to_categorical(y_val)\n",
        "\n",
        "  return X_train, y_train, X_val, y_val\n",
        "\n",
        "def true_positive(l1,l2):\n",
        "  tp = 0\n",
        "  for i in range(len(l1)):\n",
        "    tp = tf.cond(l1[i]==l2[i]==1, lambda: tp+1)\n",
        "  return tp\n",
        "\n",
        "def true_negative(l1,l2):\n",
        "  tn = 0\n",
        "  for i in range(len(l1)):\n",
        "    tn = tf.cond(l1[i]==l2[i]==0, lambda: tn+1)\n",
        "  return tn\n",
        "\n",
        "def false_positive(l1,l2):\n",
        "  fp = 0\n",
        "  for i in range(len(l1)):\n",
        "    fp = tf.cond(l1[i] != l2[i] and l2[i]==1, lambda: fp+1)\n",
        "  return fp\n",
        "\n",
        "def false_negative(l1,l2):\n",
        "  fn = 0\n",
        "  for i in range(len(l1)):\n",
        "    fn = tf.cond(l1[i] != l2[i] and l2[i] == 0, lambda: fn+1)\n",
        "  return fn\n",
        "\n",
        "def balanced_acc2(y_true,y_pred):\n",
        "  \n",
        "  a = y_true.numpy()\n",
        "  b = y_pred.numpy()\n",
        "  return balanced_accuracy_score(a,b)\n",
        "\n",
        "def balanced_acc(y_true,y_pred):\n",
        "    from keras import backend as K\n",
        "    tensor1 = tf.math.argmax(y_true, axis=1)\n",
        "    tensor2 = tf.math.argmax(y_pred, axis=1)\n",
        "    cm = tf.math.confusion_matrix(tensor1, tensor2)\n",
        "    diag = tf.linalg.tensor_diag_part (cm)\n",
        "    tpfn = tf.cast(K.sum(cm, axis = 1), tf.float32) + K.epsilon()\n",
        "    recall = tf.divide(tf.cast(diag, tf.float32),tpfn)\n",
        "    balanced_acc = K.mean(recall)\n",
        "    balanced_acc = K.mean(balanced_acc)\n",
        "\n",
        "    return balanced_acc\n",
        "\n",
        "def define_base_model(arch = the_arch, start_trainable_layer = 9999, attention=False):\n",
        "  #x = data_augmentation(input_tensor)\n",
        "  #x = layers.Rescaling(1.0 / 255)(input_tensor)  # Rescale inputs\n",
        "  if arch != 'dense':\n",
        "    input_tensor = Input(shape=(IMAGE_H, IMAGE_W, 3))\n",
        "    #x = UpSampling2D(size=(7,7))(input_tensor)\n",
        "    if arch == 'resnet50':\n",
        "      base_model = ResNet50(input_tensor=input_tensor, weights='imagenet', include_top=False)\n",
        "    elif arch == 'inception_v3':\n",
        "      base_model = InceptionV3(input_tensor=input_tensor, weights='imagenet', include_top=False)\n",
        "    elif arch == 'ResNet':\n",
        "      base_model = ResNet(classes ,image_shape)(input_tensor)\n",
        "    \n",
        "    for layer in base_model.layers:\n",
        "      layer.trainable = False\n",
        "    if start_trainable_layer != 9999:\n",
        "      for layer in base_model.layers[start_trainable_layer:]:\n",
        "        layer.trainable = True\n",
        "    \n",
        "    x = base_model.output\n",
        "    if attention:\n",
        "      x = Attention(1024,1024,7,8)(x)\n",
        "    \n",
        "    x = GlobalAveragePooling2D()(x)\n",
        "    x = Flatten()(x)\n",
        "  else:\n",
        "    input_tensor = Input(shape=(2048))\n",
        "    x = input_tensor\n",
        "  #x = Flatten()(x)\n",
        "  x = Dense(1024, activation='relu')(x)\n",
        "  #x = Dropout(0.2)(x)\n",
        "  x = Dense(512, activation='relu')(x)\n",
        "  predictions = Dense(num_classes, activation='softmax')(x)\n",
        "  model = Model(inputs=input_tensor, outputs=predictions)\n",
        "  model.compile(optimizer = opt_SGD , loss = \"categorical_crossentropy\", metrics=['accuracy', balanced_acc])\n",
        "  return model\n",
        "\n",
        "def define_model_resnet():\n",
        "  input_shape = (IMAGE_H, IMAGE_W, 3)\n",
        "  input_tensor = Input(shape=input_shape)\n",
        "  x = ResNet50(input_shape=input_shape, weights='imagenet', include_top=False)(input_tensor, training=False)\n",
        "  x = GlobalAveragePooling2D()(x)\n",
        "  x = Flatten()(x)\n",
        "  x = Dense(1024, activation='relu')(x)\n",
        "  x = Dense(512, activation='relu')(x)\n",
        "  predictions = Dense(num_classes, activation='softmax')(x)\n",
        "  model = Model(inputs=input_tensor, outputs=predictions)\n",
        "  model.compile(optimizer = opt_SGD , loss = \"categorical_crossentropy\", metrics=['accuracy', balanced_acc])\n",
        "  return model\n",
        "\n",
        "# plot diagnostic learning curves\n",
        "def summarize_diagnostics(history):\n",
        "    # plot loss\n",
        "    plt.subplot(211)\n",
        "    plt.title('Cross Entropy Loss')\n",
        "    plt.plot(history.history['loss'], color='blue', label='train')\n",
        "    plt.plot(history.history['val_loss'], color='orange', label='test')\n",
        "    # plot accuracy\n",
        "    plt.subplot(212)\n",
        "    plt.title('Classification Accuracy')\n",
        "    plt.plot(history.history['accuracy'], color='blue', label='train')\n",
        "    plt.plot(history.history['val_accuracy'], color='orange', label='test')\n",
        " \n",
        "# scale pixels\n",
        "def norm_pixels(train, test):\n",
        "    # convert from integers to floats\n",
        "    train_norm = train.astype('float32')\n",
        "    test_norm = test.astype('float32')\n",
        "    # normalize to range 0-1\n",
        "    train_norm = train_norm / 255.0\n",
        "    test_norm = test_norm / 255.0\n",
        "    # return normalized images\n",
        "    return train_norm, test_norm\n",
        "\n",
        "def load_isic2018_dataset(train_under_frac = 0):\n",
        "  df_train = pd.read_csv('/content/drive/MyDrive/PHD/Datasets/isic2018/ISIC2018_Task3_Training_GroundTruth/ISIC2018_Task3_Training_GroundTruth.csv') \n",
        "  df_val = pd.read_csv('/content/drive/MyDrive/PHD/Datasets/isic2018/ISIC2018_Task3_Validation_GroundTruth/ISIC2018_Task3_Validation_GroundTruth.csv') \n",
        "\n",
        "  #decode one hot label\n",
        "  df_train[\"Labels\"] = (df_train.iloc[:, 1:]).idxmax(axis=1)\n",
        "  df_val[\"Labels\"] = (df_val.iloc[:, 1:]).idxmax(axis=1)\n",
        "\n",
        "  #random undersampling for training dataset\n",
        "  if train_under_frac !=0:\n",
        "    df_train = df_train.drop(df_train[df_train['Labels'] == 'NV'].sample(frac=train_under_frac).index)\n",
        "\n",
        "  #drop one-hot column\n",
        "  df_train = df_train.drop(columns=['MEL', 'NV', 'BCC', 'AKIEC', 'BKL', 'DF', 'VASC'])\n",
        "  df_val = df_val.drop(columns=['MEL', 'NV', 'BCC', 'AKIEC', 'BKL', 'DF', 'VASC'])\n",
        "\n",
        "  #make filepaths of the image\n",
        "  dir_train = '/content/drive/MyDrive/PHD/Datasets/isic2018/ISIC2018_Task3_Training_Input/'\n",
        "  dir_val = '/content/drive/MyDrive/PHD/Datasets/isic2018/ISIC2018_Task3_Validation_Input/'\n",
        "  df_train['FilePaths'] = dir_train + df_train['image'] + '.jpg'\n",
        "  df_val['FilePaths'] = dir_val + df_val['image'] + '.jpg'\n",
        "  \n",
        "  #load image pixels to dataframe\n",
        "  df_train['image_px'] = df_train['FilePaths'].map(lambda x: np.asarray(Image.open(x).resize(IMG_SIZE)))\n",
        "  df_val['image_px'] = df_val['FilePaths'].map(lambda x: np.asarray(Image.open(x).resize(IMG_SIZE)))\n",
        "\n",
        "  X_train = np.asarray(df_train['image_px'].tolist())\n",
        "  X_val = np.asarray(df_val['image_px'].tolist())\n",
        "  y_train = np.array(df_train['Labels'].values)\n",
        "  y_val = np.array(df_val['Labels'].values)\n",
        "\n",
        "  label_encoder = preprocessing.LabelEncoder()\n",
        "  y_train = label_encoder.fit_transform(y_train)\n",
        "  y_val = label_encoder.fit_transform(y_val)\n",
        "  \n",
        "  y_train = to_categorical(y_train, num_classes = num_classes)\n",
        "  y_val = to_categorical(y_val, num_classes = num_classes)\n",
        "\n",
        "  return X_train, y_train, X_val, y_val\n",
        "\n",
        "def reset_dataset(df_train, df_val):\n",
        "  X_train = np.asarray(df_train['image_px'].tolist())\n",
        "  X_val = np.asarray(df_val['image_px'].tolist())\n",
        "  y_train = np.array(df_train['Labels'].values)\n",
        "  y_val = np.array(df_val['Labels'].values)\n",
        "\n",
        "  X_train = preprocess_image_input(X_train, the_arch)\n",
        "  X_val = preprocess_image_input(X_val, the_arch)\n",
        "\n",
        "  label_encoder = preprocessing.LabelEncoder()\n",
        "  y_train = label_encoder.fit_transform(y_train)\n",
        "  y_val = label_encoder.fit_transform(y_val)\n",
        "  \n",
        "  y_train = to_categorical(y_train, num_classes = num_classes)\n",
        "  y_val = to_categorical(y_val, num_classes = num_classes)\n",
        "  return X_train, y_train, X_val, y_val\n",
        "\n",
        "def SMOTE_Data(X, y, one_hot = False, k = 5, width = IMAGE_W, height = IMAGE_H, c = 3, type = 'smote'):\n",
        "  if one_hot:\n",
        "    y = np.argmax(y, axis=1)\n",
        "  if type == 'borderline':\n",
        "    sm = BorderlineSMOTE(random_state=42, k_neighbors=k)\n",
        "  elif type == 'svm':\n",
        "    sm = SVMSMOTE()\n",
        "  elif type == 'adasyn':\n",
        "    sm = ADASYN(random_state=42, n_neighbors=k)\n",
        "  elif type == 'kmeans':\n",
        "    sm = KMeansSMOTE(k_neighbors=k, kmeans_estimator=10)\n",
        "  else:\n",
        "    sm = SMOTE(random_state=42, k_neighbors=k)\n",
        "  \n",
        "  X_resampled, y_resampled = sm.fit_resample(X.reshape(-1, width * height * c), y)\n",
        "  X_resampled = X_resampled.reshape(-1, width, height, c)\n",
        "  if one_hot:\n",
        "    y_resampled = to_categorical(y_resampled, num_classes = num_classes)\n",
        "  else:\n",
        "    y_resampled = y_resampled.reshape(-1,1)\n",
        "  return X_resampled, y_resampled\n",
        "\n",
        "def SMOTE_Data2(X, y, one_hot = False, k = 5, type = 'smote'):\n",
        "  if one_hot:\n",
        "    y = np.argmax(y, axis=1)\n",
        "  if type == 'borderline':\n",
        "    sm = BorderlineSMOTE(random_state=42, k_neighbors=k, sampling_strategy={0:2500,1:2500,2:2500,3:2500,4:2500,5:2500,6:2500})\n",
        "  elif type == 'svm':\n",
        "    sm = SVMSMOTE()\n",
        "  elif type == 'adasyn':\n",
        "    sm = ADASYN(random_state=42, n_neighbors=k)\n",
        "  elif type == 'kmeans':\n",
        "    sm = KMeansSMOTE(k_neighbors=k, kmeans_estimator=10)\n",
        "  else:\n",
        "    sm = SMOTE(random_state=42, k_neighbors=k)\n",
        "  X_resampled, y_resampled = sm.fit_resample(X, y)\n",
        "  if one_hot:\n",
        "    y_resampled = to_categorical(y_resampled, num_classes = num_classes)\n",
        "  else:\n",
        "    y_resampled = y_resampled.reshape(-1,1)\n",
        "  return X_resampled, y_resampled"
      ]
    },
    {
      "cell_type": "markdown",
      "metadata": {
        "id": "BE9FCWBe8deT"
      },
      "source": [
        "#Inner-Borderline SMOTE"
      ]
    },
    {
      "cell_type": "code",
      "execution_count": null,
      "metadata": {
        "id": "s3UnuaKz8kzJ"
      },
      "outputs": [],
      "source": [
        "def get_class(X, y, c):\n",
        "    xbeg = X[y == c]\n",
        "    ybeg = y[y == c]\n",
        "    return xbeg, ybeg\n",
        "def find_border(xclass, yclass, X, y, cli, n_neigh=5):\n",
        "    nn = NearestNeighbors(n_neighbors=n_neigh, n_jobs=1)\n",
        "    nn.fit(X)\n",
        "    dist, ind = nn.kneighbors(xclass)\n",
        "    ret = []\n",
        "    for i in range(len(ind)):\n",
        "      ret.append(sum(y[ind[i,j]] != cli for j in range(1,len(ind[i]))))\n",
        "    ret = np.array(ret)\n",
        "    xclass = xclass[np.logical_and(ret < (n_neigh-1),ret > ((n_neigh-1)/2))]\n",
        "    yclass = yclass[np.logical_and(ret < (n_neigh-1),ret > ((n_neigh-1)/2))]\n",
        "\n",
        "    return xclass, yclass\n",
        "def find_inner_border(xclass, yclass, X, y, cli, n_neigh=5):\n",
        "    nn = NearestNeighbors(n_neighbors=n_neigh, n_jobs=1)\n",
        "    nn.fit(X)\n",
        "    dist, ind = nn.kneighbors(X)\n",
        "    ret = []\n",
        "    for i in range(len(ind)):\n",
        "      if y[i] != cli:\n",
        "        ret.append(n_neigh)  \n",
        "      else:\n",
        "        ret.append(sum(y[ind[i,j]] != cli for j in range(1,len(ind[i]))))\n",
        "    ret = np.array(ret)\n",
        "    is_border = np.logical_and(ret < (n_neigh-1),ret > ((n_neigh-1)/2))\n",
        "    \n",
        "    ret = []\n",
        "    for i in range(len(ind)):\n",
        "      ret.append(sum(is_border[ind[i,j]] for j in range(1,len(ind[i]))))\n",
        "    ret = np.array(ret)\n",
        "    xclass = X[np.logical_and(np.logical_not(is_border),ret > 0)]\n",
        "    yclass = y[np.logical_and(np.logical_not(is_border),ret > 0)]\n",
        "    return xclass, yclass\n",
        "\n",
        "def G_SM(xclass,n_to_sample,cl, n_neigh = 6):\n",
        "    \n",
        "    nn = NearestNeighbors(n_neighbors=n_neigh, n_jobs=1)\n",
        "    nn.fit(xclass)\n",
        "    dist, ind = nn.kneighbors(xclass)\n",
        "\n",
        "    # generating samples\n",
        "    base_indices = np.random.choice(list(range(len(xclass))),n_to_sample)\n",
        "    neighbor_indices = np.random.choice(list(range(1, n_neigh)),n_to_sample)\n",
        "\n",
        "    X_base = xclass[base_indices]\n",
        "    X_neighbor = xclass[ind[base_indices, neighbor_indices]]\n",
        "\n",
        "    samples = X_base + np.multiply(np.random.rand(n_to_sample,1),\n",
        "            X_neighbor - X_base)\n",
        "\n",
        "    #use 10 as label because 0 to 9 real classes and 1 fake/smoted = 10\n",
        "    return samples, [cl]*n_to_sample\n",
        "\n",
        "def Borderline_SMOTE(X_train, y_train, random_state=42, k_neighbors=5, start=0, n=7):\n",
        "  #reshape X_train\n",
        "  X_train = X_train.reshape(-1, IMAGE_W * IMAGE_H * 3)\n",
        "  #decode y_train from one-hot encoding\n",
        "  y_train = np.argmax(y_train, axis=1) \n",
        "\n",
        "  counter = Counter(y_train)\n",
        "  key_max = max(counter, key=counter.get)\n",
        "  class_max = counter[key_max]\n",
        "  resx=[]\n",
        "  resy=[]\n",
        "\n",
        "  for i in range(start,n):\n",
        "      xclass, yclass = get_class(X_train, y_train, i)\n",
        "      if xclass.shape[0] == class_max:\n",
        "        continue\n",
        "      xclass_bdr, yclass_bdr = find_inner_border(xclass, yclass, X_train, y_train, i, n_neigh=k_neighbors)\n",
        "      n = class_max - xclass.shape[0]\n",
        "      xsamp, ysamp = G_SM(xclass_bdr,n,i, n_neigh=k_neighbors)\n",
        "      ysamp = np.array(ysamp)\n",
        "      resx.append(xsamp)\n",
        "      resy.append(ysamp)\n",
        "  \n",
        "  resx = np.vstack(resx)\n",
        "  resy = np.hstack(resy)\n",
        "  X_train = np.vstack((resx,X_train))\n",
        "  y_train = np.hstack((resy,y_train))\n",
        "  y_train = to_categorical(y_train)\n",
        "  X_train = X_train.reshape(-1, IMAGE_W, IMAGE_H, 3)\n",
        "  return X_train, y_train"
      ]
    },
    {
      "cell_type": "code",
      "execution_count": null,
      "metadata": {
        "id": "HIW7uLrYvZDv"
      },
      "outputs": [],
      "source": [
        "import sys\n",
        "sys.path.append('/content/drive/MyDrive/PHD/Src/imbalanced-learn/imblearn/')\n",
        "sys.path.append('/content/drive/MyDrive/PHD/Src/imbalanced-learn/imblearn/over_sampling/')\n",
        "sys.path.append('/content/drive/MyDrive/PHD/Src/imbalanced-learn/imblearn/over_sampling/_smote/')\n",
        "from filter import BorderlineSMOTE"
      ]
    },
    {
      "cell_type": "markdown",
      "source": [
        "#Oversampling one class"
      ],
      "metadata": {
        "id": "IXruo6F58ryW"
      }
    },
    {
      "cell_type": "code",
      "source": [
        "def G_SM(xclass,n_to_sample,cl, n_neigh = 6):\n",
        "  nn = NearestNeighbors(n_neighbors=n_neigh, n_jobs=1)\n",
        "  nn.fit(xclass)\n",
        "  dist, ind = nn.kneighbors(xclass)\n",
        "\n",
        "  # generating samples\n",
        "  base_indices = np.random.choice(list(range(len(xclass))),n_to_sample)\n",
        "  neighbor_indices = np.random.choice(list(range(1, n_neigh)),n_to_sample)\n",
        "\n",
        "  X_base = xclass[base_indices]\n",
        "  X_neighbor = xclass[ind[base_indices, neighbor_indices]]\n",
        "\n",
        "  samples = X_base + np.multiply(np.random.rand(n_to_sample,1),\n",
        "          X_neighbor - X_base)\n",
        "\n",
        "  #use 10 as label because 0 to 9 real classes and 1 fake/smoted = 10\n",
        "  return samples, [cl]*n_to_sample\n",
        "\n",
        "def get_class(X, y, c):\n",
        "  xbeg = X[y == c]\n",
        "  ybeg = y[y == c]\n",
        "  return xbeg, ybeg"
      ],
      "metadata": {
        "id": "l4-XDjNaUryf"
      },
      "execution_count": 8,
      "outputs": []
    },
    {
      "cell_type": "code",
      "source": [
        "i = 0\n",
        "n = 500\n",
        "k_neighbors = 5\n",
        "xclass, yclass = get_class(X_train.reshape(X_train.shape[0], -1), np.argmax(y_train, axis=1), 1)\n",
        "xsamp, ysamp = G_SM(xclass,n,i, n_neigh=k_neighbors)\n",
        "ysamp = np.array(ysamp)"
      ],
      "metadata": {
        "id": "Uc9y7zG8U3Fc"
      },
      "execution_count": 9,
      "outputs": []
    },
    {
      "cell_type": "code",
      "source": [
        "xsamp = xsamp.reshape(xsamp.shape[0],IMAGE_W, IMAGE_H,3)\n",
        "ysamp = ysamp.reshape(xsamp.shape[0],1)\n",
        "print(xsamp.shape, ysamp.shape)"
      ],
      "metadata": {
        "colab": {
          "base_uri": "https://localhost:8080/"
        },
        "id": "Mzp9j8PmWQHu",
        "outputId": "2a967189-d2e3-4f25-dba0-dc7c79e1ce59"
      },
      "execution_count": 10,
      "outputs": [
        {
          "output_type": "stream",
          "name": "stdout",
          "text": [
            "(500, 128, 128, 3) (500, 1)\n"
          ]
        }
      ]
    },
    {
      "cell_type": "code",
      "source": [
        "X_train = np.concatenate((X_train, xsamp))\n",
        "y_train = np.concatenate((np.argmax(y_train, axis=1).reshape(-1,1), ysamp))\n",
        "y_train = to_categorical(y_train)"
      ],
      "metadata": {
        "id": "VPhyZsz6Ybpc"
      },
      "execution_count": 11,
      "outputs": []
    },
    {
      "cell_type": "code",
      "source": [
        "print(X_train.shape, y_train.shape)"
      ],
      "metadata": {
        "colab": {
          "base_uri": "https://localhost:8080/"
        },
        "id": "A8eCte3qYIkB",
        "outputId": "a12d732c-fb1d-4c89-ff27-bbaef5e59e9b"
      },
      "execution_count": 12,
      "outputs": [
        {
          "output_type": "stream",
          "name": "stdout",
          "text": [
            "(14577, 128, 128, 3) (14577, 7)\n"
          ]
        }
      ]
    },
    {
      "cell_type": "markdown",
      "metadata": {
        "id": "5v7sLC2svMuJ"
      },
      "source": [
        "# Main"
      ]
    },
    {
      "cell_type": "code",
      "execution_count": 30,
      "metadata": {
        "id": "udkMXcZHXglm",
        "colab": {
          "base_uri": "https://localhost:8080/"
        },
        "outputId": "c9b0573f-460a-48c1-cd08-f17a2bc51007"
      },
      "outputs": [
        {
          "output_type": "stream",
          "name": "stdout",
          "text": [
            "best_model_fpath:/content/drive/MyDrive/PHD/Model/best_model_borderline after smote on feature space_under70_128px.h5\n"
          ]
        }
      ],
      "source": [
        "exp_name=\"borderline after smote on feature space\"\n",
        "dataset_name=\"under70_128px\"\n",
        "train_under_frac = 0.7\n",
        "\n",
        "best_model_fpath = '/content/drive/MyDrive/PHD/Model/best_model_'+exp_name+'_'+dataset_name+'.h5'\n",
        "print(\"best_model_fpath:\"+best_model_fpath)"
      ]
    },
    {
      "cell_type": "code",
      "execution_count": 32,
      "metadata": {
        "colab": {
          "base_uri": "https://localhost:8080/"
        },
        "id": "qge6cnxQPnH6",
        "outputId": "9a8be3f4-766c-412d-af8e-9962ecd8394f"
      },
      "outputs": [
        {
          "output_type": "stream",
          "name": "stdout",
          "text": [
            "(5321, 128, 128, 3)\n",
            "(5321, 7)\n",
            "(193, 128, 128, 3)\n",
            "(193, 7)\n",
            "Counter train data:  Counter({5: 2011, 4: 1113, 2: 1099, 1: 514, 0: 327, 6: 142, 3: 115})\n",
            "Counter val data:  Counter({5: 123, 2: 22, 4: 21, 1: 15, 0: 8, 6: 3, 3: 1})\n"
          ]
        }
      ],
      "source": [
        "path = '/content/drive/MyDrive/PHD/Datasets/isic2018/'\n",
        "df1 = pd.read_pickle(path+\"isic2018_train_\"+dataset_name+\".pkl\")\n",
        "X_train = df1.loc[:, df1.columns != 'y_train'].to_numpy()\n",
        "X_train = X_train.reshape(-1,IMAGE_W,IMAGE_H,3)\n",
        "y_train = df1.loc[:, df1.columns == 'y_train'].to_numpy()\n",
        "y_train = to_categorical(y_train)\n",
        "\n",
        "df1 = pd.read_pickle(path+\"isic2018_val_\"+dataset_name+\".pkl\")\n",
        "X_val = df1.loc[:, df1.columns != 'y_val'].to_numpy()\n",
        "X_val = X_val.reshape(-1,IMAGE_W,IMAGE_H,3)\n",
        "y_val = df1.loc[:, df1.columns == 'y_val'].to_numpy()\n",
        "y_val = to_categorical(y_val)\n",
        "\n",
        "print(X_train.shape)\n",
        "print(y_train.shape)\n",
        "print(X_val.shape)\n",
        "print(y_val.shape)\n",
        "print('Counter train data: ', Counter(np.argmax(y_train, axis=1)))\n",
        "print('Counter val data: ', Counter(np.argmax(y_val, axis=1)))"
      ]
    },
    {
      "cell_type": "code",
      "execution_count": 13,
      "metadata": {
        "colab": {
          "base_uri": "https://localhost:8080/"
        },
        "id": "xArGWuciBt_-",
        "outputId": "44fa5d19-75b7-443c-9220-0c22b0f3d6c5"
      },
      "outputs": [
        {
          "output_type": "stream",
          "name": "stdout",
          "text": [
            "(17577, 128, 128, 3)\n",
            "(17577, 7)\n",
            "(193, 128, 128, 3)\n",
            "(193, 7)\n",
            "Counter train data:  Counter({5: 2511, 4: 2511, 2: 2511, 3: 2511, 0: 2511, 1: 2511, 6: 2511})\n",
            "Counter val data:  Counter({5: 123, 2: 22, 4: 21, 1: 15, 0: 8, 6: 3, 3: 1})\n"
          ]
        }
      ],
      "source": [
        "X_train, y_train = SMOTE_Data(X_train, y_train, True, type = 'smote')\n",
        "#X_train, y_train = Borderline_SMOTE(X_train, y_train)\n",
        "print(X_train.shape)\n",
        "print(y_train.shape)\n",
        "print(X_val.shape)\n",
        "print(y_val.shape)\n",
        "print('Counter train data: ', Counter(np.argmax(y_train, axis=1)))\n",
        "print('Counter val data: ', Counter(np.argmax(y_val, axis=1)))"
      ]
    },
    {
      "cell_type": "code",
      "execution_count": null,
      "metadata": {
        "colab": {
          "base_uri": "https://localhost:8080/"
        },
        "id": "0V5PjA7jFhVU",
        "outputId": "38b5f38e-272e-483a-fa48-6186f4b7efcd"
      },
      "outputs": [
        {
          "name": "stdout",
          "output_type": "stream",
          "text": [
            "(9487, 2048)\n",
            "(9487, 7)\n",
            "Counter train data:  Counter({0: 1441, 5: 1341, 4: 1341, 2: 1341, 3: 1341, 1: 1341, 6: 1341})\n"
          ]
        }
      ],
      "source": [
        "n_new_samples = 100\n",
        "X_train = np.append(X_train_fm_ov, np.zeros(shape=(n_new_samples, 2048), dtype='object'), axis=0)\n",
        "y_train = np.argmax(y_train_ov, axis=1) \n",
        "y_train = y_train.reshape(-1,1)\n",
        "y_train = np.append(y_train, np.zeros(shape=(n_new_samples, 1), dtype='object'))\n",
        "y_train = to_categorical(y_train)\n",
        "print(X_train.shape)\n",
        "print(y_train.shape)\n",
        "print('Counter train data: ', Counter(np.argmax(y_train, axis=1)))"
      ]
    },
    {
      "cell_type": "code",
      "execution_count": null,
      "metadata": {
        "colab": {
          "base_uri": "https://localhost:8080/"
        },
        "id": "0lFpLlexMUaM",
        "outputId": "137599b4-6ee6-49de-8cd9-13e82b8c2c89"
      },
      "outputs": [
        {
          "name": "stdout",
          "output_type": "stream",
          "text": [
            "(9887, 2048)\n",
            "(9887, 7)\n",
            "Counter train data:  Counter({5: 1441, 4: 1441, 2: 1441, 1: 1441, 6: 1441, 3: 1341, 0: 1341})\n"
          ]
        }
      ],
      "source": [
        "# remove rows having all zeroes\n",
        "index = range(9387,9487)\n",
        "y_train = np.delete(y_train_ov, index, axis = 0)\n",
        "X_train = np.delete(X_train_fm_ov, index, axis = 0)\n",
        "print(X_train.shape)\n",
        "print(y_train.shape)\n",
        "print('Counter train data: ', Counter(np.argmax(y_train, axis=1)))"
      ]
    },
    {
      "cell_type": "code",
      "execution_count": null,
      "metadata": {
        "id": "V7Z_nccu6QjB"
      },
      "outputs": [],
      "source": [
        "#path = '/content/drive/MyDrive/PHD/Datasets/isic2018/'\n",
        "#df1 = pd.DataFrame(X_train.reshape(X_train.shape[0],-1))\n",
        "#df1['y_train'] = np.argmax(y_train, axis=1).tolist()\n",
        "#df2 = pd.DataFrame(X_val.reshape(X_val.shape[0],-1))\n",
        "#df2['y_val'] = np.argmax(y_val, axis=1).tolist()\n",
        "#df1.to_pickle(path+\"isic2018_train_under83.pkl\")\n",
        "#df2.to_pickle(path+\"isic2018_val.pkl\")"
      ]
    },
    {
      "cell_type": "code",
      "execution_count": 14,
      "metadata": {
        "colab": {
          "base_uri": "https://localhost:8080/",
          "height": 1000
        },
        "id": "vIygrW81Ln4z",
        "outputId": "cb2fcb2d-377c-43d8-d27c-0d1b5b770987"
      },
      "outputs": [
        {
          "output_type": "stream",
          "name": "stdout",
          "text": [
            "Downloading data from https://storage.googleapis.com/tensorflow/keras-applications/resnet/resnet50_weights_tf_dim_ordering_tf_kernels_notop.h5\n",
            "94765736/94765736 [==============================] - 1s 0us/step\n",
            "best_model_fpath:/content/drive/MyDrive/PHD/Model/best_model_smote after smote on input space_under70_128px.h5\n",
            "Epoch 1/50\n",
            "274/274 [==============================] - ETA: 0s - loss: 0.9478 - accuracy: 0.6420 - balanced_acc: 0.6411\n",
            "Epoch 1: val_balanced_acc improved from -inf to 0.55300, saving model to /content/drive/MyDrive/PHD/Model/best_model_smote after smote on input space_under70_128px.h5\n",
            "274/274 [==============================] - 76s 229ms/step - loss: 0.9478 - accuracy: 0.6420 - balanced_acc: 0.6411 - val_loss: 0.8986 - val_accuracy: 0.6632 - val_balanced_acc: 0.5530 - lr: 0.0010\n",
            "Epoch 2/50\n",
            "274/274 [==============================] - ETA: 0s - loss: 0.5812 - accuracy: 0.7773 - balanced_acc: 0.7777\n",
            "Epoch 2: val_balanced_acc did not improve from 0.55300\n",
            "274/274 [==============================] - 64s 228ms/step - loss: 0.5812 - accuracy: 0.7773 - balanced_acc: 0.7777 - val_loss: 0.8303 - val_accuracy: 0.6839 - val_balanced_acc: 0.4322 - lr: 0.0010\n",
            "Epoch 3/50\n",
            "274/274 [==============================] - ETA: 0s - loss: 0.4502 - accuracy: 0.8276 - balanced_acc: 0.8283\n",
            "Epoch 3: val_balanced_acc did not improve from 0.55300\n",
            "274/274 [==============================] - 63s 229ms/step - loss: 0.4502 - accuracy: 0.8276 - balanced_acc: 0.8283 - val_loss: 0.7889 - val_accuracy: 0.7150 - val_balanced_acc: 0.4622 - lr: 0.0010\n",
            "Epoch 4/50\n",
            "274/274 [==============================] - ETA: 0s - loss: 0.3978 - accuracy: 0.8585 - balanced_acc: 0.8598\n",
            "Epoch 4: val_balanced_acc did not improve from 0.55300\n",
            "274/274 [==============================] - 63s 230ms/step - loss: 0.3978 - accuracy: 0.8585 - balanced_acc: 0.8598 - val_loss: 0.7074 - val_accuracy: 0.7306 - val_balanced_acc: 0.4452 - lr: 0.0010\n",
            "Epoch 5/50\n",
            "274/274 [==============================] - ETA: 0s - loss: 0.3141 - accuracy: 0.8861 - balanced_acc: 0.8858\n",
            "Epoch 5: val_balanced_acc did not improve from 0.55300\n",
            "274/274 [==============================] - 63s 230ms/step - loss: 0.3141 - accuracy: 0.8861 - balanced_acc: 0.8858 - val_loss: 0.7514 - val_accuracy: 0.7150 - val_balanced_acc: 0.4565 - lr: 0.0010\n",
            "Epoch 6/50\n",
            "274/274 [==============================] - ETA: 0s - loss: 0.2670 - accuracy: 0.9042 - balanced_acc: 0.9049\n",
            "Epoch 6: val_balanced_acc did not improve from 0.55300\n",
            "274/274 [==============================] - 63s 230ms/step - loss: 0.2670 - accuracy: 0.9042 - balanced_acc: 0.9049 - val_loss: 0.6861 - val_accuracy: 0.7461 - val_balanced_acc: 0.4597 - lr: 0.0010\n",
            "Epoch 7/50\n",
            "274/274 [==============================] - ETA: 0s - loss: 0.2341 - accuracy: 0.9146 - balanced_acc: 0.9138\n",
            "Epoch 7: val_balanced_acc did not improve from 0.55300\n",
            "274/274 [==============================] - 63s 229ms/step - loss: 0.2341 - accuracy: 0.9146 - balanced_acc: 0.9138 - val_loss: 0.8284 - val_accuracy: 0.7358 - val_balanced_acc: 0.4696 - lr: 0.0010\n",
            "Epoch 8/50\n",
            "274/274 [==============================] - ETA: 0s - loss: 0.1897 - accuracy: 0.9322 - balanced_acc: 0.9319\n",
            "Epoch 8: val_balanced_acc did not improve from 0.55300\n",
            "274/274 [==============================] - 63s 230ms/step - loss: 0.1897 - accuracy: 0.9322 - balanced_acc: 0.9319 - val_loss: 0.7658 - val_accuracy: 0.7202 - val_balanced_acc: 0.4537 - lr: 0.0010\n",
            "Epoch 9/50\n",
            "274/274 [==============================] - ETA: 0s - loss: 0.1742 - accuracy: 0.9378 - balanced_acc: 0.9372\n",
            "Epoch 9: val_balanced_acc improved from 0.55300 to 0.60405, saving model to /content/drive/MyDrive/PHD/Model/best_model_smote after smote on input space_under70_128px.h5\n",
            "274/274 [==============================] - 65s 236ms/step - loss: 0.1742 - accuracy: 0.9378 - balanced_acc: 0.9372 - val_loss: 0.7864 - val_accuracy: 0.7565 - val_balanced_acc: 0.6041 - lr: 0.0010\n",
            "Epoch 10/50\n",
            "274/274 [==============================] - ETA: 0s - loss: 0.1822 - accuracy: 0.9362 - balanced_acc: 0.9362\n",
            "Epoch 10: val_balanced_acc did not improve from 0.60405\n",
            "274/274 [==============================] - 63s 230ms/step - loss: 0.1822 - accuracy: 0.9362 - balanced_acc: 0.9362 - val_loss: 0.7485 - val_accuracy: 0.7202 - val_balanced_acc: 0.4674 - lr: 0.0010\n",
            "Epoch 11/50\n",
            "274/274 [==============================] - ETA: 0s - loss: 0.1323 - accuracy: 0.9538 - balanced_acc: 0.9542\n",
            "Epoch 11: val_balanced_acc did not improve from 0.60405\n",
            "274/274 [==============================] - 63s 230ms/step - loss: 0.1323 - accuracy: 0.9538 - balanced_acc: 0.9542 - val_loss: 0.6793 - val_accuracy: 0.8083 - val_balanced_acc: 0.4739 - lr: 0.0010\n",
            "Epoch 12/50\n",
            "274/274 [==============================] - ETA: 0s - loss: 0.1128 - accuracy: 0.9592 - balanced_acc: 0.9594\n",
            "Epoch 12: val_balanced_acc did not improve from 0.60405\n",
            "274/274 [==============================] - 63s 230ms/step - loss: 0.1128 - accuracy: 0.9592 - balanced_acc: 0.9594 - val_loss: 0.9407 - val_accuracy: 0.7358 - val_balanced_acc: 0.5584 - lr: 0.0010\n",
            "Epoch 13/50\n",
            "274/274 [==============================] - ETA: 0s - loss: 0.1172 - accuracy: 0.9589 - balanced_acc: 0.9586\n",
            "Epoch 13: val_balanced_acc did not improve from 0.60405\n",
            "274/274 [==============================] - 63s 230ms/step - loss: 0.1172 - accuracy: 0.9589 - balanced_acc: 0.9586 - val_loss: 0.8543 - val_accuracy: 0.7513 - val_balanced_acc: 0.4221 - lr: 0.0010\n",
            "Epoch 14/50\n",
            "274/274 [==============================] - ETA: 0s - loss: 0.0937 - accuracy: 0.9656 - balanced_acc: 0.9653\n",
            "Epoch 14: val_balanced_acc improved from 0.60405 to 0.60462, saving model to /content/drive/MyDrive/PHD/Model/best_model_smote after smote on input space_under70_128px.h5\n",
            "274/274 [==============================] - 64s 235ms/step - loss: 0.0937 - accuracy: 0.9656 - balanced_acc: 0.9653 - val_loss: 0.9485 - val_accuracy: 0.7409 - val_balanced_acc: 0.6046 - lr: 0.0010\n",
            "Epoch 15/50\n",
            "274/274 [==============================] - ETA: 0s - loss: 0.0847 - accuracy: 0.9672 - balanced_acc: 0.9672\n",
            "Epoch 15: val_balanced_acc improved from 0.60462 to 0.60492, saving model to /content/drive/MyDrive/PHD/Model/best_model_smote after smote on input space_under70_128px.h5\n",
            "274/274 [==============================] - 65s 236ms/step - loss: 0.0847 - accuracy: 0.9672 - balanced_acc: 0.9672 - val_loss: 0.8851 - val_accuracy: 0.7617 - val_balanced_acc: 0.6049 - lr: 0.0010\n",
            "Epoch 16/50\n",
            "274/274 [==============================] - ETA: 0s - loss: 0.1119 - accuracy: 0.9608 - balanced_acc: 0.9619\n",
            "Epoch 16: val_balanced_acc did not improve from 0.60492\n",
            "274/274 [==============================] - 63s 230ms/step - loss: 0.1119 - accuracy: 0.9608 - balanced_acc: 0.9619 - val_loss: 0.9073 - val_accuracy: 0.7461 - val_balanced_acc: 0.4583 - lr: 0.0010\n",
            "Epoch 17/50\n",
            "274/274 [==============================] - ETA: 0s - loss: 0.0891 - accuracy: 0.9680 - balanced_acc: 0.9673\n",
            "Epoch 17: val_balanced_acc did not improve from 0.60492\n",
            "274/274 [==============================] - 63s 230ms/step - loss: 0.0891 - accuracy: 0.9680 - balanced_acc: 0.9673 - val_loss: 1.0749 - val_accuracy: 0.7461 - val_balanced_acc: 0.4664 - lr: 0.0010\n",
            "Epoch 18/50\n",
            "274/274 [==============================] - ETA: 0s - loss: 0.0728 - accuracy: 0.9697 - balanced_acc: 0.9695\n",
            "Epoch 18: val_balanced_acc did not improve from 0.60492\n",
            "274/274 [==============================] - 63s 230ms/step - loss: 0.0728 - accuracy: 0.9697 - balanced_acc: 0.9695 - val_loss: 0.9198 - val_accuracy: 0.7824 - val_balanced_acc: 0.4904 - lr: 0.0010\n",
            "Epoch 19/50\n",
            "274/274 [==============================] - ETA: 0s - loss: 0.0714 - accuracy: 0.9697 - balanced_acc: 0.9692\n",
            "Epoch 19: val_balanced_acc did not improve from 0.60492\n",
            "274/274 [==============================] - 63s 230ms/step - loss: 0.0714 - accuracy: 0.9697 - balanced_acc: 0.9692 - val_loss: 0.9360 - val_accuracy: 0.7668 - val_balanced_acc: 0.4276 - lr: 0.0010\n",
            "Epoch 20/50\n",
            "274/274 [==============================] - ETA: 0s - loss: 0.0679 - accuracy: 0.9707 - balanced_acc: 0.9706\n",
            "Epoch 20: val_balanced_acc did not improve from 0.60492\n",
            "274/274 [==============================] - 63s 230ms/step - loss: 0.0679 - accuracy: 0.9707 - balanced_acc: 0.9706 - val_loss: 1.0625 - val_accuracy: 0.7565 - val_balanced_acc: 0.4423 - lr: 0.0010\n",
            "Epoch 21/50\n",
            "274/274 [==============================] - ETA: 0s - loss: 0.0684 - accuracy: 0.9706 - balanced_acc: 0.9714\n",
            "Epoch 21: val_balanced_acc did not improve from 0.60492\n",
            "274/274 [==============================] - 63s 230ms/step - loss: 0.0684 - accuracy: 0.9706 - balanced_acc: 0.9714 - val_loss: 0.9930 - val_accuracy: 0.7513 - val_balanced_acc: 0.5402 - lr: 0.0010\n",
            "Epoch 22/50\n",
            "274/274 [==============================] - ETA: 0s - loss: 0.0651 - accuracy: 0.9722 - balanced_acc: 0.9714\n",
            "Epoch 22: val_balanced_acc improved from 0.60492 to 0.61787, saving model to /content/drive/MyDrive/PHD/Model/best_model_smote after smote on input space_under70_128px.h5\n",
            "274/274 [==============================] - 64s 235ms/step - loss: 0.0651 - accuracy: 0.9722 - balanced_acc: 0.9714 - val_loss: 0.9719 - val_accuracy: 0.7876 - val_balanced_acc: 0.6179 - lr: 0.0010\n",
            "Epoch 23/50\n",
            "274/274 [==============================] - ETA: 0s - loss: 0.0630 - accuracy: 0.9713 - balanced_acc: 0.9717\n",
            "Epoch 23: val_balanced_acc did not improve from 0.61787\n",
            "274/274 [==============================] - 63s 230ms/step - loss: 0.0630 - accuracy: 0.9713 - balanced_acc: 0.9717 - val_loss: 1.0744 - val_accuracy: 0.7772 - val_balanced_acc: 0.5578 - lr: 0.0010\n",
            "Epoch 24/50\n",
            "274/274 [==============================] - ETA: 0s - loss: 0.0624 - accuracy: 0.9720 - balanced_acc: 0.9725\n",
            "Epoch 24: val_balanced_acc did not improve from 0.61787\n",
            "274/274 [==============================] - 63s 230ms/step - loss: 0.0624 - accuracy: 0.9720 - balanced_acc: 0.9725 - val_loss: 1.0121 - val_accuracy: 0.7927 - val_balanced_acc: 0.5769 - lr: 0.0010\n",
            "Epoch 25/50\n",
            "274/274 [==============================] - ETA: 0s - loss: 0.0629 - accuracy: 0.9720 - balanced_acc: 0.9717\n",
            "Epoch 25: val_balanced_acc did not improve from 0.61787\n",
            "274/274 [==============================] - 63s 230ms/step - loss: 0.0629 - accuracy: 0.9720 - balanced_acc: 0.9717 - val_loss: 1.0703 - val_accuracy: 0.7668 - val_balanced_acc: 0.4281 - lr: 0.0010\n",
            "Epoch 26/50\n",
            "274/274 [==============================] - ETA: 0s - loss: 0.0581 - accuracy: 0.9741 - balanced_acc: 0.9741\n",
            "Epoch 26: val_balanced_acc did not improve from 0.61787\n",
            "274/274 [==============================] - 63s 230ms/step - loss: 0.0581 - accuracy: 0.9741 - balanced_acc: 0.9741 - val_loss: 1.1444 - val_accuracy: 0.7772 - val_balanced_acc: 0.4367 - lr: 0.0010\n",
            "Epoch 27/50\n",
            "274/274 [==============================] - ETA: 0s - loss: 0.0596 - accuracy: 0.9733 - balanced_acc: 0.9738\n",
            "Epoch 27: val_balanced_acc did not improve from 0.61787\n",
            "274/274 [==============================] - 63s 230ms/step - loss: 0.0596 - accuracy: 0.9733 - balanced_acc: 0.9738 - val_loss: 1.1277 - val_accuracy: 0.7617 - val_balanced_acc: 0.4247 - lr: 0.0010\n",
            "Epoch 28/50\n",
            "274/274 [==============================] - ETA: 0s - loss: 0.0580 - accuracy: 0.9734 - balanced_acc: 0.9726\n",
            "Epoch 28: val_balanced_acc did not improve from 0.61787\n",
            "274/274 [==============================] - 63s 230ms/step - loss: 0.0580 - accuracy: 0.9734 - balanced_acc: 0.9726 - val_loss: 1.0934 - val_accuracy: 0.7617 - val_balanced_acc: 0.4308 - lr: 0.0010\n",
            "Epoch 29/50\n",
            "274/274 [==============================] - ETA: 0s - loss: 0.0590 - accuracy: 0.9729 - balanced_acc: 0.9729\n",
            "Epoch 29: val_balanced_acc did not improve from 0.61787\n",
            "274/274 [==============================] - 63s 230ms/step - loss: 0.0590 - accuracy: 0.9729 - balanced_acc: 0.9729 - val_loss: 1.0462 - val_accuracy: 0.7824 - val_balanced_acc: 0.5571 - lr: 0.0010\n",
            "Epoch 30/50\n",
            "274/274 [==============================] - ETA: 0s - loss: 0.1311 - accuracy: 0.9542 - balanced_acc: 0.9548\n",
            "Epoch 30: val_balanced_acc did not improve from 0.61787\n",
            "274/274 [==============================] - 63s 230ms/step - loss: 0.1311 - accuracy: 0.9542 - balanced_acc: 0.9548 - val_loss: 0.8539 - val_accuracy: 0.7617 - val_balanced_acc: 0.4944 - lr: 0.0010\n",
            "Epoch 31/50\n",
            "274/274 [==============================] - ETA: 0s - loss: 0.0633 - accuracy: 0.9740 - balanced_acc: 0.9741\n",
            "Epoch 31: val_balanced_acc did not improve from 0.61787\n",
            "274/274 [==============================] - 63s 230ms/step - loss: 0.0633 - accuracy: 0.9740 - balanced_acc: 0.9741 - val_loss: 1.0573 - val_accuracy: 0.7513 - val_balanced_acc: 0.4414 - lr: 0.0010\n",
            "Epoch 32/50\n",
            "274/274 [==============================] - ETA: 0s - loss: 0.0551 - accuracy: 0.9754 - balanced_acc: 0.9754\n",
            "Epoch 32: val_balanced_acc did not improve from 0.61787\n",
            "274/274 [==============================] - 63s 230ms/step - loss: 0.0551 - accuracy: 0.9754 - balanced_acc: 0.9754 - val_loss: 0.9604 - val_accuracy: 0.7772 - val_balanced_acc: 0.4643 - lr: 0.0010\n",
            "Epoch 33/50\n",
            "274/274 [==============================] - ETA: 0s - loss: 0.0549 - accuracy: 0.9755 - balanced_acc: 0.9746\n",
            "Epoch 33: val_balanced_acc did not improve from 0.61787\n",
            "274/274 [==============================] - 63s 230ms/step - loss: 0.0549 - accuracy: 0.9755 - balanced_acc: 0.9746 - val_loss: 1.0421 - val_accuracy: 0.7720 - val_balanced_acc: 0.4831 - lr: 0.0010\n",
            "Epoch 34/50\n",
            "274/274 [==============================] - ETA: 0s - loss: 0.0553 - accuracy: 0.9741 - balanced_acc: 0.9745\n",
            "Epoch 34: val_balanced_acc did not improve from 0.61787\n",
            "274/274 [==============================] - 63s 230ms/step - loss: 0.0553 - accuracy: 0.9741 - balanced_acc: 0.9745 - val_loss: 1.0688 - val_accuracy: 0.7668 - val_balanced_acc: 0.5885 - lr: 0.0010\n",
            "Epoch 35/50\n",
            "274/274 [==============================] - ETA: 0s - loss: 0.2275 - accuracy: 0.9218 - balanced_acc: 0.9232\n",
            "Epoch 35: val_balanced_acc did not improve from 0.61787\n",
            "274/274 [==============================] - 63s 230ms/step - loss: 0.2275 - accuracy: 0.9218 - balanced_acc: 0.9232 - val_loss: 0.7212 - val_accuracy: 0.7824 - val_balanced_acc: 0.4891 - lr: 0.0010\n",
            "Epoch 36/50\n",
            "274/274 [==============================] - ETA: 0s - loss: 0.0767 - accuracy: 0.9684 - balanced_acc: 0.9688\n",
            "Epoch 36: val_balanced_acc did not improve from 0.61787\n",
            "274/274 [==============================] - 63s 230ms/step - loss: 0.0767 - accuracy: 0.9684 - balanced_acc: 0.9688 - val_loss: 0.9237 - val_accuracy: 0.7565 - val_balanced_acc: 0.4727 - lr: 0.0010\n",
            "Epoch 37/50\n",
            "274/274 [==============================] - ETA: 0s - loss: 0.0574 - accuracy: 0.9737 - balanced_acc: 0.9734\n",
            "Epoch 37: val_balanced_acc did not improve from 0.61787\n",
            "274/274 [==============================] - 63s 230ms/step - loss: 0.0574 - accuracy: 0.9737 - balanced_acc: 0.9734 - val_loss: 1.0095 - val_accuracy: 0.7927 - val_balanced_acc: 0.4909 - lr: 0.0010\n",
            "Epoch 38/50\n",
            "274/274 [==============================] - ETA: 0s - loss: 0.0539 - accuracy: 0.9756 - balanced_acc: 0.9759\n",
            "Epoch 38: val_balanced_acc did not improve from 0.61787\n",
            "274/274 [==============================] - 63s 230ms/step - loss: 0.0539 - accuracy: 0.9756 - balanced_acc: 0.9759 - val_loss: 1.0573 - val_accuracy: 0.7772 - val_balanced_acc: 0.4771 - lr: 0.0010\n",
            "Epoch 39/50\n",
            "274/274 [==============================] - ETA: 0s - loss: 0.0528 - accuracy: 0.9758 - balanced_acc: 0.9756\n",
            "Epoch 39: val_balanced_acc did not improve from 0.61787\n",
            "274/274 [==============================] - 63s 230ms/step - loss: 0.0528 - accuracy: 0.9758 - balanced_acc: 0.9756 - val_loss: 1.0959 - val_accuracy: 0.7824 - val_balanced_acc: 0.6027 - lr: 0.0010\n",
            "Epoch 40/50\n",
            "274/274 [==============================] - ETA: 0s - loss: 0.0523 - accuracy: 0.9769 - balanced_acc: 0.9770\n",
            "Epoch 40: val_balanced_acc did not improve from 0.61787\n",
            "274/274 [==============================] - 63s 230ms/step - loss: 0.0523 - accuracy: 0.9769 - balanced_acc: 0.9770 - val_loss: 1.0108 - val_accuracy: 0.7979 - val_balanced_acc: 0.6125 - lr: 0.0010\n",
            "Epoch 41/50\n",
            "274/274 [==============================] - ETA: 0s - loss: 0.0525 - accuracy: 0.9750 - balanced_acc: 0.9756\n",
            "Epoch 41: val_balanced_acc did not improve from 0.61787\n",
            "274/274 [==============================] - 63s 230ms/step - loss: 0.0525 - accuracy: 0.9750 - balanced_acc: 0.9756 - val_loss: 1.2024 - val_accuracy: 0.7565 - val_balanced_acc: 0.6071 - lr: 0.0010\n",
            "Epoch 42/50\n",
            "274/274 [==============================] - ETA: 0s - loss: 0.0533 - accuracy: 0.9737 - balanced_acc: 0.9745\n",
            "Epoch 42: ReduceLROnPlateau reducing learning rate to 0.0005000000237487257.\n",
            "\n",
            "Epoch 42: val_balanced_acc did not improve from 0.61787\n",
            "274/274 [==============================] - 63s 230ms/step - loss: 0.0533 - accuracy: 0.9737 - balanced_acc: 0.9745 - val_loss: 1.0176 - val_accuracy: 0.7824 - val_balanced_acc: 0.4887 - lr: 0.0010\n",
            "Epoch 43/50\n",
            "274/274 [==============================] - ETA: 0s - loss: 0.0416 - accuracy: 0.9815 - balanced_acc: 0.9812\n",
            "Epoch 43: val_balanced_acc did not improve from 0.61787\n",
            "274/274 [==============================] - 63s 230ms/step - loss: 0.0416 - accuracy: 0.9815 - balanced_acc: 0.9812 - val_loss: 1.0973 - val_accuracy: 0.7876 - val_balanced_acc: 0.6064 - lr: 5.0000e-04\n",
            "Epoch 44/50\n",
            "274/274 [==============================] - ETA: 0s - loss: 0.0413 - accuracy: 0.9809 - balanced_acc: 0.9811\n",
            "Epoch 44: val_balanced_acc improved from 0.61787 to 0.62571, saving model to /content/drive/MyDrive/PHD/Model/best_model_smote after smote on input space_under70_128px.h5\n",
            "274/274 [==============================] - 65s 236ms/step - loss: 0.0413 - accuracy: 0.9809 - balanced_acc: 0.9811 - val_loss: 1.1326 - val_accuracy: 0.8083 - val_balanced_acc: 0.6257 - lr: 5.0000e-04\n",
            "Epoch 45/50\n",
            "274/274 [==============================] - ETA: 0s - loss: 0.0411 - accuracy: 0.9805 - balanced_acc: 0.9804\n",
            "Epoch 45: val_balanced_acc did not improve from 0.62571\n",
            "274/274 [==============================] - 63s 230ms/step - loss: 0.0411 - accuracy: 0.9805 - balanced_acc: 0.9804 - val_loss: 1.1530 - val_accuracy: 0.7720 - val_balanced_acc: 0.4876 - lr: 5.0000e-04\n",
            "Epoch 46/50\n",
            "274/274 [==============================] - ETA: 0s - loss: 0.0400 - accuracy: 0.9810 - balanced_acc: 0.9813\n",
            "Epoch 46: val_balanced_acc did not improve from 0.62571\n",
            "274/274 [==============================] - 63s 230ms/step - loss: 0.0400 - accuracy: 0.9810 - balanced_acc: 0.9813 - val_loss: 1.1829 - val_accuracy: 0.7668 - val_balanced_acc: 0.4657 - lr: 5.0000e-04\n",
            "Epoch 47/50\n",
            "274/274 [==============================] - ETA: 0s - loss: 0.0394 - accuracy: 0.9813 - balanced_acc: 0.9809\n",
            "Epoch 47: val_balanced_acc did not improve from 0.62571\n",
            "274/274 [==============================] - 63s 231ms/step - loss: 0.0394 - accuracy: 0.9813 - balanced_acc: 0.9809 - val_loss: 1.1758 - val_accuracy: 0.7979 - val_balanced_acc: 0.4963 - lr: 5.0000e-04\n",
            "Epoch 48/50\n",
            "274/274 [==============================] - ETA: 0s - loss: 0.0411 - accuracy: 0.9799 - balanced_acc: 0.9797\n",
            "Epoch 48: val_balanced_acc did not improve from 0.62571\n",
            "274/274 [==============================] - 63s 230ms/step - loss: 0.0411 - accuracy: 0.9799 - balanced_acc: 0.9797 - val_loss: 1.1416 - val_accuracy: 0.7927 - val_balanced_acc: 0.4868 - lr: 5.0000e-04\n",
            "Epoch 49/50\n",
            "274/274 [==============================] - ETA: 0s - loss: 0.0396 - accuracy: 0.9809 - balanced_acc: 0.9811\n",
            "Epoch 49: val_balanced_acc did not improve from 0.62571\n",
            "274/274 [==============================] - 63s 230ms/step - loss: 0.0396 - accuracy: 0.9809 - balanced_acc: 0.9811 - val_loss: 1.1791 - val_accuracy: 0.7772 - val_balanced_acc: 0.4732 - lr: 5.0000e-04\n",
            "Epoch 50/50\n",
            "274/274 [==============================] - ETA: 0s - loss: 0.0399 - accuracy: 0.9805 - balanced_acc: 0.9807\n",
            "Epoch 50: val_balanced_acc did not improve from 0.62571\n",
            "274/274 [==============================] - 63s 230ms/step - loss: 0.0399 - accuracy: 0.9805 - balanced_acc: 0.9807 - val_loss: 1.2018 - val_accuracy: 0.7772 - val_balanced_acc: 0.4773 - lr: 5.0000e-04\n"
          ]
        },
        {
          "output_type": "display_data",
          "data": {
            "text/plain": [
              "<Figure size 432x288 with 2 Axes>"
            ],
            "image/png": "[encoded data removed]"
          },
          "metadata": {
            "needs_background": "light"
          }
        }
      ],
      "source": [
        "# define model\n",
        "model = define_model_resnet()\n",
        "#Callbacks\n",
        "best_model_fpath = '/content/drive/MyDrive/PHD/Model/best_model_'+exp_name+'_'+dataset_name+'.h5'\n",
        "print(\"best_model_fpath:\"+best_model_fpath)\n",
        "mc = ModelCheckpoint(best_model_fpath, monitor='val_balanced_acc', mode='max', verbose=1, save_best_only=True)\n",
        "learning_rate_reduction = ReduceLROnPlateau(monitor='val_balanced_acc', patience=20, verbose=1, factor=0.5, min_lr=0.00001)\n",
        "early_stopping_monitor = EarlyStopping(patience=40,monitor='val_balanced_acc')\n",
        "#model.summary()\n",
        "hst = model.fit(X_train, y_train, epochs=EPOCHS, batch_size=BATCH_SIZE, validation_data=(X_val, y_val), verbose=1,\n",
        "                    steps_per_epoch=X_train.shape[0] // BATCH_SIZE, \n",
        "                    #callbacks=[learning_rate_reduction,early_stopping_monitor, mc])\n",
        "                    callbacks=[learning_rate_reduction,mc])\n",
        "# learning curves\n",
        "summarize_diagnostics(hst)"
      ]
    },
    {
      "cell_type": "code",
      "execution_count": null,
      "metadata": {
        "id": "SPz8NH1Oylv9"
      },
      "outputs": [],
      "source": [
        "#save last model\n",
        "last_model_fpath = '/content/drive/MyDrive/PHD/Model/last_model_'+exp_name+'_'+dataset_name+'.h5'\n",
        "#last_model_fpath = '/content/drive/MyDrive/PHD/Model/last_model_'+'no_smote'+'_'+dataset_name+'.h5'\n",
        "model.save(last_model_fpath)\n",
        "print(\"model saved\")"
      ]
    },
    {
      "cell_type": "code",
      "execution_count": null,
      "metadata": {
        "id": "vXnW3lmCgln3"
      },
      "outputs": [],
      "source": [
        "# summarize history for accuracy\n",
        "plt.plot(hst.history['accuracy'])\n",
        "plt.plot(hst.history['balanced_acc'])\n",
        "plt.plot(hst.history['val_accuracy'])\n",
        "plt.plot(hst.history['val_balanced_acc'])\n",
        "plt.title('Model accuracy')\n",
        "plt.ylabel('Performance')\n",
        "plt.xlabel('epoch')\n",
        "plt.legend(['train accuracy', 'train balanced acc.', 'val. accuracy', 'val. balanced acc.'], loc='lower right')\n",
        "plt.show()"
      ]
    },
    {
      "cell_type": "markdown",
      "metadata": {
        "id": "icgjmi-4UIT-"
      },
      "source": [
        "#Evaluate"
      ]
    },
    {
      "cell_type": "code",
      "execution_count": 33,
      "metadata": {
        "colab": {
          "base_uri": "https://localhost:8080/"
        },
        "id": "lS3ewyxO_anU",
        "outputId": "2d2165ec-e7aa-47e0-b5d3-ff9d4bc65c92"
      },
      "outputs": [
        {
          "output_type": "stream",
          "name": "stdout",
          "text": [
            "167/167 [==============================] - 7s 37ms/step\n",
            "7/7 [==============================] - 0s 36ms/step\n",
            "accuracy on training 1.0\n",
            "balanced accuracy on training 1.0\n",
            "accuracy on validation 0.8134715025906736\n",
            "balanced accuracy on validation 0.7570508469463173\n",
            "Score on val data:  (0.7747822450214207, 0.7570508469463173, 0.7498695315313916, None)\n"
          ]
        }
      ],
      "source": [
        "#last_model_fpath = '/content/drive/MyDrive/PHD/Model/last_model_smote_under70_128px.h5'\n",
        "#last_model_fpath = '/content/drive/MyDrive/PHD/Model/last_model_'+exp_name+'_'+dataset_name+'.h5'\n",
        "last_model_fpath = '/content/drive/MyDrive/PHD/Model/last_model_'+'no_smote'+'_'+dataset_name+'.h5'\n",
        "last_model = load_model(last_model_fpath, custom_objects={'balanced_acc' : balanced_acc})\n",
        "y_train_pred = last_model.predict(X_train)\n",
        "y_val_pred = last_model.predict(X_val)\n",
        "\n",
        "#print('accuracy on training',accuracy_score(np.argmax(y_train, axis=1), np.argmax(y_train_pred, axis=1)))\n",
        "print('accuracy on training',accuracy_score(np.argmax(y_train, axis=1), np.argmax(y_train_pred, axis=1)))\n",
        "print('balanced accuracy on training',balanced_accuracy_score(np.argmax(y_train, axis=1), np.argmax(y_train_pred, axis=1)))\n",
        "print('accuracy on validation',accuracy_score(np.argmax(y_val, axis=1), np.argmax(y_val_pred, axis=1)))\n",
        "print('balanced accuracy on validation',balanced_accuracy_score(np.argmax(y_val, axis=1), np.argmax(y_val_pred, axis=1)))\n",
        "print('Score on val data: ',precision_recall_fscore_support(np.argmax(y_val, axis=1), np.argmax(y_val_pred, axis=1), average='macro'))"
      ]
    },
    {
      "cell_type": "code",
      "execution_count": 34,
      "metadata": {
        "id": "W3IyWjdGG4Xq",
        "colab": {
          "base_uri": "https://localhost:8080/"
        },
        "outputId": "46b85d26-1ebb-4e5c-9734-d35f53e3c032"
      },
      "outputs": [
        {
          "output_type": "stream",
          "name": "stdout",
          "text": [
            "best_model_fpath:  /content/drive/MyDrive/PHD/Model/best_model_no_smote_under70_128px.h5\n",
            "167/167 [==============================] - 7s 37ms/step\n",
            "7/7 [==============================] - 0s 36ms/step\n",
            "accuracy on training 0.992858485247134\n",
            "balanced accuracy on training 0.99055145365288\n",
            "accuracy on validation 0.8652849740932642\n",
            "balanced accuracy on validation 0.80326862452298\n",
            "Score on val data:  (0.8062119584675976, 0.80326862452298, 0.7697449361934251, None)\n"
          ]
        }
      ],
      "source": [
        "best_model_fpath = '/content/drive/MyDrive/PHD/Model/best_model_'+'no_smote'+'_'+dataset_name+'.h5'\n",
        "#best_model_fpath = '/content/drive/MyDrive/PHD/Model/best_model_smote on input space_under70_128px.h5'\n",
        "print('best_model_fpath: ',best_model_fpath)\n",
        "best_model = load_model(best_model_fpath, custom_objects={'balanced_acc' : balanced_acc})\n",
        "y_train_pred = best_model.predict(X_train)\n",
        "y_val_pred = best_model.predict(X_val)\n",
        "\n",
        "print('accuracy on training',accuracy_score(np.argmax(y_train, axis=1), np.argmax(y_train_pred, axis=1)))\n",
        "print('balanced accuracy on training',balanced_accuracy_score(np.argmax(y_train, axis=1), np.argmax(y_train_pred, axis=1)))\n",
        "print('accuracy on validation',accuracy_score(np.argmax(y_val, axis=1), np.argmax(y_val_pred, axis=1)))\n",
        "print('balanced accuracy on validation',balanced_accuracy_score(np.argmax(y_val, axis=1), np.argmax(y_val_pred, axis=1)))\n",
        "print('Score on val data: ',precision_recall_fscore_support(np.argmax(y_val, axis=1), np.argmax(y_val_pred, axis=1), average='macro'))"
      ]
    },
    {
      "cell_type": "code",
      "source": [
        "print(exp_name,dataset_name)"
      ],
      "metadata": {
        "colab": {
          "base_uri": "https://localhost:8080/"
        },
        "id": "kaTGEWQ7uDAx",
        "outputId": "d0a91595-4ef8-4ffd-d6a8-e6f35796966c"
      },
      "execution_count": 15,
      "outputs": [
        {
          "output_type": "stream",
          "name": "stdout",
          "text": [
            "smote after smote on input space under70_128px\n"
          ]
        }
      ]
    },
    {
      "cell_type": "markdown",
      "metadata": {
        "id": "iDRWiTnO0MGh"
      },
      "source": [
        "#Cut-off"
      ]
    },
    {
      "cell_type": "code",
      "execution_count": null,
      "metadata": {
        "id": "tGnCoIdLyDHS"
      },
      "outputs": [],
      "source": [
        "df_val_pred = pd.DataFrame(y_val_pred, columns = ['AKIEC', 'BCC', 'BKL', 'DF', 'MEL', 'NV', 'VASC'])"
      ]
    },
    {
      "cell_type": "code",
      "execution_count": null,
      "metadata": {
        "id": "QdyCbloQyWTC",
        "colab": {
          "base_uri": "https://localhost:8080/",
          "height": 337
        },
        "outputId": "2434e5f4-d6f2-45ea-8afd-7d8ec66b0d45"
      },
      "outputs": [
        {
          "output_type": "execute_result",
          "data": {
            "text/plain": [
              "          AKIEC           BCC           BKL            DF           MEL  \\\n",
              "0  3.090921e-07  9.996200e-01  2.427639e-04  6.437593e-05  1.916536e-05   \n",
              "1  1.375006e-15  1.271707e-15  7.886792e-10  3.873745e-13  6.200786e-07   \n",
              "2  2.292977e-02  9.769607e-01  3.134560e-05  3.750155e-06  1.027365e-08   \n",
              "3  3.805227e-16  1.073426e-13  1.566999e-07  2.658983e-14  4.196105e-05   \n",
              "4  2.687866e-13  2.825541e-15  1.501939e-08  2.123309e-14  5.977655e-08   \n",
              "\n",
              "             NV          VASC  0.0  0.025  0.05  0.075  0.1  0.125  0.15  \\\n",
              "0  5.326564e-05  1.437628e-07    1      0     0      0    0      0     0   \n",
              "1  9.999994e-01  6.723950e-14    1      0     0      0    0      0     0   \n",
              "2  5.761424e-09  7.435224e-05    1      0     0      0    0      0     0   \n",
              "3  9.999579e-01  1.634144e-08    1      0     0      0    0      0     0   \n",
              "4  9.999999e-01  1.584354e-11    1      0     0      0    0      0     0   \n",
              "\n",
              "   0.175  0.2  0.225  0.25  \n",
              "0      0    0      0     0  \n",
              "1      0    0      0     0  \n",
              "2      0    0      0     0  \n",
              "3      0    0      0     0  \n",
              "4      0    0      0     0  "
            ],
            "text/html": [
              "\n",
              "  <div id=\"df-7b7dda8c-99a5-44cb-bbe2-70b86e21d791\">\n",
              "    <div class=\"colab-df-container\">\n",
              "      <div>\n",
              "<style scoped>\n",
              "    .dataframe tbody tr th:only-of-type {\n",
              "        vertical-align: middle;\n",
              "    }\n",
              "\n",
              "    .dataframe tbody tr th {\n",
              "        vertical-align: top;\n",
              "    }\n",
              "\n",
              "    .dataframe thead th {\n",
              "        text-align: right;\n",
              "    }\n",
              "</style>\n",
              "<table border=\"1\" class=\"dataframe\">\n",
              "  <thead>\n",
              "    <tr style=\"text-align: right;\">\n",
              "      <th></th>\n",
              "      <th>AKIEC</th>\n",
              "      <th>BCC</th>\n",
              "      <th>BKL</th>\n",
              "      <th>DF</th>\n",
              "      <th>MEL</th>\n",
              "      <th>NV</th>\n",
              "      <th>VASC</th>\n",
              "      <th>0.0</th>\n",
              "      <th>0.025</th>\n",
              "      <th>0.05</th>\n",
              "      <th>0.075</th>\n",
              "      <th>0.1</th>\n",
              "      <th>0.125</th>\n",
              "      <th>0.15</th>\n",
              "      <th>0.175</th>\n",
              "      <th>0.2</th>\n",
              "      <th>0.225</th>\n",
              "      <th>0.25</th>\n",
              "    </tr>\n",
              "  </thead>\n",
              "  <tbody>\n",
              "    <tr>\n",
              "      <th>0</th>\n",
              "      <td>3.090921e-07</td>\n",
              "      <td>9.996200e-01</td>\n",
              "      <td>2.427639e-04</td>\n",
              "      <td>6.437593e-05</td>\n",
              "      <td>1.916536e-05</td>\n",
              "      <td>5.326564e-05</td>\n",
              "      <td>1.437628e-07</td>\n",
              "      <td>1</td>\n",
              "      <td>0</td>\n",
              "      <td>0</td>\n",
              "      <td>0</td>\n",
              "      <td>0</td>\n",
              "      <td>0</td>\n",
              "      <td>0</td>\n",
              "      <td>0</td>\n",
              "      <td>0</td>\n",
              "      <td>0</td>\n",
              "      <td>0</td>\n",
              "    </tr>\n",
              "    <tr>\n",
              "      <th>1</th>\n",
              "      <td>1.375006e-15</td>\n",
              "      <td>1.271707e-15</td>\n",
              "      <td>7.886792e-10</td>\n",
              "      <td>3.873745e-13</td>\n",
              "      <td>6.200786e-07</td>\n",
              "      <td>9.999994e-01</td>\n",
              "      <td>6.723950e-14</td>\n",
              "      <td>1</td>\n",
              "      <td>0</td>\n",
              "      <td>0</td>\n",
              "      <td>0</td>\n",
              "      <td>0</td>\n",
              "      <td>0</td>\n",
              "      <td>0</td>\n",
              "      <td>0</td>\n",
              "      <td>0</td>\n",
              "      <td>0</td>\n",
              "      <td>0</td>\n",
              "    </tr>\n",
              "    <tr>\n",
              "      <th>2</th>\n",
              "      <td>2.292977e-02</td>\n",
              "      <td>9.769607e-01</td>\n",
              "      <td>3.134560e-05</td>\n",
              "      <td>3.750155e-06</td>\n",
              "      <td>1.027365e-08</td>\n",
              "      <td>5.761424e-09</td>\n",
              "      <td>7.435224e-05</td>\n",
              "      <td>1</td>\n",
              "      <td>0</td>\n",
              "      <td>0</td>\n",
              "      <td>0</td>\n",
              "      <td>0</td>\n",
              "      <td>0</td>\n",
              "      <td>0</td>\n",
              "      <td>0</td>\n",
              "      <td>0</td>\n",
              "      <td>0</td>\n",
              "      <td>0</td>\n",
              "    </tr>\n",
              "    <tr>\n",
              "      <th>3</th>\n",
              "      <td>3.805227e-16</td>\n",
              "      <td>1.073426e-13</td>\n",
              "      <td>1.566999e-07</td>\n",
              "      <td>2.658983e-14</td>\n",
              "      <td>4.196105e-05</td>\n",
              "      <td>9.999579e-01</td>\n",
              "      <td>1.634144e-08</td>\n",
              "      <td>1</td>\n",
              "      <td>0</td>\n",
              "      <td>0</td>\n",
              "      <td>0</td>\n",
              "      <td>0</td>\n",
              "      <td>0</td>\n",
              "      <td>0</td>\n",
              "      <td>0</td>\n",
              "      <td>0</td>\n",
              "      <td>0</td>\n",
              "      <td>0</td>\n",
              "    </tr>\n",
              "    <tr>\n",
              "      <th>4</th>\n",
              "      <td>2.687866e-13</td>\n",
              "      <td>2.825541e-15</td>\n",
              "      <td>1.501939e-08</td>\n",
              "      <td>2.123309e-14</td>\n",
              "      <td>5.977655e-08</td>\n",
              "      <td>9.999999e-01</td>\n",
              "      <td>1.584354e-11</td>\n",
              "      <td>1</td>\n",
              "      <td>0</td>\n",
              "      <td>0</td>\n",
              "      <td>0</td>\n",
              "      <td>0</td>\n",
              "      <td>0</td>\n",
              "      <td>0</td>\n",
              "      <td>0</td>\n",
              "      <td>0</td>\n",
              "      <td>0</td>\n",
              "      <td>0</td>\n",
              "    </tr>\n",
              "  </tbody>\n",
              "</table>\n",
              "</div>\n",
              "      <button class=\"colab-df-convert\" onclick=\"convertToInteractive('df-7b7dda8c-99a5-44cb-bbe2-70b86e21d791')\"\n",
              "              title=\"Convert this dataframe to an interactive table.\"\n",
              "              style=\"display:none;\">\n",
              "        \n",
              "  <svg xmlns=\"http://www.w3.org/2000/svg\" height=\"24px\"viewBox=\"0 0 24 24\"\n",
              "       width=\"24px\">\n",
              "    <path d=\"M0 0h24v24H0V0z\" fill=\"none\"/>\n",
              "    <path d=\"M18.56 5.44l.94 2.06.94-2.06 2.06-.94-2.06-.94-.94-2.06-.94 2.06-2.06.94zm-11 1L8.5 8.5l.94-2.06 2.06-.94-2.06-.94L8.5 2.5l-.94 2.06-2.06.94zm10 10l.94 2.06.94-2.06 2.06-.94-2.06-.94-.94-2.06-.94 2.06-2.06.94z\"/><path d=\"M17.41 7.96l-1.37-1.37c-.4-.4-.92-.59-1.43-.59-.52 0-1.04.2-1.43.59L10.3 9.45l-7.72 7.72c-.78.78-.78 2.05 0 2.83L4 21.41c.39.39.9.59 1.41.59.51 0 1.02-.2 1.41-.59l7.78-7.78 2.81-2.81c.8-.78.8-2.07 0-2.86zM5.41 20L4 18.59l7.72-7.72 1.47 1.35L5.41 20z\"/>\n",
              "  </svg>\n",
              "      </button>\n",
              "      \n",
              "  <style>\n",
              "    .colab-df-container {\n",
              "      display:flex;\n",
              "      flex-wrap:wrap;\n",
              "      gap: 12px;\n",
              "    }\n",
              "\n",
              "    .colab-df-convert {\n",
              "      background-color: #E8F0FE;\n",
              "      border: none;\n",
              "      border-radius: 50%;\n",
              "      cursor: pointer;\n",
              "      display: none;\n",
              "      fill: #1967D2;\n",
              "      height: 32px;\n",
              "      padding: 0 0 0 0;\n",
              "      width: 32px;\n",
              "    }\n",
              "\n",
              "    .colab-df-convert:hover {\n",
              "      background-color: #E2EBFA;\n",
              "      box-shadow: 0px 1px 2px rgba(60, 64, 67, 0.3), 0px 1px 3px 1px rgba(60, 64, 67, 0.15);\n",
              "      fill: #174EA6;\n",
              "    }\n",
              "\n",
              "    [theme=dark] .colab-df-convert {\n",
              "      background-color: #3B4455;\n",
              "      fill: #D2E3FC;\n",
              "    }\n",
              "\n",
              "    [theme=dark] .colab-df-convert:hover {\n",
              "      background-color: #434B5C;\n",
              "      box-shadow: 0px 1px 3px 1px rgba(0, 0, 0, 0.15);\n",
              "      filter: drop-shadow(0px 1px 2px rgba(0, 0, 0, 0.3));\n",
              "      fill: #FFFFFF;\n",
              "    }\n",
              "  </style>\n",
              "\n",
              "      <script>\n",
              "        const buttonEl =\n",
              "          document.querySelector('#df-7b7dda8c-99a5-44cb-bbe2-70b86e21d791 button.colab-df-convert');\n",
              "        buttonEl.style.display =\n",
              "          google.colab.kernel.accessAllowed ? 'block' : 'none';\n",
              "\n",
              "        async function convertToInteractive(key) {\n",
              "          const element = document.querySelector('#df-7b7dda8c-99a5-44cb-bbe2-70b86e21d791');\n",
              "          const dataTable =\n",
              "            await google.colab.kernel.invokeFunction('convertToInteractive',\n",
              "                                                     [key], {});\n",
              "          if (!dataTable) return;\n",
              "\n",
              "          const docLinkHtml = 'Like what you see? Visit the ' +\n",
              "            '<a target=\"_blank\" href=https://colab.research.google.com/notebooks/data_table.ipynb>data table notebook</a>'\n",
              "            + ' to learn more about interactive tables.';\n",
              "          element.innerHTML = '';\n",
              "          dataTable['output_type'] = 'display_data';\n",
              "          await google.colab.output.renderOutput(dataTable, element);\n",
              "          const docLink = document.createElement('div');\n",
              "          docLink.innerHTML = docLinkHtml;\n",
              "          element.appendChild(docLink);\n",
              "        }\n",
              "      </script>\n",
              "    </div>\n",
              "  </div>\n",
              "  "
            ]
          },
          "metadata": {},
          "execution_count": 14
        }
      ],
      "source": [
        "numbers = [float(x)/40 for x in range(11)]\n",
        "for i in numbers:\n",
        "    df_val_pred[i]= df_val_pred.MEL.map(lambda x: 1 if x > i else 0)\n",
        "df_val_pred.head()"
      ]
    },
    {
      "cell_type": "code",
      "execution_count": null,
      "metadata": {
        "id": "G4SQsRx73kgk"
      },
      "outputs": [],
      "source": [
        "y_val_true= [1 if x == 4 else 0 for x in np.argmax(y_val, axis=1)]"
      ]
    },
    {
      "cell_type": "code",
      "execution_count": null,
      "metadata": {
        "id": "QcUISWFi0J05"
      },
      "outputs": [],
      "source": [
        "#num = [0.0,0.05,0.1,0.15,0.2,0.25,0.3,0.35,0.4,0.45,0.5]\n",
        "cutoff_df = pd.DataFrame( columns = ['Probability','Accuracy','Sensitivity','Specificity'])\n",
        "for i in numbers:\n",
        "    cm1 = confusion_matrix(y_val_true, df_val_pred[i])\n",
        "    total1=sum(sum(cm1))\n",
        "    Accuracy = (cm1[0,0]+cm1[1,1])/total1\n",
        "    Specificity = cm1[0,0]/(cm1[0,0]+cm1[0,1])\n",
        "    Sensitivity = cm1[1,1]/(cm1[1,0]+cm1[1,1])\n",
        "    cutoff_df.loc[i] =[ i ,Accuracy,Sensitivity,Specificity]"
      ]
    },
    {
      "cell_type": "code",
      "execution_count": null,
      "metadata": {
        "id": "W31LSzov1tCt",
        "colab": {
          "base_uri": "https://localhost:8080/",
          "height": 265
        },
        "outputId": "11b69ad8-6b32-48dd-ea3a-48a678d7264e"
      },
      "outputs": [
        {
          "output_type": "display_data",
          "data": {
            "text/plain": [
              "<Figure size 432x288 with 1 Axes>"
            ],
            "image/png": "[encoded data removed]"
          },
          "metadata": {
            "needs_background": "light"
          }
        }
      ],
      "source": [
        "cutoff_df[['Accuracy','Sensitivity','Specificity']].plot()\n",
        "\n",
        "plt.show()"
      ]
    },
    {
      "cell_type": "code",
      "execution_count": null,
      "metadata": {
        "id": "P6CIKT94Jqye"
      },
      "outputs": [],
      "source": [
        "i = 0.025\n",
        "cm1 = confusion_matrix(y_val_true, df_val_pred[i])\n",
        "total1=sum(sum(cm1))\n",
        "Accuracy = (cm1[0,0]+cm1[1,1])/total1\n",
        "Specificity = cm1[0,0]/(cm1[0,0]+cm1[0,1])\n",
        "Sensitivity = cm1[1,1]/(cm1[1,0]+cm1[1,1])"
      ]
    },
    {
      "cell_type": "code",
      "execution_count": null,
      "metadata": {
        "id": "3U2tkFebL_VC",
        "colab": {
          "base_uri": "https://localhost:8080/"
        },
        "outputId": "30286149-e8ed-462a-8723-85b0eb1f057b"
      },
      "outputs": [
        {
          "output_type": "stream",
          "name": "stdout",
          "text": [
            "Accuracy:  0.8082901554404145\n",
            "Sensitivity:  0.8571428571428571\n",
            "Specificity:  0.8023255813953488\n"
          ]
        }
      ],
      "source": [
        "print('Accuracy: ', Accuracy)\n",
        "print('Sensitivity: ', Sensitivity)\n",
        "print('Specificity: ', Specificity)"
      ]
    },
    {
      "cell_type": "code",
      "execution_count": null,
      "metadata": {
        "id": "YkPOFLehOmFg"
      },
      "outputs": [],
      "source": [
        "#change melanoma flag back to 4\n",
        "df_val_pred[df_val_pred[i] == 1] = 4\n",
        "#decode one-hot y_val_pred while use cut-off melanoma data\n",
        "condition = df_val_pred[i] == 4\n",
        "y_val_pred2 = np.where(condition, df_val_pred[i], np.argmax(y_val_pred, axis=1))"
      ]
    },
    {
      "cell_type": "code",
      "execution_count": null,
      "metadata": {
        "id": "LOVl6dWlTDLo",
        "colab": {
          "base_uri": "https://localhost:8080/"
        },
        "outputId": "34cd0f8c-f655-414b-a73a-e344ff46a1b8"
      },
      "outputs": [
        {
          "output_type": "stream",
          "name": "stdout",
          "text": [
            "Accuracy:  0.7150259067357513\n",
            "Balanced accuracy:  0.7596124259016246\n"
          ]
        }
      ],
      "source": [
        "print('Accuracy: ',accuracy_score(np.argmax(y_val, axis=1), y_val_pred2))\n",
        "print('Balanced accuracy: ',balanced_accuracy_score(np.argmax(y_val, axis=1), y_val_pred2))"
      ]
    },
    {
      "cell_type": "markdown",
      "metadata": {
        "id": "eaK4zbtoaAaC"
      },
      "source": [
        "#Confusion Metric on Validation Set"
      ]
    },
    {
      "cell_type": "code",
      "execution_count": 47,
      "metadata": {
        "id": "mqvYutTKRhR_",
        "colab": {
          "base_uri": "https://localhost:8080/"
        },
        "outputId": "d50f61d0-013b-4c1c-ff68-ada77011ea24"
      },
      "outputs": [
        {
          "output_type": "stream",
          "name": "stdout",
          "text": [
            "[[  4   1   3   0   0   0   0]\n",
            " [  1  11   1   1   0   1   0]\n",
            " [  0   1  17   0   4   0   0]\n",
            " [  0   0   0   1   0   0   0]\n",
            " [  0   0   3   0  16   2   0]\n",
            " [  0   2   5   1   7 108   0]\n",
            " [  0   1   0   0   0   0   2]]\n"
          ]
        }
      ],
      "source": [
        "#Get the confusion matrix\n",
        "#cf_matrix = confusion_matrix(np.argmax(y_val, axis=1), y_val_pred2)#FOR CUT-OFF\n",
        "cf_matrix = confusion_matrix(np.argmax(y_val, axis=1), np.argmax(y_val_pred, axis=1))\n",
        "print(cf_matrix)"
      ]
    },
    {
      "cell_type": "code",
      "execution_count": 48,
      "metadata": {
        "id": "gVtvW3YeaLlC",
        "colab": {
          "base_uri": "https://localhost:8080/",
          "height": 285
        },
        "outputId": "b6147edf-60d2-4616-8836-c3a2a8db8cf2"
      },
      "outputs": [
        {
          "output_type": "display_data",
          "data": {
            "text/plain": [
              "<Figure size 1080x216 with 2 Axes>"
            ],
            "image/png": "[encoded data removed]"
          },
          "metadata": {
            "needs_background": "light"
          }
        }
      ],
      "source": [
        "ax = sns.heatmap(cf_matrix / cf_matrix.sum(axis=1, keepdims=True), annot=True, \n",
        "            cmap='Blues')\n",
        "\n",
        "ax.set_title('Confusion Matrix \\n');\n",
        "ax.set_xlabel('\\nPredicted')\n",
        "ax.set_ylabel('Actual ');\n",
        "\n",
        "## Ticket labels - List must be in alphabetical order\n",
        "ax.xaxis.set_ticklabels(['AKIEC', 'BCC', 'BKL', 'DF', 'MEL', 'NV', 'VASC'])\n",
        "ax.yaxis.set_ticklabels(['AKIEC', 'BCC', 'BKL', 'DF', 'MEL', 'NV', 'VASC'])\n",
        "\n",
        "plt.rcParams[\"figure.figsize\"] = (15,3)\n",
        "\n",
        "## Display the visualization of the Confusion Matrix.\n",
        "plt.xticks(rotation=45, ha='right')\n",
        "plt.yticks(rotation=0, ha='right')\n",
        "plt.show()"
      ]
    },
    {
      "cell_type": "code",
      "source": [
        "print(exp_name, dataset_name)"
      ],
      "metadata": {
        "colab": {
          "base_uri": "https://localhost:8080/"
        },
        "id": "hJrJQC8_T7Vf",
        "outputId": "80a22255-b6ab-4f08-8aef-888e423fb571"
      },
      "execution_count": 49,
      "outputs": [
        {
          "output_type": "stream",
          "name": "stdout",
          "text": [
            "borderline after smote on feature space under70_128px\n"
          ]
        }
      ]
    },
    {
      "cell_type": "code",
      "execution_count": null,
      "metadata": {
        "id": "Ey-1yjWGeKs7"
      },
      "outputs": [],
      "source": [
        "# ordered count of rows per unique label\n",
        "#labels_count = df_val['Labels'].value_counts().sort_index()\n",
        "\n",
        "#f = plt.figure(figsize=(15, 6))\n",
        "#s = sns.barplot(x=labels_count.index,y=labels_count.values)\n",
        "#s.set_xticklabels(s.get_xticklabels(), rotation = 30)"
      ]
    },
    {
      "cell_type": "markdown",
      "metadata": {
        "id": "3K908bbiYwbS"
      },
      "source": [
        "#Testing"
      ]
    },
    {
      "cell_type": "code",
      "execution_count": null,
      "metadata": {
        "colab": {
          "base_uri": "https://localhost:8080/"
        },
        "id": "cN98sOWPyT3P",
        "outputId": "d762e235-ef79-45e5-91b3-700932bd579b"
      },
      "outputs": [
        {
          "output_type": "execute_result",
          "data": {
            "text/plain": [
              "(1512, 128, 128, 3)"
            ]
          },
          "metadata": {},
          "execution_count": 36
        }
      ],
      "source": [
        "df_test = pd.read_pickle(path+\"isic2018_test_\"+dataset_name+\".pkl\")\n",
        "X_test = df_test.loc[:, df_test.columns != 'y_train'].to_numpy()\n",
        "X_test = X_test.reshape(-1,IMAGE_W,IMAGE_H,3)\n",
        "X_test.shape"
      ]
    },
    {
      "cell_type": "code",
      "execution_count": null,
      "metadata": {
        "id": "NeMY2yvMYxsC"
      },
      "outputs": [],
      "source": [
        "dir_test = '/content/drive/MyDrive/PHD/Datasets/isic2018/ISIC2018_Task3_Test_Input/'\n",
        "filepaths = sorted( filter( lambda x: (os.path.isfile(os.path.join(dir_test, x))) and (x.endswith('.jpg')),\n",
        "                        os.listdir(dir_test) ) )"
      ]
    },
    {
      "cell_type": "code",
      "execution_count": null,
      "metadata": {
        "id": "6ic95mefkpG3"
      },
      "outputs": [],
      "source": [
        "#ONLY FOR LOADING DATASET FROM CSV\n",
        "df_test = pd.DataFrame(filepaths, columns =['image'])\n",
        "df_test['FilePaths'] = dir_test + df_test['image']"
      ]
    },
    {
      "cell_type": "code",
      "execution_count": null,
      "metadata": {
        "id": "NBa1TxPuY8ni"
      },
      "outputs": [],
      "source": [
        "df_test['image_px'] = df_test['FilePaths'].map(lambda x: np.asarray(Image.open(x).resize(IMG_SIZE)))"
      ]
    },
    {
      "cell_type": "code",
      "execution_count": null,
      "metadata": {
        "colab": {
          "base_uri": "https://localhost:8080/"
        },
        "id": "60LYAT7VsNOZ",
        "outputId": "d5e0ecb3-457f-42ef-b7f9-978671db89d6"
      },
      "outputs": [
        {
          "output_type": "stream",
          "name": "stdout",
          "text": [
            "(1512, 128, 128, 3)\n"
          ]
        }
      ],
      "source": [
        "X_test = np.asarray(df_test['image_px'].tolist())\n",
        "print(np.array(X_test).shape)"
      ]
    },
    {
      "cell_type": "code",
      "execution_count": null,
      "metadata": {
        "id": "cXnnIIwC4cHE"
      },
      "outputs": [],
      "source": [
        "#preprocess\n",
        "X_test = preprocess_image_input(X_test)"
      ]
    },
    {
      "cell_type": "code",
      "execution_count": null,
      "metadata": {
        "id": "JC17MArBxhSW"
      },
      "outputs": [],
      "source": [
        "df3 = pd.DataFrame(X_test.reshape(X_test.shape[0],-1))\n",
        "df3.to_pickle(path+\"isic2018_test_\"+dataset_name+\".pkl\")"
      ]
    },
    {
      "cell_type": "markdown",
      "metadata": {
        "id": "FF7ml90JZ8FK"
      },
      "source": [
        "Calculate y_pred from training and testing for analysis"
      ]
    },
    {
      "cell_type": "code",
      "execution_count": null,
      "metadata": {
        "colab": {
          "base_uri": "https://localhost:8080/"
        },
        "id": "KeDTXdaMLmyU",
        "outputId": "a6ea64da-79f0-424f-f913-5b0bd6c66170"
      },
      "outputs": [
        {
          "data": {
            "text/plain": [
              "(1512, 2048)"
            ]
          },
          "execution_count": 34,
          "metadata": {},
          "output_type": "execute_result"
        }
      ],
      "source": [
        "#FOR MAKING FEATURE SPACE DATA\n",
        "X_test = model1.predict(X_test)\n",
        "X_test.shape"
      ]
    },
    {
      "cell_type": "code",
      "execution_count": null,
      "metadata": {
        "colab": {
          "base_uri": "https://localhost:8080/"
        },
        "id": "dIX0AmEFNv3Y",
        "outputId": "94f97d01-cfcd-4060-e030-791de041abea"
      },
      "outputs": [
        {
          "output_type": "stream",
          "name": "stdout",
          "text": [
            "48/48 [==============================] - 2s 34ms/step\n",
            "Y_pred2 (1512, 7)\n"
          ]
        }
      ],
      "source": [
        "# predicting\n",
        "#CHANGE THE MODEL IF NECESSARY\n",
        "Y_pred2 = best_model.predict(X_test)\n",
        "#Y_pred2 = model2.predict(X_test)\n",
        "print(\"Y_pred2\", Y_pred2.shape)"
      ]
    },
    {
      "cell_type": "code",
      "execution_count": null,
      "metadata": {
        "id": "7oeArO5CtxGb"
      },
      "outputs": [],
      "source": [
        "df_pred = pd.DataFrame(Y_pred2, columns = ['AKIEC', 'BCC', 'BKL', 'DF', 'MEL', 'NV', 'VASC'])\n",
        "df_pred['image'] = df_test['FilePaths'].map(lambda x: x.replace(dir_test, '').replace('.jpg', ''))\n",
        "df_pred = df_pred[['image', 'MEL', 'NV', 'BCC', 'AKIEC', 'BKL', 'DF', 'VASC']]\n",
        "df_pred.set_index(\"image\", inplace = True)"
      ]
    },
    {
      "cell_type": "code",
      "execution_count": null,
      "metadata": {
        "id": "9ynyd8PjT589"
      },
      "outputs": [],
      "source": [
        "#update MEL data using cut-off value\n",
        "df_pred.MEL[df_pred.MEL > i] = 1"
      ]
    },
    {
      "cell_type": "code",
      "execution_count": null,
      "metadata": {
        "id": "fjRdONoQVMq0"
      },
      "outputs": [],
      "source": [
        "df_pred.loc[df_pred.MEL > i, ['NV', 'BCC', 'AKIEC', 'BKL', 'DF', 'VASC']] = 0"
      ]
    },
    {
      "cell_type": "code",
      "execution_count": null,
      "metadata": {
        "id": "K4Iv_3s4z0R9",
        "colab": {
          "base_uri": "https://localhost:8080/",
          "height": 238
        },
        "outputId": "c4bcab80-dd0c-4e50-c3de-77b4d3791ff8"
      },
      "outputs": [
        {
          "output_type": "execute_result",
          "data": {
            "text/plain": [
              "                       MEL        NV           BCC         AKIEC  \\\n",
              "image                                                              \n",
              "ISIC_0034524  3.026130e-11  1.000000  6.653910e-11  2.585303e-11   \n",
              "ISIC_0034525  8.898649e-07  0.999993  3.913597e-07  1.369540e-07   \n",
              "ISIC_0034526  2.697274e-03  0.000552  1.982842e-08  1.716201e-07   \n",
              "ISIC_0034527  6.416706e-03  0.993283  1.623954e-08  4.608250e-08   \n",
              "ISIC_0034528  1.387109e-06  0.921095  4.336646e-09  6.083735e-10   \n",
              "\n",
              "                       BKL            DF          VASC  \n",
              "image                                                   \n",
              "ISIC_0034524  9.672514e-09  4.063111e-11  7.206132e-10  \n",
              "ISIC_0034525  4.857814e-10  5.819595e-06  5.586446e-11  \n",
              "ISIC_0034526  9.967508e-01  7.306222e-09  2.069174e-11  \n",
              "ISIC_0034527  3.000382e-04  8.077440e-10  3.280298e-11  \n",
              "ISIC_0034528  7.890303e-02  1.081984e-08  2.983435e-14  "
            ],
            "text/html": [
              "\n",
              "  <div id=\"df-3904ec89-7c91-4429-8150-533161c8d0f4\">\n",
              "    <div class=\"colab-df-container\">\n",
              "      <div>\n",
              "<style scoped>\n",
              "    .dataframe tbody tr th:only-of-type {\n",
              "        vertical-align: middle;\n",
              "    }\n",
              "\n",
              "    .dataframe tbody tr th {\n",
              "        vertical-align: top;\n",
              "    }\n",
              "\n",
              "    .dataframe thead th {\n",
              "        text-align: right;\n",
              "    }\n",
              "</style>\n",
              "<table border=\"1\" class=\"dataframe\">\n",
              "  <thead>\n",
              "    <tr style=\"text-align: right;\">\n",
              "      <th></th>\n",
              "      <th>MEL</th>\n",
              "      <th>NV</th>\n",
              "      <th>BCC</th>\n",
              "      <th>AKIEC</th>\n",
              "      <th>BKL</th>\n",
              "      <th>DF</th>\n",
              "      <th>VASC</th>\n",
              "    </tr>\n",
              "    <tr>\n",
              "      <th>image</th>\n",
              "      <th></th>\n",
              "      <th></th>\n",
              "      <th></th>\n",
              "      <th></th>\n",
              "      <th></th>\n",
              "      <th></th>\n",
              "      <th></th>\n",
              "    </tr>\n",
              "  </thead>\n",
              "  <tbody>\n",
              "    <tr>\n",
              "      <th>ISIC_0034524</th>\n",
              "      <td>3.026130e-11</td>\n",
              "      <td>1.000000</td>\n",
              "      <td>6.653910e-11</td>\n",
              "      <td>2.585303e-11</td>\n",
              "      <td>9.672514e-09</td>\n",
              "      <td>4.063111e-11</td>\n",
              "      <td>7.206132e-10</td>\n",
              "    </tr>\n",
              "    <tr>\n",
              "      <th>ISIC_0034525</th>\n",
              "      <td>8.898649e-07</td>\n",
              "      <td>0.999993</td>\n",
              "      <td>3.913597e-07</td>\n",
              "      <td>1.369540e-07</td>\n",
              "      <td>4.857814e-10</td>\n",
              "      <td>5.819595e-06</td>\n",
              "      <td>5.586446e-11</td>\n",
              "    </tr>\n",
              "    <tr>\n",
              "      <th>ISIC_0034526</th>\n",
              "      <td>2.697274e-03</td>\n",
              "      <td>0.000552</td>\n",
              "      <td>1.982842e-08</td>\n",
              "      <td>1.716201e-07</td>\n",
              "      <td>9.967508e-01</td>\n",
              "      <td>7.306222e-09</td>\n",
              "      <td>2.069174e-11</td>\n",
              "    </tr>\n",
              "    <tr>\n",
              "      <th>ISIC_0034527</th>\n",
              "      <td>6.416706e-03</td>\n",
              "      <td>0.993283</td>\n",
              "      <td>1.623954e-08</td>\n",
              "      <td>4.608250e-08</td>\n",
              "      <td>3.000382e-04</td>\n",
              "      <td>8.077440e-10</td>\n",
              "      <td>3.280298e-11</td>\n",
              "    </tr>\n",
              "    <tr>\n",
              "      <th>ISIC_0034528</th>\n",
              "      <td>1.387109e-06</td>\n",
              "      <td>0.921095</td>\n",
              "      <td>4.336646e-09</td>\n",
              "      <td>6.083735e-10</td>\n",
              "      <td>7.890303e-02</td>\n",
              "      <td>1.081984e-08</td>\n",
              "      <td>2.983435e-14</td>\n",
              "    </tr>\n",
              "  </tbody>\n",
              "</table>\n",
              "</div>\n",
              "      <button class=\"colab-df-convert\" onclick=\"convertToInteractive('df-3904ec89-7c91-4429-8150-533161c8d0f4')\"\n",
              "              title=\"Convert this dataframe to an interactive table.\"\n",
              "              style=\"display:none;\">\n",
              "        \n",
              "  <svg xmlns=\"http://www.w3.org/2000/svg\" height=\"24px\"viewBox=\"0 0 24 24\"\n",
              "       width=\"24px\">\n",
              "    <path d=\"M0 0h24v24H0V0z\" fill=\"none\"/>\n",
              "    <path d=\"M18.56 5.44l.94 2.06.94-2.06 2.06-.94-2.06-.94-.94-2.06-.94 2.06-2.06.94zm-11 1L8.5 8.5l.94-2.06 2.06-.94-2.06-.94L8.5 2.5l-.94 2.06-2.06.94zm10 10l.94 2.06.94-2.06 2.06-.94-2.06-.94-.94-2.06-.94 2.06-2.06.94z\"/><path d=\"M17.41 7.96l-1.37-1.37c-.4-.4-.92-.59-1.43-.59-.52 0-1.04.2-1.43.59L10.3 9.45l-7.72 7.72c-.78.78-.78 2.05 0 2.83L4 21.41c.39.39.9.59 1.41.59.51 0 1.02-.2 1.41-.59l7.78-7.78 2.81-2.81c.8-.78.8-2.07 0-2.86zM5.41 20L4 18.59l7.72-7.72 1.47 1.35L5.41 20z\"/>\n",
              "  </svg>\n",
              "      </button>\n",
              "      \n",
              "  <style>\n",
              "    .colab-df-container {\n",
              "      display:flex;\n",
              "      flex-wrap:wrap;\n",
              "      gap: 12px;\n",
              "    }\n",
              "\n",
              "    .colab-df-convert {\n",
              "      background-color: #E8F0FE;\n",
              "      border: none;\n",
              "      border-radius: 50%;\n",
              "      cursor: pointer;\n",
              "      display: none;\n",
              "      fill: #1967D2;\n",
              "      height: 32px;\n",
              "      padding: 0 0 0 0;\n",
              "      width: 32px;\n",
              "    }\n",
              "\n",
              "    .colab-df-convert:hover {\n",
              "      background-color: #E2EBFA;\n",
              "      box-shadow: 0px 1px 2px rgba(60, 64, 67, 0.3), 0px 1px 3px 1px rgba(60, 64, 67, 0.15);\n",
              "      fill: #174EA6;\n",
              "    }\n",
              "\n",
              "    [theme=dark] .colab-df-convert {\n",
              "      background-color: #3B4455;\n",
              "      fill: #D2E3FC;\n",
              "    }\n",
              "\n",
              "    [theme=dark] .colab-df-convert:hover {\n",
              "      background-color: #434B5C;\n",
              "      box-shadow: 0px 1px 3px 1px rgba(0, 0, 0, 0.15);\n",
              "      filter: drop-shadow(0px 1px 2px rgba(0, 0, 0, 0.3));\n",
              "      fill: #FFFFFF;\n",
              "    }\n",
              "  </style>\n",
              "\n",
              "      <script>\n",
              "        const buttonEl =\n",
              "          document.querySelector('#df-3904ec89-7c91-4429-8150-533161c8d0f4 button.colab-df-convert');\n",
              "        buttonEl.style.display =\n",
              "          google.colab.kernel.accessAllowed ? 'block' : 'none';\n",
              "\n",
              "        async function convertToInteractive(key) {\n",
              "          const element = document.querySelector('#df-3904ec89-7c91-4429-8150-533161c8d0f4');\n",
              "          const dataTable =\n",
              "            await google.colab.kernel.invokeFunction('convertToInteractive',\n",
              "                                                     [key], {});\n",
              "          if (!dataTable) return;\n",
              "\n",
              "          const docLinkHtml = 'Like what you see? Visit the ' +\n",
              "            '<a target=\"_blank\" href=https://colab.research.google.com/notebooks/data_table.ipynb>data table notebook</a>'\n",
              "            + ' to learn more about interactive tables.';\n",
              "          element.innerHTML = '';\n",
              "          dataTable['output_type'] = 'display_data';\n",
              "          await google.colab.output.renderOutput(dataTable, element);\n",
              "          const docLink = document.createElement('div');\n",
              "          docLink.innerHTML = docLinkHtml;\n",
              "          element.appendChild(docLink);\n",
              "        }\n",
              "      </script>\n",
              "    </div>\n",
              "  </div>\n",
              "  "
            ]
          },
          "metadata": {},
          "execution_count": 48
        }
      ],
      "source": [
        "df_pred.head(5)"
      ]
    },
    {
      "cell_type": "code",
      "execution_count": null,
      "metadata": {
        "id": "sOnjc3RJ0e4T",
        "colab": {
          "base_uri": "https://localhost:8080/"
        },
        "outputId": "0dd8c7bf-b96e-4b27-a5f0-5d157dbb5308"
      },
      "outputs": [
        {
          "output_type": "stream",
          "name": "stdout",
          "text": [
            "response saved!\n"
          ]
        }
      ],
      "source": [
        "df_pred.to_csv('/content/drive/MyDrive/PHD/Datasets/isic2018/response_'+exp_name+'_'+dataset_name+'.csv')\n",
        "print(\"response saved!\")"
      ]
    },
    {
      "cell_type": "code",
      "source": [
        "print(exp_name, dataset_name, \"result: 0.575\")"
      ],
      "metadata": {
        "colab": {
          "base_uri": "https://localhost:8080/"
        },
        "id": "zt1C_FXiR3Ip",
        "outputId": "803c98f6-e1d9-460f-f863-4988ec8299c5"
      },
      "execution_count": null,
      "outputs": [
        {
          "output_type": "stream",
          "name": "stdout",
          "text": [
            "deep smote under70_128px result: 0.575\n"
          ]
        }
      ]
    },
    {
      "cell_type": "markdown",
      "metadata": {
        "id": "UswA0co2y1wl"
      },
      "source": [
        "#Exp"
      ]
    },
    {
      "cell_type": "code",
      "execution_count": null,
      "metadata": {
        "id": "dnqJYIONy34l"
      },
      "outputs": [],
      "source": [
        "input_tensor = Input(shape=(IMAGE_H, IMAGE_W, 3))\n",
        "base_model = ResNet50(input_shape=(224,224,3), weights='imagenet', include_top=False)\n",
        "x = base_model(input_tensor, training=False)\n",
        "x = Attention(2048,2048,7,8)(x)\n",
        "x = GlobalAveragePooling2D()(x)\n",
        "res50 = Model(inputs=input_tensor, outputs=x)"
      ]
    },
    {
      "cell_type": "code",
      "execution_count": null,
      "metadata": {
        "id": "Kcn8hQg3J8yP"
      },
      "outputs": [],
      "source": [
        "#Train i-last layer\n",
        "# summarize feature map shapes\n",
        "for i in range(len(model.layers)):\n",
        "    layer = model.layers[i]\n",
        "    # summarize output shape\n",
        "    print(i, layer.name, layer.output.shape)"
      ]
    },
    {
      "cell_type": "code",
      "execution_count": null,
      "metadata": {
        "id": "UA7Af2Y73FUv"
      },
      "outputs": [],
      "source": [
        "X_train = res50.predict(X_train)\n",
        "X_val = res50.predict(X_val)\n",
        "print(X_train.shape)\n",
        "print(y_train.shape)\n",
        "print(X_val.shape)\n",
        "print(y_val.shape)\n",
        "print('Counter train data: ', Counter(np.argmax(y_train, axis=1)))\n",
        "print('Counter val data: ', Counter(np.argmax(y_val, axis=1)))"
      ]
    },
    {
      "cell_type": "code",
      "execution_count": null,
      "metadata": {
        "id": "krJiAb1m3QNf"
      },
      "outputs": [],
      "source": [
        "X_train, y_train = SMOTE_Data2(X_train, y_train, True)\n",
        "print(X_train.shape)\n",
        "print(y_train.shape)\n",
        "print(X_val.shape)\n",
        "print(y_val.shape)\n",
        "print('Counter train data: ', Counter(np.argmax(y_train, axis=1)))\n",
        "print('Counter val data: ', Counter(np.argmax(y_val, axis=1)))"
      ]
    },
    {
      "cell_type": "markdown",
      "metadata": {
        "id": "LfcFpsBwM0d4"
      },
      "source": [
        "#Attention"
      ]
    },
    {
      "cell_type": "code",
      "execution_count": null,
      "metadata": {
        "colab": {
          "base_uri": "https://localhost:8080/",
          "height": 398
        },
        "id": "C_s6OIGKM26a",
        "outputId": "371bd24a-4bf9-491a-e0ec-78b7eb06e6d9"
      },
      "outputs": [
        {
          "ename": "AttributeError",
          "evalue": "ignored",
          "output_type": "error",
          "traceback": [
            "\u001b[0;31m---------------------------------------------------------------------------\u001b[0m",
            "\u001b[0;31mAttributeError\u001b[0m                            Traceback (most recent call last)",
            "\u001b[0;32m<ipython-input-3-ff488085aaa5>\u001b[0m in \u001b[0;36m<module>\u001b[0;34m\u001b[0m\n\u001b[0;32m----> 1\u001b[0;31m \u001b[0;32mimport\u001b[0m \u001b[0mtensorflow\u001b[0m \u001b[0;32mas\u001b[0m \u001b[0mtf\u001b[0m\u001b[0;34m\u001b[0m\u001b[0;34m\u001b[0m\u001b[0m\n\u001b[0m\u001b[1;32m      2\u001b[0m \u001b[0;32mimport\u001b[0m \u001b[0mtensorflow\u001b[0m\u001b[0;34m.\u001b[0m\u001b[0mkeras\u001b[0m \u001b[0;32mas\u001b[0m \u001b[0mtk\u001b[0m\u001b[0;34m\u001b[0m\u001b[0;34m\u001b[0m\u001b[0m\n\u001b[1;32m      3\u001b[0m \u001b[0;32mfrom\u001b[0m \u001b[0mtensorflow\u001b[0m\u001b[0;34m.\u001b[0m\u001b[0mkeras\u001b[0m\u001b[0;34m.\u001b[0m\u001b[0mlayers\u001b[0m \u001b[0;32mimport\u001b[0m \u001b[0mConv2D\u001b[0m\u001b[0;34m,\u001b[0m\u001b[0mMaxPooling2D\u001b[0m\u001b[0;34m,\u001b[0m\u001b[0mAveragePooling2D\u001b[0m\u001b[0;34m,\u001b[0m\u001b[0mBatchNormalization\u001b[0m\u001b[0;34m,\u001b[0m\u001b[0mAdd\u001b[0m\u001b[0;34m,\u001b[0m\u001b[0mZeroPadding2D\u001b[0m\u001b[0;34m,\u001b[0m\u001b[0mFlatten\u001b[0m\u001b[0;34m,\u001b[0m\u001b[0mDense\u001b[0m\u001b[0;34m,\u001b[0m\u001b[0mInput\u001b[0m\u001b[0;34m,\u001b[0m\u001b[0mLeakyReLU\u001b[0m\u001b[0;34m,\u001b[0m\u001b[0mSoftmax\u001b[0m\u001b[0;34m,\u001b[0m\u001b[0mReLU\u001b[0m\u001b[0;34m\u001b[0m\u001b[0;34m\u001b[0m\u001b[0m\n\u001b[1;32m      4\u001b[0m \u001b[0;32mfrom\u001b[0m \u001b[0mtensorflow\u001b[0m\u001b[0;34m.\u001b[0m\u001b[0mkeras\u001b[0m\u001b[0;34m.\u001b[0m\u001b[0moptimizers\u001b[0m \u001b[0;32mimport\u001b[0m \u001b[0mAdam\u001b[0m\u001b[0;34m\u001b[0m\u001b[0;34m\u001b[0m\u001b[0m\n\u001b[1;32m      5\u001b[0m \u001b[0;32mfrom\u001b[0m \u001b[0mtensorflow\u001b[0m\u001b[0;34m.\u001b[0m\u001b[0mkeras\u001b[0m\u001b[0;34m.\u001b[0m\u001b[0mmodels\u001b[0m \u001b[0;32mimport\u001b[0m \u001b[0mModel\u001b[0m\u001b[0;34m\u001b[0m\u001b[0;34m\u001b[0m\u001b[0m\n",
            "\u001b[0;32m/usr/local/lib/python3.7/dist-packages/tensorflow/__init__.py\u001b[0m in \u001b[0;36m<module>\u001b[0;34m\u001b[0m\n\u001b[1;32m    471\u001b[0m \u001b[0;32mif\u001b[0m \u001b[0mhasattr\u001b[0m\u001b[0;34m(\u001b[0m\u001b[0m_current_module\u001b[0m\u001b[0;34m,\u001b[0m \u001b[0;34m\"keras\"\u001b[0m\u001b[0;34m)\u001b[0m\u001b[0;34m:\u001b[0m\u001b[0;34m\u001b[0m\u001b[0;34m\u001b[0m\u001b[0m\n\u001b[1;32m    472\u001b[0m   \u001b[0;32mtry\u001b[0m\u001b[0;34m:\u001b[0m\u001b[0;34m\u001b[0m\u001b[0;34m\u001b[0m\u001b[0m\n\u001b[0;32m--> 473\u001b[0;31m     \u001b[0mkeras\u001b[0m\u001b[0;34m.\u001b[0m\u001b[0m_load\u001b[0m\u001b[0;34m(\u001b[0m\u001b[0;34m)\u001b[0m\u001b[0;34m\u001b[0m\u001b[0;34m\u001b[0m\u001b[0m\n\u001b[0m\u001b[1;32m    474\u001b[0m   \u001b[0;32mexcept\u001b[0m \u001b[0mImportError\u001b[0m\u001b[0;34m:\u001b[0m\u001b[0;34m\u001b[0m\u001b[0;34m\u001b[0m\u001b[0m\n\u001b[1;32m    475\u001b[0m     \u001b[0;32mpass\u001b[0m\u001b[0;34m\u001b[0m\u001b[0;34m\u001b[0m\u001b[0m\n",
            "\u001b[0;32m/usr/local/lib/python3.7/dist-packages/tensorflow/python/util/lazy_loader.py\u001b[0m in \u001b[0;36m_load\u001b[0;34m(self)\u001b[0m\n\u001b[1;32m     39\u001b[0m     \u001b[0;34m\"\"\"Load the module and insert it into the parent's globals.\"\"\"\u001b[0m\u001b[0;34m\u001b[0m\u001b[0;34m\u001b[0m\u001b[0m\n\u001b[1;32m     40\u001b[0m     \u001b[0;31m# Import the target module and insert it into the parent's namespace\u001b[0m\u001b[0;34m\u001b[0m\u001b[0;34m\u001b[0m\u001b[0;34m\u001b[0m\u001b[0m\n\u001b[0;32m---> 41\u001b[0;31m     \u001b[0mmodule\u001b[0m \u001b[0;34m=\u001b[0m \u001b[0mimportlib\u001b[0m\u001b[0;34m.\u001b[0m\u001b[0mimport_module\u001b[0m\u001b[0;34m(\u001b[0m\u001b[0mself\u001b[0m\u001b[0;34m.\u001b[0m\u001b[0m__name__\u001b[0m\u001b[0;34m)\u001b[0m\u001b[0;34m\u001b[0m\u001b[0;34m\u001b[0m\u001b[0m\n\u001b[0m\u001b[1;32m     42\u001b[0m     \u001b[0mself\u001b[0m\u001b[0;34m.\u001b[0m\u001b[0m_parent_module_globals\u001b[0m\u001b[0;34m[\u001b[0m\u001b[0mself\u001b[0m\u001b[0;34m.\u001b[0m\u001b[0m_local_name\u001b[0m\u001b[0;34m]\u001b[0m \u001b[0;34m=\u001b[0m \u001b[0mmodule\u001b[0m\u001b[0;34m\u001b[0m\u001b[0;34m\u001b[0m\u001b[0m\n\u001b[1;32m     43\u001b[0m \u001b[0;34m\u001b[0m\u001b[0m\n",
            "\u001b[0;32m/usr/lib/python3.7/importlib/__init__.py\u001b[0m in \u001b[0;36mimport_module\u001b[0;34m(name, package)\u001b[0m\n\u001b[1;32m    125\u001b[0m                 \u001b[0;32mbreak\u001b[0m\u001b[0;34m\u001b[0m\u001b[0;34m\u001b[0m\u001b[0m\n\u001b[1;32m    126\u001b[0m             \u001b[0mlevel\u001b[0m \u001b[0;34m+=\u001b[0m \u001b[0;36m1\u001b[0m\u001b[0;34m\u001b[0m\u001b[0;34m\u001b[0m\u001b[0m\n\u001b[0;32m--> 127\u001b[0;31m     \u001b[0;32mreturn\u001b[0m \u001b[0m_bootstrap\u001b[0m\u001b[0;34m.\u001b[0m\u001b[0m_gcd_import\u001b[0m\u001b[0;34m(\u001b[0m\u001b[0mname\u001b[0m\u001b[0;34m[\u001b[0m\u001b[0mlevel\u001b[0m\u001b[0;34m:\u001b[0m\u001b[0;34m]\u001b[0m\u001b[0;34m,\u001b[0m \u001b[0mpackage\u001b[0m\u001b[0;34m,\u001b[0m \u001b[0mlevel\u001b[0m\u001b[0;34m)\u001b[0m\u001b[0;34m\u001b[0m\u001b[0;34m\u001b[0m\u001b[0m\n\u001b[0m\u001b[1;32m    128\u001b[0m \u001b[0;34m\u001b[0m\u001b[0m\n\u001b[1;32m    129\u001b[0m \u001b[0;34m\u001b[0m\u001b[0m\n",
            "\u001b[0;32m/usr/local/lib/python3.7/dist-packages/keras/__init__.py\u001b[0m in \u001b[0;36m<module>\u001b[0;34m\u001b[0m\n\u001b[1;32m     23\u001b[0m \u001b[0;34m\u001b[0m\u001b[0m\n\u001b[1;32m     24\u001b[0m \u001b[0;31m# See b/110718070#comment18 for more details about this import.\u001b[0m\u001b[0;34m\u001b[0m\u001b[0;34m\u001b[0m\u001b[0;34m\u001b[0m\u001b[0m\n\u001b[0;32m---> 25\u001b[0;31m \u001b[0;32mfrom\u001b[0m \u001b[0mkeras\u001b[0m \u001b[0;32mimport\u001b[0m \u001b[0mmodels\u001b[0m\u001b[0;34m\u001b[0m\u001b[0;34m\u001b[0m\u001b[0m\n\u001b[0m\u001b[1;32m     26\u001b[0m \u001b[0;34m\u001b[0m\u001b[0m\n\u001b[1;32m     27\u001b[0m \u001b[0;32mfrom\u001b[0m \u001b[0mkeras\u001b[0m\u001b[0;34m.\u001b[0m\u001b[0mengine\u001b[0m\u001b[0;34m.\u001b[0m\u001b[0minput_layer\u001b[0m \u001b[0;32mimport\u001b[0m \u001b[0mInput\u001b[0m\u001b[0;34m\u001b[0m\u001b[0;34m\u001b[0m\u001b[0m\n",
            "\u001b[0;32m/usr/local/lib/python3.7/dist-packages/keras/models.py\u001b[0m in \u001b[0;36m<module>\u001b[0;34m\u001b[0m\n\u001b[1;32m     18\u001b[0m \u001b[0;32mimport\u001b[0m \u001b[0mtensorflow\u001b[0m\u001b[0;34m.\u001b[0m\u001b[0mcompat\u001b[0m\u001b[0;34m.\u001b[0m\u001b[0mv2\u001b[0m \u001b[0;32mas\u001b[0m \u001b[0mtf\u001b[0m\u001b[0;34m\u001b[0m\u001b[0;34m\u001b[0m\u001b[0m\n\u001b[1;32m     19\u001b[0m \u001b[0;32mfrom\u001b[0m \u001b[0mkeras\u001b[0m \u001b[0;32mimport\u001b[0m \u001b[0mbackend\u001b[0m\u001b[0;34m\u001b[0m\u001b[0;34m\u001b[0m\u001b[0m\n\u001b[0;32m---> 20\u001b[0;31m \u001b[0;32mfrom\u001b[0m \u001b[0mkeras\u001b[0m \u001b[0;32mimport\u001b[0m \u001b[0mmetrics\u001b[0m \u001b[0;32mas\u001b[0m \u001b[0mmetrics_module\u001b[0m\u001b[0;34m\u001b[0m\u001b[0;34m\u001b[0m\u001b[0m\n\u001b[0m\u001b[1;32m     21\u001b[0m \u001b[0;32mfrom\u001b[0m \u001b[0mkeras\u001b[0m \u001b[0;32mimport\u001b[0m \u001b[0moptimizer_v1\u001b[0m\u001b[0;34m\u001b[0m\u001b[0;34m\u001b[0m\u001b[0m\n\u001b[1;32m     22\u001b[0m \u001b[0;32mfrom\u001b[0m \u001b[0mkeras\u001b[0m\u001b[0;34m.\u001b[0m\u001b[0mengine\u001b[0m \u001b[0;32mimport\u001b[0m \u001b[0mfunctional\u001b[0m\u001b[0;34m\u001b[0m\u001b[0;34m\u001b[0m\u001b[0m\n",
            "\u001b[0;32m/usr/local/lib/python3.7/dist-packages/keras/metrics.py\u001b[0m in \u001b[0;36m<module>\u001b[0;34m\u001b[0m\n\u001b[1;32m     22\u001b[0m \u001b[0;32mimport\u001b[0m \u001b[0mwarnings\u001b[0m\u001b[0;34m\u001b[0m\u001b[0;34m\u001b[0m\u001b[0m\n\u001b[1;32m     23\u001b[0m \u001b[0;34m\u001b[0m\u001b[0m\n\u001b[0;32m---> 24\u001b[0;31m \u001b[0;32mfrom\u001b[0m \u001b[0mkeras\u001b[0m \u001b[0;32mimport\u001b[0m \u001b[0mactivations\u001b[0m\u001b[0;34m\u001b[0m\u001b[0;34m\u001b[0m\u001b[0m\n\u001b[0m\u001b[1;32m     25\u001b[0m \u001b[0;32mfrom\u001b[0m \u001b[0mkeras\u001b[0m \u001b[0;32mimport\u001b[0m \u001b[0mbackend\u001b[0m\u001b[0;34m\u001b[0m\u001b[0;34m\u001b[0m\u001b[0m\n\u001b[1;32m     26\u001b[0m \u001b[0;32mfrom\u001b[0m \u001b[0mkeras\u001b[0m\u001b[0;34m.\u001b[0m\u001b[0mengine\u001b[0m \u001b[0;32mimport\u001b[0m \u001b[0mbase_layer\u001b[0m\u001b[0;34m\u001b[0m\u001b[0;34m\u001b[0m\u001b[0m\n",
            "\u001b[0;32m/usr/local/lib/python3.7/dist-packages/keras/activations.py\u001b[0m in \u001b[0;36m<module>\u001b[0;34m\u001b[0m\n\u001b[1;32m     18\u001b[0m \u001b[0;34m\u001b[0m\u001b[0m\n\u001b[1;32m     19\u001b[0m \u001b[0;32mfrom\u001b[0m \u001b[0mkeras\u001b[0m \u001b[0;32mimport\u001b[0m \u001b[0mbackend\u001b[0m\u001b[0;34m\u001b[0m\u001b[0;34m\u001b[0m\u001b[0m\n\u001b[0;32m---> 20\u001b[0;31m \u001b[0;32mfrom\u001b[0m \u001b[0mkeras\u001b[0m\u001b[0;34m.\u001b[0m\u001b[0mlayers\u001b[0m \u001b[0;32mimport\u001b[0m \u001b[0madvanced_activations\u001b[0m\u001b[0;34m\u001b[0m\u001b[0;34m\u001b[0m\u001b[0m\n\u001b[0m\u001b[1;32m     21\u001b[0m \u001b[0;32mfrom\u001b[0m \u001b[0mkeras\u001b[0m\u001b[0;34m.\u001b[0m\u001b[0mutils\u001b[0m\u001b[0;34m.\u001b[0m\u001b[0mgeneric_utils\u001b[0m \u001b[0;32mimport\u001b[0m \u001b[0mdeserialize_keras_object\u001b[0m\u001b[0;34m\u001b[0m\u001b[0;34m\u001b[0m\u001b[0m\n\u001b[1;32m     22\u001b[0m \u001b[0;32mfrom\u001b[0m \u001b[0mkeras\u001b[0m\u001b[0;34m.\u001b[0m\u001b[0mutils\u001b[0m\u001b[0;34m.\u001b[0m\u001b[0mgeneric_utils\u001b[0m \u001b[0;32mimport\u001b[0m \u001b[0mserialize_keras_object\u001b[0m\u001b[0;34m\u001b[0m\u001b[0;34m\u001b[0m\u001b[0m\n",
            "\u001b[0;32m/usr/local/lib/python3.7/dist-packages/keras/layers/__init__.py\u001b[0m in \u001b[0;36m<module>\u001b[0;34m\u001b[0m\n\u001b[1;32m     25\u001b[0m \u001b[0;32mfrom\u001b[0m \u001b[0mkeras\u001b[0m\u001b[0;34m.\u001b[0m\u001b[0mengine\u001b[0m\u001b[0;34m.\u001b[0m\u001b[0minput_spec\u001b[0m \u001b[0;32mimport\u001b[0m \u001b[0mInputSpec\u001b[0m\u001b[0;34m\u001b[0m\u001b[0;34m\u001b[0m\u001b[0m\n\u001b[1;32m     26\u001b[0m \u001b[0;32mfrom\u001b[0m \u001b[0mkeras\u001b[0m\u001b[0;34m.\u001b[0m\u001b[0mengine\u001b[0m\u001b[0;34m.\u001b[0m\u001b[0mbase_layer\u001b[0m \u001b[0;32mimport\u001b[0m \u001b[0mLayer\u001b[0m\u001b[0;34m\u001b[0m\u001b[0;34m\u001b[0m\u001b[0m\n\u001b[0;32m---> 27\u001b[0;31m \u001b[0;32mfrom\u001b[0m \u001b[0mkeras\u001b[0m\u001b[0;34m.\u001b[0m\u001b[0mengine\u001b[0m\u001b[0;34m.\u001b[0m\u001b[0mbase_preprocessing_layer\u001b[0m \u001b[0;32mimport\u001b[0m \u001b[0mPreprocessingLayer\u001b[0m\u001b[0;34m\u001b[0m\u001b[0;34m\u001b[0m\u001b[0m\n\u001b[0m\u001b[1;32m     28\u001b[0m \u001b[0;34m\u001b[0m\u001b[0m\n\u001b[1;32m     29\u001b[0m \u001b[0;31m# Image preprocessing layers.\u001b[0m\u001b[0;34m\u001b[0m\u001b[0;34m\u001b[0m\u001b[0;34m\u001b[0m\u001b[0m\n",
            "\u001b[0;32m/usr/local/lib/python3.7/dist-packages/keras/engine/base_preprocessing_layer.py\u001b[0m in \u001b[0;36m<module>\u001b[0;34m\u001b[0m\n\u001b[1;32m     17\u001b[0m \u001b[0;32mimport\u001b[0m \u001b[0mabc\u001b[0m\u001b[0;34m\u001b[0m\u001b[0;34m\u001b[0m\u001b[0m\n\u001b[1;32m     18\u001b[0m \u001b[0;34m\u001b[0m\u001b[0m\n\u001b[0;32m---> 19\u001b[0;31m \u001b[0;32mfrom\u001b[0m \u001b[0mkeras\u001b[0m\u001b[0;34m.\u001b[0m\u001b[0mengine\u001b[0m \u001b[0;32mimport\u001b[0m \u001b[0mdata_adapter\u001b[0m\u001b[0;34m\u001b[0m\u001b[0;34m\u001b[0m\u001b[0m\n\u001b[0m\u001b[1;32m     20\u001b[0m \u001b[0;32mfrom\u001b[0m \u001b[0mkeras\u001b[0m\u001b[0;34m.\u001b[0m\u001b[0mengine\u001b[0m\u001b[0;34m.\u001b[0m\u001b[0mbase_layer\u001b[0m \u001b[0;32mimport\u001b[0m \u001b[0mLayer\u001b[0m\u001b[0;34m\u001b[0m\u001b[0;34m\u001b[0m\u001b[0m\n\u001b[1;32m     21\u001b[0m \u001b[0;32mfrom\u001b[0m \u001b[0mkeras\u001b[0m\u001b[0;34m.\u001b[0m\u001b[0mutils\u001b[0m \u001b[0;32mimport\u001b[0m \u001b[0mversion_utils\u001b[0m\u001b[0;34m\u001b[0m\u001b[0;34m\u001b[0m\u001b[0m\n",
            "\u001b[0;32m/usr/local/lib/python3.7/dist-packages/keras/engine/data_adapter.py\u001b[0m in \u001b[0;36m<module>\u001b[0;34m\u001b[0m\n\u001b[1;32m     36\u001b[0m \u001b[0;34m\u001b[0m\u001b[0m\n\u001b[1;32m     37\u001b[0m \u001b[0;32mtry\u001b[0m\u001b[0;34m:\u001b[0m\u001b[0;34m\u001b[0m\u001b[0;34m\u001b[0m\u001b[0m\n\u001b[0;32m---> 38\u001b[0;31m   \u001b[0;32mimport\u001b[0m \u001b[0mpandas\u001b[0m \u001b[0;32mas\u001b[0m \u001b[0mpd\u001b[0m  \u001b[0;31m# pylint: disable=g-import-not-at-top\u001b[0m\u001b[0;34m\u001b[0m\u001b[0;34m\u001b[0m\u001b[0m\n\u001b[0m\u001b[1;32m     39\u001b[0m \u001b[0;32mexcept\u001b[0m \u001b[0mImportError\u001b[0m\u001b[0;34m:\u001b[0m\u001b[0;34m\u001b[0m\u001b[0;34m\u001b[0m\u001b[0m\n\u001b[1;32m     40\u001b[0m   \u001b[0mpd\u001b[0m \u001b[0;34m=\u001b[0m \u001b[0;32mNone\u001b[0m\u001b[0;34m\u001b[0m\u001b[0;34m\u001b[0m\u001b[0m\n",
            "\u001b[0;32m/usr/local/lib/python3.7/dist-packages/pandas/__init__.py\u001b[0m in \u001b[0;36m<module>\u001b[0;34m\u001b[0m\n\u001b[1;32m    177\u001b[0m \u001b[0;34m\u001b[0m\u001b[0m\n\u001b[1;32m    178\u001b[0m \u001b[0;32mfrom\u001b[0m \u001b[0mpandas\u001b[0m\u001b[0;34m.\u001b[0m\u001b[0mutil\u001b[0m\u001b[0;34m.\u001b[0m\u001b[0m_tester\u001b[0m \u001b[0;32mimport\u001b[0m \u001b[0mtest\u001b[0m\u001b[0;34m\u001b[0m\u001b[0;34m\u001b[0m\u001b[0m\n\u001b[0;32m--> 179\u001b[0;31m \u001b[0;32mimport\u001b[0m \u001b[0mpandas\u001b[0m\u001b[0;34m.\u001b[0m\u001b[0mtesting\u001b[0m\u001b[0;34m\u001b[0m\u001b[0;34m\u001b[0m\u001b[0m\n\u001b[0m\u001b[1;32m    180\u001b[0m \u001b[0;32mimport\u001b[0m \u001b[0mpandas\u001b[0m\u001b[0;34m.\u001b[0m\u001b[0marrays\u001b[0m\u001b[0;34m\u001b[0m\u001b[0;34m\u001b[0m\u001b[0m\n\u001b[1;32m    181\u001b[0m \u001b[0;34m\u001b[0m\u001b[0m\n",
            "\u001b[0;32m/usr/local/lib/python3.7/dist-packages/pandas/testing.py\u001b[0m in \u001b[0;36m<module>\u001b[0;34m\u001b[0m\n\u001b[1;32m      4\u001b[0m \u001b[0;34m\u001b[0m\u001b[0m\n\u001b[1;32m      5\u001b[0m \u001b[0;34m\u001b[0m\u001b[0m\n\u001b[0;32m----> 6\u001b[0;31m from pandas._testing import (\n\u001b[0m\u001b[1;32m      7\u001b[0m     \u001b[0massert_extension_array_equal\u001b[0m\u001b[0;34m,\u001b[0m\u001b[0;34m\u001b[0m\u001b[0;34m\u001b[0m\u001b[0m\n\u001b[1;32m      8\u001b[0m     \u001b[0massert_frame_equal\u001b[0m\u001b[0;34m,\u001b[0m\u001b[0;34m\u001b[0m\u001b[0;34m\u001b[0m\u001b[0m\n",
            "\u001b[0;32m/usr/local/lib/python3.7/dist-packages/pandas/_testing/__init__.py\u001b[0m in \u001b[0;36m<module>\u001b[0;34m\u001b[0m\n\u001b[1;32m    946\u001b[0m \u001b[0;34m\u001b[0m\u001b[0m\n\u001b[1;32m    947\u001b[0m \u001b[0;34m\u001b[0m\u001b[0m\n\u001b[0;32m--> 948\u001b[0;31m \u001b[0mcython_table\u001b[0m \u001b[0;34m=\u001b[0m \u001b[0mpd\u001b[0m\u001b[0;34m.\u001b[0m\u001b[0mcore\u001b[0m\u001b[0;34m.\u001b[0m\u001b[0mcommon\u001b[0m\u001b[0;34m.\u001b[0m\u001b[0m_cython_table\u001b[0m\u001b[0;34m.\u001b[0m\u001b[0mitems\u001b[0m\u001b[0;34m(\u001b[0m\u001b[0;34m)\u001b[0m\u001b[0;34m\u001b[0m\u001b[0;34m\u001b[0m\u001b[0m\n\u001b[0m\u001b[1;32m    949\u001b[0m \u001b[0;34m\u001b[0m\u001b[0m\n\u001b[1;32m    950\u001b[0m \u001b[0;34m\u001b[0m\u001b[0m\n",
            "\u001b[0;31mAttributeError\u001b[0m: module 'pandas' has no attribute 'core'"
          ]
        }
      ],
      "source": [
        "import tensorflow as tf\n",
        "import tensorflow.keras as tk\n",
        "from tensorflow.keras.layers import Conv2D,MaxPooling2D,AveragePooling2D,BatchNormalization,Add,ZeroPadding2D,Flatten,Dense,Input,LeakyReLU,Softmax,ReLU\n",
        "from tensorflow.keras.optimizers import Adam\n",
        "from tensorflow.keras.models import Model\n",
        "import numpy as np\n",
        "import pickle\n",
        "import numpy as np\n",
        "from PIL import Image\n",
        "\n",
        "class Attention(tk.layers.Layer):\n",
        "    \n",
        "    def __init__(self,input_channels,output_channel,kernel_size,groups):\n",
        "        super().__init__()\n",
        "        self.input_channels = input_channels\n",
        "        self.output_channel = output_channel    \n",
        "        self.kernel_size = kernel_size\n",
        "        self.stride = 1\n",
        "        self.groups = groups\n",
        "\n",
        "        assert output_channel % groups == 0\n",
        "        \n",
        "        self.rel_h = tk.backend.variable(lambda : tk.backend.truncated_normal((1,1,kernel_size,1,output_channel//2),stddev = 0.1)) \n",
        "        #output_channels//2 is the number of channels on which the relative position will be considered,1 denotes the number of those filters and the one after that too and (kernel_size,1) denotes the size of that filter\n",
        "        self.rel_w = tk.backend.variable(lambda : tk.backend.truncated_normal((1,1,1,kernel_size,output_channel//2),stddev = 0.1)) \n",
        "\n",
        "        self.key_weights = Conv2D(self.output_channel,kernel_size = 1,strides = self.stride)\n",
        "        self.query_weights = Conv2D(self.output_channel,kernel_size = 1,strides = self.stride)\n",
        "        self.value_weights = Conv2D(self.output_channel,kernel_size = 1,strides = self.stride)\n",
        "\n",
        "    def call(self,x):\n",
        "        \n",
        "        batch,height,width,channels = x.shape\n",
        "        x_padded = ZeroPadding2D(padding=(self.kernel_size//2,self.kernel_size//2))(x)\n",
        "        query = self.query_weights(x)\n",
        "        value = self.value_weights(x_padded)\n",
        "        key = self.key_weights(x_padded)\n",
        "        #key,query and value will have the shape of (batch,height,width,depth)\n",
        "        keys = tf.image.extract_patches(images = key,sizes = [1,self.kernel_size,self.kernel_size,1],strides = [1,self.stride,self.stride,1],rates = [1,1,1,1], padding = \"VALID\")\n",
        "        value = tf.image.extract_patches(images = value,sizes = [1,self.kernel_size,self.kernel_size,1],strides = [1,self.stride,self.stride,1],rates = [1,1,1,1], padding = \"VALID\")\n",
        "        no_of_kernels = key.shape[-2] - self.kernel_size + 1\n",
        "        keys = tf.reshape(keys,shape = (-1,no_of_kernels, no_of_kernels,self.kernel_size,self.kernel_size,self.output_channel))\n",
        "        key_split_h,key_split_w = tf.split(keys,num_or_size_splits = 2,axis = -1)\n",
        "        key_with_rel = tk.layers.concatenate([key_split_h + self.rel_h,key_split_w + self.rel_w],axis = -1) \n",
        "        \n",
        "        #reshaping the query and key\n",
        "        key_with_rel = tf.reshape(key_with_rel,(-1,self.groups,no_of_kernels,no_of_kernels,self.kernel_size*self.kernel_size,self.output_channel//self.groups))\n",
        "        query  = tf.reshape(query,(-1,self.groups,no_of_kernels,no_of_kernels,1,self.output_channel//self.groups))        \n",
        "        value = tf.reshape(value,(-1,self.groups,no_of_kernels,no_of_kernels,self.kernel_size*self.kernel_size,self.output_channel//self.groups))\n",
        "        \n",
        "        #multiplication  of key and query\n",
        "        #assert key_with_rel.shape == query.shape        \n",
        "        key_prod_query = query*key_with_rel\n",
        "        \n",
        "        # Now the function is passed through the softmax and is multiplied with the values\n",
        "        s = Softmax(axis = -2)(key_prod_query)\n",
        "        y = tf.einsum('bnchwk,bnchwk->bnchk',s,value)\n",
        "        y = tf.reshape(y,(-1,height,width,self.output_channel))\n",
        "        return y\n",
        "\n",
        "    def get_config(self):\n",
        "        config = super().get_config().copy()\n",
        "        config.update({\n",
        "            \"input_channels\": self.input_channels, \n",
        "            \"output_channel\": self.output_channel, \n",
        "            \"kernel_size\": self.kernel_size, \n",
        "            \"stride\": self.stride, \n",
        "            \"groups\": self.groups, \n",
        "            \"rel_h\": self.rel_h, \n",
        "            \"rel_w\": self.rel_w, \n",
        "            \"key_weights\": self.key_weights, \n",
        "            \"query_weights\": self.query_weights, \n",
        "            \"value_weights\": self.value_weights\n",
        "        })\n",
        "        return config\n"
      ]
    },
    {
      "cell_type": "markdown",
      "metadata": {
        "id": "kE8Ziq-BlEP4"
      },
      "source": [
        "#Oversampling on feature map level"
      ]
    },
    {
      "cell_type": "code",
      "execution_count": 35,
      "metadata": {
        "id": "wqfEP5L9BgcF"
      },
      "outputs": [],
      "source": [
        "#CHANGE THIS\n",
        "model = best_model"
      ]
    },
    {
      "cell_type": "code",
      "execution_count": 36,
      "metadata": {
        "colab": {
          "base_uri": "https://localhost:8080/"
        },
        "id": "Lm05Zet_B5am",
        "outputId": "72aa8ed0-0b5c-41fd-e236-47fccdb29166"
      },
      "outputs": [
        {
          "output_type": "stream",
          "name": "stdout",
          "text": [
            "0 input_1 [(None, 128, 128, 3)] True\n",
            "1 resnet50 (None, 4, 4, 2048) True\n",
            "2 global_average_pooling2d (None, 2048) True\n",
            "3 flatten (None, 2048) True\n",
            "4 dense (None, 1024) True\n",
            "5 dense_1 (None, 512) True\n",
            "6 dense_2 (None, 7) True\n"
          ]
        }
      ],
      "source": [
        "for i in range(len(model.layers)):\n",
        "  layer = model.layers[i]\n",
        "  print(i, layer.name, layer.output_shape, layer.trainable)"
      ]
    },
    {
      "cell_type": "code",
      "execution_count": 37,
      "metadata": {
        "id": "KqeSic6NmLsR"
      },
      "outputs": [],
      "source": [
        "# redefine model to output right after the first hidden layer\n",
        "end = 2\n",
        "model1 = Model(inputs=model.inputs, outputs=model.layers[end].output)"
      ]
    },
    {
      "cell_type": "code",
      "execution_count": 38,
      "metadata": {
        "colab": {
          "base_uri": "https://localhost:8080/"
        },
        "id": "ZVHYG9Rwm28i",
        "outputId": "cc6ad38f-86a6-4b22-bd4f-d440e7435da1"
      },
      "outputs": [
        {
          "output_type": "stream",
          "name": "stdout",
          "text": [
            "167/167 [==============================] - 7s 35ms/step\n",
            "7/7 [==============================] - 0s 34ms/step\n",
            "(5321, 2048)\n",
            "(5321, 7)\n",
            "(193, 2048)\n",
            "(193, 7)\n",
            "Counter train data:  Counter({5: 2011, 4: 1113, 2: 1099, 1: 514, 0: 327, 6: 142, 3: 115})\n",
            "Counter val data:  Counter({5: 123, 2: 22, 4: 21, 1: 15, 0: 8, 6: 3, 3: 1})\n"
          ]
        }
      ],
      "source": [
        "# get feature map for first hidden layer\n",
        "X_train = model1.predict(X_train)\n",
        "X_val = model1.predict(X_val)\n",
        "print(X_train.shape)\n",
        "print(y_train.shape)\n",
        "print(X_val.shape)\n",
        "print(y_val.shape)\n",
        "print('Counter train data: ', Counter(np.argmax(y_train, axis=1)))\n",
        "print('Counter val data: ', Counter(np.argmax(y_val, axis=1)))"
      ]
    },
    {
      "cell_type": "code",
      "execution_count": 40,
      "metadata": {
        "colab": {
          "base_uri": "https://localhost:8080/"
        },
        "id": "19hK7aQNeAQo",
        "outputId": "f747b20c-4c37-498e-8c3f-0333d819ad40"
      },
      "outputs": [
        {
          "output_type": "stream",
          "name": "stderr",
          "text": [
            "/usr/local/lib/python3.7/dist-packages/imblearn/utils/_validation.py:300: UserWarning: After over-sampling, the number of samples (2500) in class 0 will be larger than the number of samples in the majority class (class #0 -> 2011)\n",
            "  f\"After over-sampling, the number of samples ({n_samples})\"\n",
            "/usr/local/lib/python3.7/dist-packages/imblearn/utils/_validation.py:300: UserWarning: After over-sampling, the number of samples (2500) in class 1 will be larger than the number of samples in the majority class (class #0 -> 2011)\n",
            "  f\"After over-sampling, the number of samples ({n_samples})\"\n",
            "/usr/local/lib/python3.7/dist-packages/imblearn/utils/_validation.py:300: UserWarning: After over-sampling, the number of samples (2500) in class 2 will be larger than the number of samples in the majority class (class #0 -> 2011)\n",
            "  f\"After over-sampling, the number of samples ({n_samples})\"\n",
            "/usr/local/lib/python3.7/dist-packages/imblearn/utils/_validation.py:300: UserWarning: After over-sampling, the number of samples (2500) in class 3 will be larger than the number of samples in the majority class (class #0 -> 2011)\n",
            "  f\"After over-sampling, the number of samples ({n_samples})\"\n",
            "/usr/local/lib/python3.7/dist-packages/imblearn/utils/_validation.py:300: UserWarning: After over-sampling, the number of samples (2500) in class 4 will be larger than the number of samples in the majority class (class #0 -> 2011)\n",
            "  f\"After over-sampling, the number of samples ({n_samples})\"\n",
            "/usr/local/lib/python3.7/dist-packages/imblearn/utils/_validation.py:300: UserWarning: After over-sampling, the number of samples (2500) in class 5 will be larger than the number of samples in the majority class (class #0 -> 2011)\n",
            "  f\"After over-sampling, the number of samples ({n_samples})\"\n",
            "/usr/local/lib/python3.7/dist-packages/imblearn/utils/_validation.py:300: UserWarning: After over-sampling, the number of samples (2500) in class 6 will be larger than the number of samples in the majority class (class #0 -> 2011)\n",
            "  f\"After over-sampling, the number of samples ({n_samples})\"\n"
          ]
        },
        {
          "output_type": "stream",
          "name": "stdout",
          "text": [
            "(16522, 2048)\n",
            "(16522, 7)\n",
            "(193, 2048)\n",
            "(193, 7)\n",
            "Counter train data:  Counter({5: 2500, 4: 2500, 2: 2500, 0: 2500, 1: 2500, 3: 2011, 6: 2011})\n",
            "Counter val data:  Counter({5: 123, 2: 22, 4: 21, 1: 15, 0: 8, 6: 3, 3: 1})\n"
          ]
        }
      ],
      "source": [
        "X_train, y_train = SMOTE_Data2(X_train, y_train, True, 5, type=\"borderline\")\n",
        "print(X_train.shape)\n",
        "print(y_train.shape)\n",
        "print(X_val.shape)\n",
        "print(y_val.shape)\n",
        "print('Counter train data: ', Counter(np.argmax(y_train, axis=1)))\n",
        "print('Counter val data: ', Counter(np.argmax(y_val, axis=1)))"
      ]
    },
    {
      "cell_type": "code",
      "execution_count": 41,
      "metadata": {
        "id": "5qP4iyYcnAYa"
      },
      "outputs": [],
      "source": [
        "model2 = Model(inputs=model.layers[end+1].input, outputs=model.layers[len(model.layers)-1].output)\n",
        "#model2 = define_base_model(arch = 'dense')"
      ]
    },
    {
      "cell_type": "code",
      "execution_count": 42,
      "metadata": {
        "colab": {
          "base_uri": "https://localhost:8080/"
        },
        "id": "Pzdjs0WbvDB0",
        "outputId": "ce3d81a3-a99b-4dae-8792-2ed0a66fc131"
      },
      "outputs": [
        {
          "output_type": "stream",
          "name": "stdout",
          "text": [
            "best_model_fpath:/content/drive/MyDrive/PHD/Model/best_model_borderline after smote on feature space_under70_128px.h5\n",
            "last_model_fpath:/content/drive/MyDrive/PHD/Model/last_model_borderline after smote on feature space_under70_128px.h5\n",
            "Epoch 1/50\n",
            "246/258 [===========================>..] - ETA: 0s - loss: 0.0482 - accuracy: 0.9963 - balanced_acc: 0.9965\n",
            "Epoch 1: val_balanced_acc improved from -inf to 0.49010, saving model to /content/drive/MyDrive/PHD/Model/best_model_borderline after smote on feature space_under70_128px.h5\n",
            "258/258 [==============================] - 2s 5ms/step - loss: 0.0480 - accuracy: 0.9963 - balanced_acc: 0.9966 - val_loss: 0.5737 - val_accuracy: 0.8238 - val_balanced_acc: 0.4901 - lr: 5.0000e-04\n",
            "Epoch 2/50\n",
            "256/258 [============================>.] - ETA: 0s - loss: 0.0416 - accuracy: 0.9971 - balanced_acc: 0.9961\n",
            "Epoch 2: val_balanced_acc did not improve from 0.49010\n",
            "258/258 [==============================] - 1s 4ms/step - loss: 0.0415 - accuracy: 0.9971 - balanced_acc: 0.9961 - val_loss: 0.5768 - val_accuracy: 0.8187 - val_balanced_acc: 0.4859 - lr: 5.0000e-04\n",
            "Epoch 3/50\n",
            "247/258 [===========================>..] - ETA: 0s - loss: 0.0379 - accuracy: 0.9977 - balanced_acc: 0.9972\n",
            "Epoch 3: val_balanced_acc did not improve from 0.49010\n",
            "258/258 [==============================] - 1s 4ms/step - loss: 0.0379 - accuracy: 0.9978 - balanced_acc: 0.9973 - val_loss: 0.5682 - val_accuracy: 0.8238 - val_balanced_acc: 0.4870 - lr: 5.0000e-04\n",
            "Epoch 4/50\n",
            "244/258 [===========================>..] - ETA: 0s - loss: 0.0353 - accuracy: 0.9981 - balanced_acc: 0.9982\n",
            "Epoch 4: val_balanced_acc did not improve from 0.49010\n",
            "258/258 [==============================] - 1s 4ms/step - loss: 0.0352 - accuracy: 0.9981 - balanced_acc: 0.9982 - val_loss: 0.5832 - val_accuracy: 0.8187 - val_balanced_acc: 0.4859 - lr: 5.0000e-04\n",
            "Epoch 5/50\n",
            "246/258 [===========================>..] - ETA: 0s - loss: 0.0331 - accuracy: 0.9985 - balanced_acc: 0.9974\n",
            "Epoch 5: val_balanced_acc did not improve from 0.49010\n",
            "258/258 [==============================] - 1s 4ms/step - loss: 0.0330 - accuracy: 0.9986 - balanced_acc: 0.9976 - val_loss: 0.5968 - val_accuracy: 0.8187 - val_balanced_acc: 0.4859 - lr: 5.0000e-04\n",
            "Epoch 6/50\n",
            "246/258 [===========================>..] - ETA: 0s - loss: 0.0313 - accuracy: 0.9989 - balanced_acc: 0.9983\n",
            "Epoch 6: val_balanced_acc did not improve from 0.49010\n",
            "258/258 [==============================] - 1s 4ms/step - loss: 0.0312 - accuracy: 0.9990 - balanced_acc: 0.9984 - val_loss: 0.5928 - val_accuracy: 0.8187 - val_balanced_acc: 0.4859 - lr: 5.0000e-04\n",
            "Epoch 7/50\n",
            "258/258 [==============================] - ETA: 0s - loss: 0.0297 - accuracy: 0.9990 - balanced_acc: 0.9985\n",
            "Epoch 7: val_balanced_acc improved from 0.49010 to 0.49040, saving model to /content/drive/MyDrive/PHD/Model/best_model_borderline after smote on feature space_under70_128px.h5\n",
            "258/258 [==============================] - 1s 4ms/step - loss: 0.0297 - accuracy: 0.9990 - balanced_acc: 0.9985 - val_loss: 0.6222 - val_accuracy: 0.8238 - val_balanced_acc: 0.4904 - lr: 5.0000e-04\n",
            "Epoch 8/50\n",
            "255/258 [============================>.] - ETA: 0s - loss: 0.0282 - accuracy: 0.9993 - balanced_acc: 0.9987\n",
            "Epoch 8: val_balanced_acc did not improve from 0.49040\n",
            "258/258 [==============================] - 1s 4ms/step - loss: 0.0283 - accuracy: 0.9993 - balanced_acc: 0.9987 - val_loss: 0.5953 - val_accuracy: 0.8238 - val_balanced_acc: 0.4870 - lr: 5.0000e-04\n",
            "Epoch 9/50\n",
            "256/258 [============================>.] - ETA: 0s - loss: 0.0274 - accuracy: 0.9996 - balanced_acc: 0.9997\n",
            "Epoch 9: val_balanced_acc did not improve from 0.49040\n",
            "258/258 [==============================] - 1s 4ms/step - loss: 0.0274 - accuracy: 0.9996 - balanced_acc: 0.9997 - val_loss: 0.6061 - val_accuracy: 0.8187 - val_balanced_acc: 0.4859 - lr: 5.0000e-04\n",
            "Epoch 10/50\n",
            "252/258 [============================>.] - ETA: 0s - loss: 0.0260 - accuracy: 0.9996 - balanced_acc: 0.9974\n",
            "Epoch 10: val_balanced_acc did not improve from 0.49040\n",
            "258/258 [==============================] - 1s 4ms/step - loss: 0.0258 - accuracy: 0.9996 - balanced_acc: 0.9974 - val_loss: 0.6058 - val_accuracy: 0.8187 - val_balanced_acc: 0.4859 - lr: 5.0000e-04\n",
            "Epoch 11/50\n",
            "250/258 [============================>.] - ETA: 0s - loss: 0.0249 - accuracy: 0.9997 - balanced_acc: 0.9989\n",
            "Epoch 11: val_balanced_acc did not improve from 0.49040\n",
            "258/258 [==============================] - 1s 4ms/step - loss: 0.0249 - accuracy: 0.9997 - balanced_acc: 0.9989 - val_loss: 0.6213 - val_accuracy: 0.8187 - val_balanced_acc: 0.4859 - lr: 5.0000e-04\n",
            "Epoch 12/50\n",
            "256/258 [============================>.] - ETA: 0s - loss: 0.0242 - accuracy: 0.9999 - balanced_acc: 0.9986\n",
            "Epoch 12: val_balanced_acc did not improve from 0.49040\n",
            "258/258 [==============================] - 1s 4ms/step - loss: 0.0241 - accuracy: 0.9999 - balanced_acc: 0.9986 - val_loss: 0.6409 - val_accuracy: 0.8238 - val_balanced_acc: 0.4904 - lr: 5.0000e-04\n",
            "Epoch 13/50\n",
            "255/258 [============================>.] - ETA: 0s - loss: 0.0235 - accuracy: 0.9996 - balanced_acc: 0.9985\n",
            "Epoch 13: val_balanced_acc did not improve from 0.49040\n",
            "258/258 [==============================] - 1s 4ms/step - loss: 0.0234 - accuracy: 0.9996 - balanced_acc: 0.9985 - val_loss: 0.6252 - val_accuracy: 0.8187 - val_balanced_acc: 0.4859 - lr: 5.0000e-04\n",
            "Epoch 14/50\n",
            "258/258 [==============================] - ETA: 0s - loss: 0.0226 - accuracy: 0.9998 - balanced_acc: 0.9997\n",
            "Epoch 14: val_balanced_acc did not improve from 0.49040\n",
            "258/258 [==============================] - 1s 4ms/step - loss: 0.0226 - accuracy: 0.9998 - balanced_acc: 0.9997 - val_loss: 0.6242 - val_accuracy: 0.8187 - val_balanced_acc: 0.4859 - lr: 5.0000e-04\n",
            "Epoch 15/50\n",
            "256/258 [============================>.] - ETA: 0s - loss: 0.0218 - accuracy: 0.9997 - balanced_acc: 0.9997\n",
            "Epoch 15: val_balanced_acc did not improve from 0.49040\n",
            "258/258 [==============================] - 1s 4ms/step - loss: 0.0218 - accuracy: 0.9997 - balanced_acc: 0.9997 - val_loss: 0.6309 - val_accuracy: 0.8187 - val_balanced_acc: 0.4859 - lr: 5.0000e-04\n",
            "Epoch 16/50\n",
            "258/258 [==============================] - ETA: 0s - loss: 0.0212 - accuracy: 0.9998 - balanced_acc: 0.9992\n",
            "Epoch 16: val_balanced_acc did not improve from 0.49040\n",
            "258/258 [==============================] - 1s 4ms/step - loss: 0.0212 - accuracy: 0.9998 - balanced_acc: 0.9992 - val_loss: 0.6410 - val_accuracy: 0.8187 - val_balanced_acc: 0.4859 - lr: 5.0000e-04\n",
            "Epoch 17/50\n",
            "256/258 [============================>.] - ETA: 0s - loss: 0.0205 - accuracy: 0.9998 - balanced_acc: 0.9990\n",
            "Epoch 17: val_balanced_acc did not improve from 0.49040\n",
            "258/258 [==============================] - 1s 4ms/step - loss: 0.0205 - accuracy: 0.9998 - balanced_acc: 0.9990 - val_loss: 0.6344 - val_accuracy: 0.8187 - val_balanced_acc: 0.4859 - lr: 5.0000e-04\n",
            "Epoch 18/50\n",
            "250/258 [============================>.] - ETA: 0s - loss: 0.0200 - accuracy: 0.9998 - balanced_acc: 0.9986\n",
            "Epoch 18: val_balanced_acc did not improve from 0.49040\n",
            "258/258 [==============================] - 1s 4ms/step - loss: 0.0200 - accuracy: 0.9998 - balanced_acc: 0.9987 - val_loss: 0.6437 - val_accuracy: 0.8187 - val_balanced_acc: 0.4859 - lr: 5.0000e-04\n",
            "Epoch 19/50\n",
            "249/258 [===========================>..] - ETA: 0s - loss: 0.0195 - accuracy: 0.9999 - balanced_acc: 0.9987\n",
            "Epoch 19: val_balanced_acc did not improve from 0.49040\n",
            "258/258 [==============================] - 1s 4ms/step - loss: 0.0195 - accuracy: 0.9999 - balanced_acc: 0.9987 - val_loss: 0.6400 - val_accuracy: 0.8187 - val_balanced_acc: 0.4859 - lr: 5.0000e-04\n",
            "Epoch 20/50\n",
            "253/258 [============================>.] - ETA: 0s - loss: 0.0189 - accuracy: 0.9997 - balanced_acc: 0.9986\n",
            "Epoch 20: val_balanced_acc did not improve from 0.49040\n",
            "258/258 [==============================] - 1s 4ms/step - loss: 0.0188 - accuracy: 0.9997 - balanced_acc: 0.9986 - val_loss: 0.6457 - val_accuracy: 0.8187 - val_balanced_acc: 0.4859 - lr: 5.0000e-04\n",
            "Epoch 21/50\n",
            "253/258 [============================>.] - ETA: 0s - loss: 0.0181 - accuracy: 0.9999 - balanced_acc: 0.9993\n",
            "Epoch 21: val_balanced_acc did not improve from 0.49040\n",
            "258/258 [==============================] - 1s 4ms/step - loss: 0.0183 - accuracy: 0.9998 - balanced_acc: 0.9993 - val_loss: 0.6472 - val_accuracy: 0.8187 - val_balanced_acc: 0.4859 - lr: 5.0000e-04\n",
            "Epoch 22/50\n",
            "247/258 [===========================>..] - ETA: 0s - loss: 0.0183 - accuracy: 0.9997 - balanced_acc: 0.9992\n",
            "Epoch 22: val_balanced_acc did not improve from 0.49040\n",
            "258/258 [==============================] - 1s 4ms/step - loss: 0.0181 - accuracy: 0.9998 - balanced_acc: 0.9992 - val_loss: 0.6596 - val_accuracy: 0.8238 - val_balanced_acc: 0.4904 - lr: 5.0000e-04\n",
            "Epoch 23/50\n",
            "247/258 [===========================>..] - ETA: 0s - loss: 0.0176 - accuracy: 0.9998 - balanced_acc: 0.9985\n",
            "Epoch 23: val_balanced_acc did not improve from 0.49040\n",
            "258/258 [==============================] - 1s 4ms/step - loss: 0.0176 - accuracy: 0.9998 - balanced_acc: 0.9985 - val_loss: 0.6435 - val_accuracy: 0.8187 - val_balanced_acc: 0.4859 - lr: 5.0000e-04\n",
            "Epoch 24/50\n",
            "247/258 [===========================>..] - ETA: 0s - loss: 0.0170 - accuracy: 0.9998 - balanced_acc: 0.9987\n",
            "Epoch 24: val_balanced_acc did not improve from 0.49040\n",
            "258/258 [==============================] - 1s 4ms/step - loss: 0.0170 - accuracy: 0.9998 - balanced_acc: 0.9987 - val_loss: 0.6584 - val_accuracy: 0.8187 - val_balanced_acc: 0.4859 - lr: 5.0000e-04\n",
            "Epoch 25/50\n",
            "245/258 [===========================>..] - ETA: 0s - loss: 0.0167 - accuracy: 0.9999 - balanced_acc: 0.9993\n",
            "Epoch 25: val_balanced_acc did not improve from 0.49040\n",
            "258/258 [==============================] - 1s 4ms/step - loss: 0.0167 - accuracy: 0.9999 - balanced_acc: 0.9993 - val_loss: 0.6591 - val_accuracy: 0.8238 - val_balanced_acc: 0.4904 - lr: 5.0000e-04\n",
            "Epoch 26/50\n",
            "246/258 [===========================>..] - ETA: 0s - loss: 0.0165 - accuracy: 0.9997 - balanced_acc: 0.9992\n",
            "Epoch 26: val_balanced_acc did not improve from 0.49040\n",
            "258/258 [==============================] - 1s 4ms/step - loss: 0.0166 - accuracy: 0.9998 - balanced_acc: 0.9992 - val_loss: 0.6667 - val_accuracy: 0.8187 - val_balanced_acc: 0.4859 - lr: 5.0000e-04\n",
            "Epoch 27/50\n",
            "248/258 [===========================>..] - ETA: 0s - loss: 0.0161 - accuracy: 0.9998 - balanced_acc: 0.9992\n",
            "Epoch 27: ReduceLROnPlateau reducing learning rate to 0.0002500000118743628.\n",
            "\n",
            "Epoch 27: val_balanced_acc did not improve from 0.49040\n",
            "258/258 [==============================] - 1s 4ms/step - loss: 0.0161 - accuracy: 0.9998 - balanced_acc: 0.9993 - val_loss: 0.6657 - val_accuracy: 0.8238 - val_balanced_acc: 0.4904 - lr: 5.0000e-04\n",
            "Epoch 28/50\n",
            "246/258 [===========================>..] - ETA: 0s - loss: 0.0158 - accuracy: 0.9999 - balanced_acc: 0.9982\n",
            "Epoch 28: val_balanced_acc did not improve from 0.49040\n",
            "258/258 [==============================] - 1s 4ms/step - loss: 0.0157 - accuracy: 0.9999 - balanced_acc: 0.9983 - val_loss: 0.6669 - val_accuracy: 0.8238 - val_balanced_acc: 0.4904 - lr: 2.5000e-04\n",
            "Epoch 29/50\n",
            "246/258 [===========================>..] - ETA: 0s - loss: 0.0153 - accuracy: 0.9999 - balanced_acc: 0.9993\n",
            "Epoch 29: val_balanced_acc did not improve from 0.49040\n",
            "258/258 [==============================] - 1s 4ms/step - loss: 0.0154 - accuracy: 0.9999 - balanced_acc: 0.9993 - val_loss: 0.6689 - val_accuracy: 0.8187 - val_balanced_acc: 0.4859 - lr: 2.5000e-04\n",
            "Epoch 30/50\n",
            "257/258 [============================>.] - ETA: 0s - loss: 0.0153 - accuracy: 0.9999 - balanced_acc: 0.9994\n",
            "Epoch 30: val_balanced_acc did not improve from 0.49040\n",
            "258/258 [==============================] - 1s 4ms/step - loss: 0.0153 - accuracy: 0.9999 - balanced_acc: 0.9994 - val_loss: 0.6716 - val_accuracy: 0.8238 - val_balanced_acc: 0.4904 - lr: 2.5000e-04\n",
            "Epoch 31/50\n",
            "250/258 [============================>.] - ETA: 0s - loss: 0.0151 - accuracy: 0.9998 - balanced_acc: 0.9998\n",
            "Epoch 31: val_balanced_acc did not improve from 0.49040\n",
            "258/258 [==============================] - 1s 5ms/step - loss: 0.0152 - accuracy: 0.9998 - balanced_acc: 0.9998 - val_loss: 0.6672 - val_accuracy: 0.8187 - val_balanced_acc: 0.4859 - lr: 2.5000e-04\n",
            "Epoch 32/50\n",
            "258/258 [==============================] - ETA: 0s - loss: 0.0152 - accuracy: 0.9999 - balanced_acc: 0.9993\n",
            "Epoch 32: val_balanced_acc did not improve from 0.49040\n",
            "258/258 [==============================] - 1s 5ms/step - loss: 0.0152 - accuracy: 0.9999 - balanced_acc: 0.9993 - val_loss: 0.6725 - val_accuracy: 0.8238 - val_balanced_acc: 0.4904 - lr: 2.5000e-04\n",
            "Epoch 33/50\n",
            "258/258 [==============================] - ETA: 0s - loss: 0.0148 - accuracy: 0.9999 - balanced_acc: 0.9994\n",
            "Epoch 33: val_balanced_acc did not improve from 0.49040\n",
            "258/258 [==============================] - 1s 4ms/step - loss: 0.0148 - accuracy: 0.9999 - balanced_acc: 0.9994 - val_loss: 0.6718 - val_accuracy: 0.8238 - val_balanced_acc: 0.4904 - lr: 2.5000e-04\n",
            "Epoch 34/50\n",
            "248/258 [===========================>..] - ETA: 0s - loss: 0.0150 - accuracy: 0.9998 - balanced_acc: 0.9981\n",
            "Epoch 34: val_balanced_acc did not improve from 0.49040\n",
            "258/258 [==============================] - 1s 4ms/step - loss: 0.0150 - accuracy: 0.9998 - balanced_acc: 0.9982 - val_loss: 0.6699 - val_accuracy: 0.8238 - val_balanced_acc: 0.4904 - lr: 2.5000e-04\n",
            "Epoch 35/50\n",
            "253/258 [============================>.] - ETA: 0s - loss: 0.0145 - accuracy: 0.9999 - balanced_acc: 0.9993\n",
            "Epoch 35: val_balanced_acc did not improve from 0.49040\n",
            "258/258 [==============================] - 1s 5ms/step - loss: 0.0144 - accuracy: 0.9999 - balanced_acc: 0.9993 - val_loss: 0.6744 - val_accuracy: 0.8238 - val_balanced_acc: 0.4904 - lr: 2.5000e-04\n",
            "Epoch 36/50\n",
            "245/258 [===========================>..] - ETA: 0s - loss: 0.0146 - accuracy: 0.9999 - balanced_acc: 0.9979\n",
            "Epoch 36: val_balanced_acc did not improve from 0.49040\n",
            "258/258 [==============================] - 1s 5ms/step - loss: 0.0146 - accuracy: 0.9999 - balanced_acc: 0.9980 - val_loss: 0.6689 - val_accuracy: 0.8187 - val_balanced_acc: 0.4859 - lr: 2.5000e-04\n",
            "Epoch 37/50\n",
            "249/258 [===========================>..] - ETA: 0s - loss: 0.0143 - accuracy: 0.9998 - balanced_acc: 0.9981\n",
            "Epoch 37: val_balanced_acc did not improve from 0.49040\n",
            "258/258 [==============================] - 1s 4ms/step - loss: 0.0142 - accuracy: 0.9998 - balanced_acc: 0.9981 - val_loss: 0.6746 - val_accuracy: 0.8238 - val_balanced_acc: 0.4904 - lr: 2.5000e-04\n",
            "Epoch 38/50\n",
            "256/258 [============================>.] - ETA: 0s - loss: 0.0140 - accuracy: 0.9999 - balanced_acc: 1.0000\n",
            "Epoch 38: val_balanced_acc did not improve from 0.49040\n",
            "258/258 [==============================] - 1s 4ms/step - loss: 0.0140 - accuracy: 0.9999 - balanced_acc: 1.0000 - val_loss: 0.6794 - val_accuracy: 0.8238 - val_balanced_acc: 0.4904 - lr: 2.5000e-04\n",
            "Epoch 39/50\n",
            "258/258 [==============================] - ETA: 0s - loss: 0.0141 - accuracy: 0.9999 - balanced_acc: 0.9982\n",
            "Epoch 39: val_balanced_acc did not improve from 0.49040\n",
            "258/258 [==============================] - 1s 4ms/step - loss: 0.0141 - accuracy: 0.9999 - balanced_acc: 0.9982 - val_loss: 0.6769 - val_accuracy: 0.8187 - val_balanced_acc: 0.4859 - lr: 2.5000e-04\n",
            "Epoch 40/50\n",
            "253/258 [============================>.] - ETA: 0s - loss: 0.0140 - accuracy: 0.9998 - balanced_acc: 0.9981\n",
            "Epoch 40: val_balanced_acc did not improve from 0.49040\n",
            "258/258 [==============================] - 1s 4ms/step - loss: 0.0140 - accuracy: 0.9998 - balanced_acc: 0.9981 - val_loss: 0.6816 - val_accuracy: 0.8238 - val_balanced_acc: 0.4904 - lr: 2.5000e-04\n",
            "Epoch 41/50\n",
            "257/258 [============================>.] - ETA: 0s - loss: 0.0137 - accuracy: 0.9999 - balanced_acc: 0.9999\n",
            "Epoch 41: val_balanced_acc did not improve from 0.49040\n",
            "258/258 [==============================] - 1s 4ms/step - loss: 0.0137 - accuracy: 0.9999 - balanced_acc: 0.9999 - val_loss: 0.6790 - val_accuracy: 0.8187 - val_balanced_acc: 0.4859 - lr: 2.5000e-04\n",
            "Epoch 42/50\n",
            "246/258 [===========================>..] - ETA: 0s - loss: 0.0138 - accuracy: 0.9999 - balanced_acc: 0.9993\n",
            "Epoch 42: val_balanced_acc did not improve from 0.49040\n",
            "258/258 [==============================] - 1s 4ms/step - loss: 0.0139 - accuracy: 0.9999 - balanced_acc: 0.9994 - val_loss: 0.6774 - val_accuracy: 0.8238 - val_balanced_acc: 0.4904 - lr: 2.5000e-04\n",
            "Epoch 43/50\n",
            "252/258 [============================>.] - ETA: 0s - loss: 0.0133 - accuracy: 0.9999 - balanced_acc: 0.9993\n",
            "Epoch 43: val_balanced_acc did not improve from 0.49040\n",
            "258/258 [==============================] - 1s 4ms/step - loss: 0.0133 - accuracy: 0.9999 - balanced_acc: 0.9993 - val_loss: 0.6768 - val_accuracy: 0.8238 - val_balanced_acc: 0.4904 - lr: 2.5000e-04\n",
            "Epoch 44/50\n",
            "257/258 [============================>.] - ETA: 0s - loss: 0.0135 - accuracy: 0.9998 - balanced_acc: 0.9981\n",
            "Epoch 44: val_balanced_acc did not improve from 0.49040\n",
            "258/258 [==============================] - 1s 4ms/step - loss: 0.0135 - accuracy: 0.9998 - balanced_acc: 0.9982 - val_loss: 0.6864 - val_accuracy: 0.8238 - val_balanced_acc: 0.4904 - lr: 2.5000e-04\n",
            "Epoch 45/50\n",
            "252/258 [============================>.] - ETA: 0s - loss: 0.0135 - accuracy: 0.9999 - balanced_acc: 0.9992\n",
            "Epoch 45: val_balanced_acc did not improve from 0.49040\n",
            "258/258 [==============================] - 1s 4ms/step - loss: 0.0135 - accuracy: 0.9999 - balanced_acc: 0.9992 - val_loss: 0.6852 - val_accuracy: 0.8238 - val_balanced_acc: 0.4904 - lr: 2.5000e-04\n",
            "Epoch 46/50\n",
            "245/258 [===========================>..] - ETA: 0s - loss: 0.0132 - accuracy: 0.9999 - balanced_acc: 0.9993\n",
            "Epoch 46: val_balanced_acc did not improve from 0.49040\n",
            "258/258 [==============================] - 1s 4ms/step - loss: 0.0131 - accuracy: 0.9999 - balanced_acc: 0.9994 - val_loss: 0.6839 - val_accuracy: 0.8238 - val_balanced_acc: 0.4904 - lr: 2.5000e-04\n",
            "Epoch 47/50\n",
            "253/258 [============================>.] - ETA: 0s - loss: 0.0134 - accuracy: 0.9998 - balanced_acc: 0.9993\n",
            "Epoch 47: ReduceLROnPlateau reducing learning rate to 0.0001250000059371814.\n",
            "\n",
            "Epoch 47: val_balanced_acc did not improve from 0.49040\n",
            "258/258 [==============================] - 1s 4ms/step - loss: 0.0134 - accuracy: 0.9998 - balanced_acc: 0.9993 - val_loss: 0.6809 - val_accuracy: 0.8238 - val_balanced_acc: 0.4904 - lr: 2.5000e-04\n",
            "Epoch 48/50\n",
            "247/258 [===========================>..] - ETA: 0s - loss: 0.0129 - accuracy: 0.9999 - balanced_acc: 0.9987\n",
            "Epoch 48: val_balanced_acc did not improve from 0.49040\n",
            "258/258 [==============================] - 1s 4ms/step - loss: 0.0129 - accuracy: 0.9999 - balanced_acc: 0.9988 - val_loss: 0.6834 - val_accuracy: 0.8238 - val_balanced_acc: 0.4904 - lr: 1.2500e-04\n",
            "Epoch 49/50\n",
            "257/258 [============================>.] - ETA: 0s - loss: 0.0128 - accuracy: 0.9999 - balanced_acc: 0.9993\n",
            "Epoch 49: val_balanced_acc did not improve from 0.49040\n",
            "258/258 [==============================] - 1s 4ms/step - loss: 0.0128 - accuracy: 0.9999 - balanced_acc: 0.9993 - val_loss: 0.6879 - val_accuracy: 0.8238 - val_balanced_acc: 0.4904 - lr: 1.2500e-04\n",
            "Epoch 50/50\n",
            "247/258 [===========================>..] - ETA: 0s - loss: 0.0128 - accuracy: 0.9999 - balanced_acc: 0.9993\n",
            "Epoch 50: val_balanced_acc did not improve from 0.49040\n",
            "258/258 [==============================] - 1s 4ms/step - loss: 0.0128 - accuracy: 0.9999 - balanced_acc: 0.9993 - val_loss: 0.6872 - val_accuracy: 0.8238 - val_balanced_acc: 0.4904 - lr: 1.2500e-04\n"
          ]
        }
      ],
      "source": [
        "best_model_fpath = '/content/drive/MyDrive/PHD/Model/best_model_'+exp_name+'_'+dataset_name+'.h5'\n",
        "print(\"best_model_fpath:\"+best_model_fpath)\n",
        "last_model_fpath = '/content/drive/MyDrive/PHD/Model/last_model_'+exp_name+'_'+dataset_name+'.h5'\n",
        "print(\"last_model_fpath:\"+last_model_fpath)\n",
        "mc1 = ModelCheckpoint(best_model_fpath, monitor='val_balanced_acc', mode='max', verbose=1, save_best_only=True)\n",
        "learning_rate_reduction = ReduceLROnPlateau(monitor='val_balanced_acc', patience=20, verbose=1, factor=0.5, min_lr=0.00001)\n",
        "early_stopping_monitor = EarlyStopping(patience=40,monitor='val_balanced_acc')\n",
        "model2.compile(optimizer = opt_SGD , loss = \"categorical_crossentropy\", metrics=['accuracy', balanced_acc])\n",
        "hst = model2.fit(X_train, y_train, epochs=EPOCHS, batch_size=BATCH_SIZE, validation_data=(X_val, y_val), verbose=1,\n",
        "                    steps_per_epoch=X_train.shape[0] // BATCH_SIZE, \n",
        "                    #callbacks=[learning_rate_reduction,early_stopping_monitor, mc1])\n",
        "                    callbacks=[learning_rate_reduction,mc1])"
      ]
    },
    {
      "cell_type": "code",
      "execution_count": 43,
      "metadata": {
        "colab": {
          "base_uri": "https://localhost:8080/",
          "height": 241
        },
        "id": "8XhlbWn--8Or",
        "outputId": "f786739b-ea81-4207-e594-760924158aa4"
      },
      "outputs": [
        {
          "output_type": "display_data",
          "data": {
            "text/plain": [
              "<Figure size 1080x216 with 1 Axes>"
            ],
            "image/png": "[encoded data removed]"
          },
          "metadata": {
            "needs_background": "light"
          }
        }
      ],
      "source": [
        "# summarize history for accuracy\n",
        "plt.plot(hst.history['accuracy'])\n",
        "plt.plot(hst.history['balanced_acc'])\n",
        "plt.plot(hst.history['val_accuracy'])\n",
        "plt.plot(hst.history['val_balanced_acc'])\n",
        "plt.title('Model accuracy')\n",
        "plt.ylabel('Performance')\n",
        "plt.xlabel('epoch')\n",
        "plt.legend(['train accuracy', 'train balanced acc.', 'val. accuracy', 'val. balanced acc.'], loc='lower right')\n",
        "plt.show()"
      ]
    },
    {
      "cell_type": "code",
      "execution_count": 44,
      "metadata": {
        "id": "u-x0SENPGmm9"
      },
      "outputs": [],
      "source": [
        "#save last model\n",
        "model2.save(last_model_fpath)"
      ]
    },
    {
      "cell_type": "code",
      "execution_count": 45,
      "metadata": {
        "colab": {
          "base_uri": "https://localhost:8080/"
        },
        "id": "U-e3ZaeeG1Bf",
        "outputId": "03428ec0-38d5-44ef-97e8-99b2d816c7c5"
      },
      "outputs": [
        {
          "output_type": "stream",
          "name": "stdout",
          "text": [
            "517/517 [==============================] - 1s 2ms/step\n",
            "7/7 [==============================] - 0s 2ms/step\n",
            "accuracy on training 0.9998789492797482\n",
            "balanced accuracy on training 0.9998857142857143\n",
            "accuracy on validation 0.8238341968911918\n",
            "balanced accuracy on validation 0.7589544021599771\n",
            "Score on val data:  (0.7262599334027905, 0.7589544021599771, 0.7169230769230769, None)\n"
          ]
        }
      ],
      "source": [
        "#last_model_fpath = '/content/drive/MyDrive/PHD/Model/last_model_smote on feature space_under70_224px.h5'\n",
        "last_model = load_model(last_model_fpath, custom_objects={'balanced_acc' : balanced_acc})\n",
        "y_train_pred = last_model.predict(X_train)\n",
        "y_val_pred = last_model.predict(X_val)\n",
        "\n",
        "#print('accuracy on training',accuracy_score(np.argmax(y_train, axis=1), np.argmax(y_train_pred, axis=1)))\n",
        "print('accuracy on training',accuracy_score(np.argmax(y_train, axis=1), np.argmax(y_train_pred, axis=1)))\n",
        "print('balanced accuracy on training',balanced_accuracy_score(np.argmax(y_train, axis=1), np.argmax(y_train_pred, axis=1)))\n",
        "print('accuracy on validation',accuracy_score(np.argmax(y_val, axis=1), np.argmax(y_val_pred, axis=1)))\n",
        "print('balanced accuracy on validation',balanced_accuracy_score(np.argmax(y_val, axis=1), np.argmax(y_val_pred, axis=1)))\n",
        "print('Score on val data: ',precision_recall_fscore_support(np.argmax(y_val, axis=1), np.argmax(y_val_pred, axis=1), average='macro'))"
      ]
    },
    {
      "cell_type": "code",
      "execution_count": 46,
      "metadata": {
        "colab": {
          "base_uri": "https://localhost:8080/"
        },
        "id": "EQ3baQLsHLat",
        "outputId": "9cc702a0-271a-412d-9818-0ecb221d211b"
      },
      "outputs": [
        {
          "output_type": "stream",
          "name": "stdout",
          "text": [
            "517/517 [==============================] - 1s 2ms/step\n",
            "7/7 [==============================] - 0s 2ms/step\n",
            "accuracy on training 0.9995157971189929\n",
            "balanced accuracy on training 0.9995428571428572\n",
            "accuracy on validation 0.8238341968911918\n",
            "balanced accuracy on validation 0.7589544021599771\n",
            "Score on val data:  (0.7103722564929462, 0.7589544021599771, 0.6973531844499586, None)\n"
          ]
        }
      ],
      "source": [
        "#best_model_fpath = '/content/drive/MyDrive/PHD/Model/best_model_smote on feature space_under70_224px.h5'\n",
        "best_model = load_model(best_model_fpath, custom_objects={'balanced_acc' : balanced_acc})\n",
        "y_train_pred = best_model.predict(X_train)\n",
        "y_val_pred = best_model.predict(X_val)\n",
        "\n",
        "print('accuracy on training',accuracy_score(np.argmax(y_train, axis=1), np.argmax(y_train_pred, axis=1)))\n",
        "print('balanced accuracy on training',balanced_accuracy_score(np.argmax(y_train, axis=1), np.argmax(y_train_pred, axis=1)))\n",
        "print('accuracy on validation',accuracy_score(np.argmax(y_val, axis=1), np.argmax(y_val_pred, axis=1)))\n",
        "print('balanced accuracy on validation',balanced_accuracy_score(np.argmax(y_val, axis=1), np.argmax(y_val_pred, axis=1)))\n",
        "print('Score on val data: ',precision_recall_fscore_support(np.argmax(y_val, axis=1), np.argmax(y_val_pred, axis=1), average='macro'))"
      ]
    },
    {
      "cell_type": "markdown",
      "metadata": {
        "id": "RcRGeofw-8tK"
      },
      "source": [
        "#Load ISIC 2018 Challange Data"
      ]
    },
    {
      "cell_type": "code",
      "execution_count": null,
      "metadata": {
        "id": "l3P7IjyLuZGY",
        "colab": {
          "base_uri": "https://localhost:8080/"
        },
        "outputId": "74bd3c97-fa20-4449-ccd2-85987855e080"
      },
      "outputs": [
        {
          "output_type": "stream",
          "name": "stdout",
          "text": [
            "(5321, 32, 32, 3)\n",
            "(5321, 7)\n",
            "(193, 32, 32, 3)\n",
            "(193, 7)\n",
            "Counter train data:  Counter({5: 2011, 4: 1113, 2: 1099, 1: 514, 0: 327, 6: 142, 3: 115})\n",
            "Counter val data:  Counter({5: 123, 2: 22, 4: 21, 1: 15, 0: 8, 6: 3, 3: 1})\n"
          ]
        }
      ],
      "source": [
        "X_train, y_train, X_val, y_val = load_isic2018_dataset(train_under_frac = train_under_frac)\n",
        "print(X_train.shape)\n",
        "print(y_train.shape)\n",
        "print(X_val.shape)\n",
        "print(y_val.shape)\n",
        "print('Counter train data: ', Counter(np.argmax(y_train, axis=1)))\n",
        "print('Counter val data: ', Counter(np.argmax(y_val, axis=1)))"
      ]
    },
    {
      "cell_type": "code",
      "execution_count": null,
      "metadata": {
        "id": "XT95XFaHQD6d"
      },
      "outputs": [],
      "source": [
        "X_train = preprocess_image_input(X_train, the_arch)\n",
        "X_val = preprocess_image_input(X_val, the_arch)"
      ]
    },
    {
      "cell_type": "code",
      "execution_count": null,
      "metadata": {
        "id": "APHFdj25vatJ",
        "colab": {
          "base_uri": "https://localhost:8080/"
        },
        "outputId": "95c7433a-f6b6-489a-b5c1-5a5625ae96d4"
      },
      "outputs": [
        {
          "output_type": "stream",
          "name": "stdout",
          "text": [
            "dataset saved: under70_224px\n"
          ]
        }
      ],
      "source": [
        "path = '/content/drive/MyDrive/PHD/Datasets/isic2018/'\n",
        "df1 = pd.DataFrame(X_train.reshape(X_train.shape[0],-1))\n",
        "df1['y_train'] = np.argmax(y_train, axis=1).tolist()\n",
        "df2 = pd.DataFrame(X_val.reshape(X_val.shape[0],-1))\n",
        "df2['y_val'] = np.argmax(y_val, axis=1).tolist()\n",
        "df1.to_pickle(path+\"isic2018_train_\"+dataset_name+\".pkl\")\n",
        "df2.to_pickle(path+\"isic2018_val_\"+dataset_name+\".pkl\")\n",
        "print(\"dataset saved:\", dataset_name)"
      ]
    },
    {
      "cell_type": "code",
      "execution_count": null,
      "metadata": {
        "id": "2IncA-_o_n5w"
      },
      "outputs": [],
      "source": [
        "# ordered count of rows per unique label\n",
        "labels_count = y_train.value_counts(ascending=True)\n",
        "\n",
        "f = plt.figure(figsize=(15, 6))\n",
        "s = sns.barplot(x=labels_count.index,y=labels_count.values)\n",
        "s.set_xticklabels(s.get_xticklabels(), rotation = 30)"
      ]
    },
    {
      "cell_type": "markdown",
      "metadata": {
        "id": "AnKMKSb4Bkym"
      },
      "source": [
        "Plot 3 images per label"
      ]
    },
    {
      "cell_type": "code",
      "execution_count": null,
      "metadata": {
        "id": "jdnVuqbFBW3K"
      },
      "outputs": [],
      "source": [
        "def plot_images_per_label(df, label, cols: int, size: tuple):\n",
        "    fig, axs = plt.subplots(nrows=1, ncols=cols, figsize=size)\n",
        "\n",
        "    cntMax = cols\n",
        "    cntCur = 0\n",
        "    for index, row in df.iterrows():\n",
        "        if(y_train == label and cntCur < cntMax):\n",
        "            axs[cntCur].imshow(plt.imread(df.FilePaths[index]))\n",
        "            axs[cntCur].set_title(df.Labels[index])\n",
        "\n",
        "            cntCur += 1\n",
        "        else:\n",
        "            if(cntCur >= cntMax):\n",
        "                break\n",
        "    \n",
        "    plt.tight_layout()\n",
        "    plt.show()\n",
        "\n",
        "\n",
        "# unique labels\n",
        "labels = sorted(df1['y_train'].unique())\n",
        "for label in range(7):\n",
        "    plot_images_per_label(df1, label, 3, (12,9))"
      ]
    },
    {
      "cell_type": "code",
      "execution_count": null,
      "metadata": {
        "id": "asV1O58Lrq-R"
      },
      "outputs": [],
      "source": [
        "from PIL import Image\n",
        "img = Image.fromarray(X_train[0], 'RGB')\n",
        "display(img)"
      ]
    },
    {
      "cell_type": "markdown",
      "metadata": {
        "id": "qRKKrNacAZtl"
      },
      "source": [
        "Drop duplicate images"
      ]
    },
    {
      "cell_type": "code",
      "execution_count": null,
      "metadata": {
        "id": "ERwfyPDHP-zC"
      },
      "outputs": [],
      "source": [
        "#df_group = pd.read_csv('/content/drive/MyDrive/PHD/Datasets/isic2018/ISIC2018_Task3_Training_LesionGroupings.csv') \n",
        "#df_train = df_train.set_index('image').join(df_group.set_index('image'))\n",
        "#df_train = df_train.drop_duplicates(subset=['lesion_id'])"
      ]
    },
    {
      "cell_type": "markdown",
      "metadata": {
        "id": "cNBXx28B9yGu"
      },
      "source": [
        "#DeepSMOTE Oversampling"
      ]
    },
    {
      "cell_type": "code",
      "execution_count": null,
      "metadata": {
        "id": "YmX_Uqbmj-tN"
      },
      "outputs": [],
      "source": [
        "from numpy import moveaxis\n",
        "from sklearn.neighbors import NearestNeighbors\n",
        "import torch\n",
        "import torch.nn as nn\n",
        "\n",
        "max_el = np.inf\n",
        "\n",
        "args = {}\n",
        "args['dim_h'] = 64         # factor controlling size of hidden layers\n",
        "args['n_channel'] = 3#1    # number of channels in the input data \n",
        "args['n_z'] = 600 #300     # number of dimensions in latent space. \n",
        "args['sigma'] = 1.0        # variance in n_z\n",
        "args['lambda'] = 0.01      # hyper param for weight of discriminator loss\n",
        "args['lr'] = 0.0002        # learning rate for Adam optimizer .000\n",
        "args['epochs'] = EPOCHS       # how many epochs to run for\n",
        "args['batch_size'] = 100   # batch size for SGD\n",
        "args['save'] = True        # save weights at each epoch of training if True\n",
        "args['train'] = True       # train networks if True, else load networks from\n",
        "args['patience'] = 20"
      ]
    },
    {
      "cell_type": "code",
      "source": [
        "#Decoder\n",
        "H_in= 7\n",
        "stride = 2\n",
        "padding = 1\n",
        "dilation = 1\n",
        "kernel_size = 4\n",
        "output_padding=0\n",
        "H_out = (H_in - 1)*stride - 2*padding + dilation*(kernel_size-1) + output_padding + 1\n",
        "print (H_out)"
      ],
      "metadata": {
        "colab": {
          "base_uri": "https://localhost:8080/"
        },
        "id": "_cufzPasvtkv",
        "outputId": "3a7afd26-31fd-4ed9-d6b3-77fe3edf0b54"
      },
      "execution_count": null,
      "outputs": [
        {
          "output_type": "stream",
          "name": "stdout",
          "text": [
            "14\n"
          ]
        }
      ]
    },
    {
      "cell_type": "code",
      "source": [
        "#encoder\n",
        "W=4\n",
        "K=4\n",
        "S=1\n",
        "P=0\n",
        "Wout = ((W-K+2*P)/S)+1\n",
        "print(Wout)"
      ],
      "metadata": {
        "colab": {
          "base_uri": "https://localhost:8080/"
        },
        "id": "XQJu5JSm1HMv",
        "outputId": "989faf8e-5e3c-4b86-d6e5-e7c954d94bef"
      },
      "execution_count": null,
      "outputs": [
        {
          "output_type": "stream",
          "name": "stdout",
          "text": [
            "1.0\n"
          ]
        }
      ]
    },
    {
      "cell_type": "code",
      "execution_count": null,
      "metadata": {
        "id": "NydOdPMajEfT"
      },
      "outputs": [],
      "source": [
        "class Encoder(nn.Module):\n",
        "    def __init__(self, args):\n",
        "        super(Encoder, self).__init__()\n",
        "\n",
        "        self.n_channel = args['n_channel']\n",
        "        self.dim_h = args['dim_h']\n",
        "        self.n_z = args['n_z']\n",
        "        \n",
        "        # convolutional filters, work excellent with image data\n",
        "        # [(W−K+2P)/S]+1\n",
        "        self.conv = nn.Sequential(\n",
        "            #nn.AvgPool2d(7, stride=7),\n",
        "            nn.Conv2d(self.n_channel, self.dim_h, 5, 3, 0, bias=False),# 42\n",
        "            nn.BatchNorm2d(self.dim_h),\n",
        "            nn.LeakyReLU(0.2, inplace=True),\n",
        "            nn.Conv2d(self.dim_h, self.dim_h * 2, 5, 3, 1, bias=False), # 14\n",
        "            nn.BatchNorm2d(self.dim_h * 2),\n",
        "            nn.LeakyReLU(0.2, inplace=True),\n",
        "            nn.Conv2d(self.dim_h * 2, self.dim_h * 4, 5, 3, 0, bias=False),# 4\n",
        "            nn.BatchNorm2d(self.dim_h * 4),\n",
        "            nn.LeakyReLU(0.2, inplace=True),\n",
        "            nn.Conv2d(self.dim_h * 4, self.dim_h * 8, 4, 1, 0, bias=False),#1\n",
        "            nn.BatchNorm2d(self.dim_h * 8),\n",
        "            nn.LeakyReLU(0.2, inplace=True))\n",
        "        self.fc = nn.Linear(self.dim_h * 8, self.n_z)\n",
        "\n",
        "    def forward(self, x):\n",
        "        x = self.conv(x)\n",
        "        \n",
        "        x = x.squeeze()\n",
        "        x = self.fc(x)\n",
        "        return x\n",
        "\n",
        "\n",
        "class Decoder(nn.Module):\n",
        "    def __init__(self, args):\n",
        "        super(Decoder, self).__init__()\n",
        "\n",
        "        self.n_channel = args['n_channel']\n",
        "        self.dim_h = args['dim_h']\n",
        "        self.n_z = args['n_z']\n",
        "\n",
        "        # first layer is fully connected\n",
        "        self.fc = nn.Sequential(\n",
        "            nn.Linear(self.n_z, self.dim_h * 2**3 * 3 * 3),\n",
        "            nn.ReLU())\n",
        "\n",
        "        # deconvolutional filters, essentially inverse of convolutional filters\n",
        "        # H_out ​= (H_in​−1)*stride[0] − 2×padding[0] + dilation[0]×(kernel_size[0]−1) + output_padding[0] + 1\n",
        "        self.deconv = nn.Sequential(\n",
        "            nn.ConvTranspose2d(self.dim_h * 8, self.dim_h * 4, 3,2,0), #7\n",
        "            nn.BatchNorm2d(self.dim_h * 4),\n",
        "            nn.ReLU(True),\n",
        "            nn.ConvTranspose2d(self.dim_h * 4, self.dim_h * 2, 4,2,1), #14\n",
        "            nn.BatchNorm2d(self.dim_h * 2),\n",
        "            nn.ReLU(True),\n",
        "            nn.ConvTranspose2d(self.dim_h * 2, self.dim_h, 5,3,1), #42\n",
        "            nn.BatchNorm2d(self.dim_h),\n",
        "            nn.ReLU(True),\n",
        "            nn.ConvTranspose2d(self.dim_h, 3, 5,3,0),# 128\n",
        "            #nn.BatchNorm2d(self.dim_h),\n",
        "            #nn.ReLU(True),\n",
        "            #nn.ConvTranspose2d(self.dim_h, 3, 4, 2, 1),# 32\n",
        "            #nn.UpsamplingBilinear2d(scale_factor=7),\n",
        "            nn.Tanh())\n",
        "\n",
        "    def forward(self, x):\n",
        "        x = self.fc(x)\n",
        "        x = x.view(-1, self.dim_h * 2**3, 3, 3)\n",
        "        x = self.deconv(x)\n",
        "        return x\n",
        "\n",
        "##############################################################################\n",
        "\"\"\"set models, loss functions\"\"\"\n",
        "# control which parameters are frozen / free for optimization\n",
        "def free_params(module: nn.Module):\n",
        "    for p in module.parameters():\n",
        "        p.requires_grad = True\n",
        "\n",
        "def frozen_params(module: nn.Module):\n",
        "    for p in module.parameters():\n",
        "        p.requires_grad = False\n",
        "\n",
        "def biased_get_class(X, y, c):\n",
        "    \n",
        "    xbeg = X[y == c]\n",
        "    ybeg = y[y == c]\n",
        "    \n",
        "    return xbeg, ybeg\n",
        "    #return xclass, yclass\n",
        "\n",
        "def G_SM(X, y,n_to_sample,cl):\n",
        "    n_neigh = 5\n",
        "    nn = NearestNeighbors(n_neighbors=n_neigh, n_jobs=1)\n",
        "    nn.fit(X)\n",
        "    dist, ind = nn.kneighbors(X)\n",
        "\n",
        "    # generating samples\n",
        "    base_indices = np.random.choice(list(range(len(X))),n_to_sample)\n",
        "    neighbor_indices = np.random.choice(list(range(1, n_neigh)),n_to_sample)\n",
        "\n",
        "    X_base = X[base_indices]\n",
        "    X_neighbor = X[ind[base_indices, neighbor_indices]]\n",
        "\n",
        "    samples = X_base + np.multiply(np.random.rand(n_to_sample,1),\n",
        "            X_neighbor - X_base)\n",
        "\n",
        "    #use 10 as label because 0 to 9 real classes and 1 fake/smoted = 10\n",
        "    return samples, [cl]*n_to_sample\n",
        "\n",
        "def DeepSMOTE_train(X_train, y_train, one_hot = False):\n",
        "  from torch.utils.data import TensorDataset\n",
        "  import os\n",
        "\n",
        "  max_el = np.max(X_train)\n",
        "  X_train = X_train / max_el\n",
        "  X_train = moveaxis(X_train, 3, 1)\n",
        "  if one_hot:\n",
        "    y_train = np.argmax(y_train, axis=1)\n",
        "  #X_train = X_train.astype('float32') / 255.\n",
        "  \n",
        "  batch_size = args['batch_size']\n",
        "  patience = args['patience']\n",
        "  encoder = Encoder(args)\n",
        "  decoder = Decoder(args)\n",
        "\n",
        "  device = 'cuda' if torch.cuda.is_available() else 'cpu'\n",
        "  print(device)\n",
        "  decoder = decoder.to(device)\n",
        "  encoder = encoder.to(device)\n",
        "\n",
        "  train_on_gpu = torch.cuda.is_available()\n",
        "\n",
        "  #decoder loss function\n",
        "  criterion = nn.MSELoss()\n",
        "  criterion = criterion.to(device)\n",
        "\n",
        "  num_workers = 0\n",
        "\n",
        "  #torch.Tensor returns float so if want long then use torch.tensor\n",
        "  tensor_x = torch.from_numpy(X_train.copy())#torch.Tensor(X_train)\n",
        "  tensor_y = torch.tensor(y_train,dtype=torch.long)\n",
        "  mnist_bal = TensorDataset(tensor_x,tensor_y) \n",
        "  train_loader = torch.utils.data.DataLoader(mnist_bal, \n",
        "      batch_size=batch_size,shuffle=True,num_workers=num_workers)\n",
        "\n",
        "  best_loss = np.inf\n",
        "\n",
        "  enc_optim = torch.optim.Adam(encoder.parameters(), lr = args['lr'])\n",
        "  dec_optim = torch.optim.Adam(decoder.parameters(), lr = args['lr'])\n",
        "\n",
        "  for epoch in range(args['epochs']):\n",
        "      train_loss = 0.0\n",
        "      tmse_loss = 0.0\n",
        "      tdiscr_loss = 0.0\n",
        "      # train for one epoch -- set nets to train mode\n",
        "      encoder.train()\n",
        "      decoder.train()\n",
        "  \n",
        "      for images,labs in train_loader:\n",
        "      \n",
        "          # zero gradients for each batch\n",
        "          encoder.zero_grad()\n",
        "          decoder.zero_grad()\n",
        "          images, labs = images.to(device), labs.to(device)\n",
        "          labsn = labs.detach().cpu().numpy()\n",
        "#            print('images shape', images.shape)\n",
        "          # run images\n",
        "          z_hat = encoder(images)\n",
        "#            print('images shape after encoding', z_hat.shape)\n",
        "      \n",
        "          x_hat = decoder(z_hat) #decoder outputs tanh\n",
        "#            print('images shape after decoding', x_hat.shape)\n",
        "          mse = criterion(x_hat,images)\n",
        "                  \n",
        "          resx = []\n",
        "          resy = []\n",
        "      \n",
        "          tc = np.random.choice(num_classes,1)\n",
        "          #tc = 9\n",
        "          xbeg = X_train[y_train == tc]\n",
        "          ybeg = y_train[y_train == tc] \n",
        "          xlen = len(xbeg)\n",
        "          nsamp = min(xlen, 100)\n",
        "          ind = np.random.choice(list(range(len(xbeg))),nsamp,replace=False)\n",
        "          xclass = xbeg[ind]\n",
        "          yclass = ybeg[ind]\n",
        "      \n",
        "          xclen = len(xclass)\n",
        "          xcminus = np.arange(1,xclen)\n",
        "          \n",
        "          xcplus = np.append(xcminus,0)\n",
        "          xcnew = (xclass[[xcplus],:])\n",
        "          xcnew = xcnew.reshape(xcnew.shape[1],xcnew.shape[2],xcnew.shape[3],xcnew.shape[4])\n",
        "      \n",
        "          xcnew = torch.Tensor(xcnew)\n",
        "          xcnew = xcnew.to(device)\n",
        "      \n",
        "          #encode xclass to feature space\n",
        "          xclass = torch.Tensor(xclass)\n",
        "          xclass = xclass.to(device)\n",
        "          xclass = encoder(xclass)\n",
        "      \n",
        "          xclass = xclass.detach().cpu().numpy()\n",
        "      \n",
        "          xc_enc = (xclass[[xcplus],:])\n",
        "          xc_enc = np.squeeze(xc_enc)\n",
        "      \n",
        "          xc_enc = torch.Tensor(xc_enc)\n",
        "          xc_enc = xc_enc.to(device)\n",
        "          \n",
        "          ximg = decoder(xc_enc)\n",
        "          \n",
        "          mse2 = criterion(ximg,xcnew)\n",
        "      \n",
        "          comb_loss = mse2 + mse\n",
        "          comb_loss.backward()\n",
        "      \n",
        "          enc_optim.step()\n",
        "          dec_optim.step()\n",
        "      \n",
        "          train_loss += comb_loss.item()*images.size(0)\n",
        "          tmse_loss += mse.item()*images.size(0)\n",
        "          tdiscr_loss += mse2.item()*images.size(0)\n",
        "\n",
        "      train_loss = train_loss/len(train_loader)\n",
        "      tmse_loss = tmse_loss/len(train_loader)\n",
        "      tdiscr_loss = tdiscr_loss/len(train_loader)\n",
        "      print('Epoch: {} \\tTrain Loss: {:.6f} \\tmse loss: {:.6f} \\tmse2 loss: {:.6f}'.format(epoch,\n",
        "              train_loss,tmse_loss,tdiscr_loss))\n",
        "      \n",
        "  \n",
        "  \n",
        "      #store the best encoder and decoder models\n",
        "      #here, /crs5 is a reference to 5 way cross validation, but is not\n",
        "      #necessary for illustration purposes\n",
        "      if train_loss < best_loss:\n",
        "          print('Saving best encoder - decoder')\n",
        "          patience = args['patience']\n",
        "          path_enc = '/content/drive/MyDrive/PHD/Model/best_enc_'+exp_name+'_'+dataset_name+'.pth'\n",
        "          path_dec = '/content/drive/MyDrive/PHD/Model/best_dec_'+exp_name+'_'+dataset_name+'.pth'\n",
        "        \n",
        "          torch.save(encoder.state_dict(), path_enc)\n",
        "          torch.save(decoder.state_dict(), path_dec)\n",
        "  \n",
        "          best_loss = train_loss\n",
        "      else:\n",
        "          patience = patience - 1\n",
        "\n",
        "      if patience == 0:\n",
        "          print('Out of patience. \\n')\n",
        "          break\n",
        "  print('Saving last encoder - decoder')\n",
        "  path_enc = '/content/drive/MyDrive/PHD/Model/last_enc_'+exp_name+'_'+dataset_name+'.pth'\n",
        "  path_dec = '/content/drive/MyDrive/PHD/Model/last_dec_'+exp_name+'_'+dataset_name+'.pth'\n",
        "\n",
        "  torch.save(encoder.state_dict(), path_enc)\n",
        "  torch.save(decoder.state_dict(), path_dec)\n",
        "\n",
        "def DeepSMOTE_Data(X_train, y_train, one_hot = False, use_model=\"best\"):\n",
        "  batch_size = args['batch_size']\n",
        "  max_el = np.max(X_train)\n",
        "  X_train = X_train / max_el\n",
        "  X_train = moveaxis(X_train, 3, 1)\n",
        "  if one_hot:\n",
        "    y_train = np.argmax(y_train, axis=1)\n",
        "  #Generate artificial images\n",
        "  import torch\n",
        "  np.printoptions(precision=5,suppress=True)\n",
        "\n",
        "  #path on the computer where the models are stored\n",
        "  if use_model == 'best':\n",
        "    path_enc = '/content/drive/MyDrive/PHD/Model/best_enc_'+exp_name+'_'+dataset_name+'.pth'\n",
        "    path_dec = '/content/drive/MyDrive/PHD/Model/best_dec_'+exp_name+'_'+dataset_name+'.pth'\n",
        "  else:\n",
        "    path_enc = '/content/drive/MyDrive/PHD/Model/last_enc_'+exp_name+'_'+dataset_name+'.pth'\n",
        "    path_dec = '/content/drive/MyDrive/PHD/Model/last_dec_'+exp_name+'_'+dataset_name+'.pth'\n",
        "  \n",
        "  train_on_gpu = torch.cuda.is_available()\n",
        "  device = 'cuda' if torch.cuda.is_available() else 'cpu'\n",
        "\n",
        "  print(\"Load model: \", path_enc)\n",
        "  encoder = Encoder(args)\n",
        "  encoder.load_state_dict(torch.load(path_enc), strict=False)\n",
        "  encoder = encoder.to(device)\n",
        "\n",
        "  print(\"Load model: \", path_dec)\n",
        "  decoder = Decoder(args)\n",
        "  decoder.load_state_dict(torch.load(path_dec), strict=False)\n",
        "  decoder = decoder.to(device)\n",
        "\n",
        "  encoder.eval()\n",
        "  decoder.eval()\n",
        "\n",
        "  resx = []\n",
        "  resy = []\n",
        "  \n",
        "  counter = Counter(y_train)\n",
        "  counter = sorted(counter.items())\n",
        "  counter = [value for _, value in counter]\n",
        "\n",
        "  for i in range(num_classes):\n",
        "      torch.cuda.empty_cache()\n",
        "\n",
        "      xclass, yclass = biased_get_class(X_train, y_train, i)\n",
        "      #encode xclass to feature space\n",
        "      xclass = torch.Tensor(xclass)\n",
        "      xclass = xclass.to(device)\n",
        "      xclass = encoder(xclass)\n",
        "          \n",
        "      xclass = xclass.detach().cpu().numpy()\n",
        "      n = np.max(counter) - counter[i]\n",
        "      if n == 0:\n",
        "        continue\n",
        "#        resx2 = []\n",
        "#        resy2 = []\n",
        "#        for j in range(batch_size, n+batch_size+1, batch_size):\n",
        "#          if j <= n:\n",
        "#            batch_size_max = batch_size\n",
        "#          elif n % batch_size != 0:\n",
        "#            batch_size_max = n%batch_size\n",
        "#          else:\n",
        "#            break\n",
        "#          xsamp, ysamp = G_SM(xclass,yclass,batch_size_max,i)\n",
        "      xsamp, ysamp = G_SM(xclass,yclass,n,i)\n",
        "      ysamp = np.array(ysamp)\n",
        "  \n",
        "      \"\"\"to generate samples for resnet\"\"\"   \n",
        "      xsamp = torch.Tensor(xsamp)\n",
        "      xsamp = xsamp.to(device)\n",
        "      ximg = decoder(xsamp)\n",
        "\n",
        "      ximn = ximg.detach().cpu().numpy()\n",
        "#        resx2.append(ximn)\n",
        "#        resy2.append(ysamp)\n",
        "#        \n",
        "#        resx2 = np.vstack(resx2)\n",
        "#        resy2 = np.hstack(resy2)\n",
        "      resx.append(ximn)\n",
        "      resy.append(ysamp)\n",
        "  \n",
        "  resx1 = np.vstack(resx)\n",
        "  resy1 = np.hstack(resy)\n",
        "  resx1 = resx1.reshape(resx1.shape[0],-1)\n",
        "  X_train = X_train.reshape(X_train.shape[0],-1)\n",
        "  X_train = np.vstack((resx1,X_train))\n",
        "  y_train = np.hstack((resy1,y_train))\n",
        "  y_train = to_categorical(y_train)\n",
        "  X_train = X_train.reshape(-1, 3, IMAGE_W, IMAGE_H)\n",
        "  X_train = moveaxis(X_train, 1, 3)\n",
        "  X_train = X_train * max_el\n",
        "  return X_train, y_train"
      ]
    },
    {
      "cell_type": "code",
      "source": [
        "DeepSMOTE_train(X_train, y_train, True)"
      ],
      "metadata": {
        "colab": {
          "base_uri": "https://localhost:8080/"
        },
        "id": "zD5EzeV4y0Iq",
        "outputId": "b753ac0a-ebed-44f6-8653-c096679c6d7c"
      },
      "execution_count": null,
      "outputs": [
        {
          "output_type": "stream",
          "name": "stdout",
          "text": [
            "cuda\n",
            "Epoch: 0 \tTrain Loss: 24.725033 \tmse loss: 12.203676 \tmse2 loss: 12.521357\n",
            "Saving best encoder - decoder\n",
            "Saving last encoder - decoder\n",
            "Epoch: 1 \tTrain Loss: 9.230754 \tmse loss: 4.558404 \tmse2 loss: 4.672350\n",
            "Saving best encoder - decoder\n",
            "Saving last encoder - decoder\n",
            "Epoch: 2 \tTrain Loss: 5.676908 \tmse loss: 2.730959 \tmse2 loss: 2.945949\n",
            "Saving best encoder - decoder\n",
            "Saving last encoder - decoder\n",
            "Epoch: 3 \tTrain Loss: 4.486106 \tmse loss: 2.134804 \tmse2 loss: 2.351302\n",
            "Saving best encoder - decoder\n",
            "Saving last encoder - decoder\n",
            "Epoch: 4 \tTrain Loss: 3.623292 \tmse loss: 1.611530 \tmse2 loss: 2.011762\n",
            "Saving best encoder - decoder\n",
            "Saving last encoder - decoder\n",
            "Epoch: 5 \tTrain Loss: 3.129885 \tmse loss: 1.374469 \tmse2 loss: 1.755415\n",
            "Saving best encoder - decoder\n",
            "Saving last encoder - decoder\n",
            "Epoch: 6 \tTrain Loss: 2.788804 \tmse loss: 1.213340 \tmse2 loss: 1.575464\n",
            "Saving best encoder - decoder\n",
            "Saving last encoder - decoder\n",
            "Epoch: 7 \tTrain Loss: 2.747276 \tmse loss: 1.168496 \tmse2 loss: 1.578780\n",
            "Saving best encoder - decoder\n",
            "Saving last encoder - decoder\n",
            "Epoch: 8 \tTrain Loss: 2.521208 \tmse loss: 1.073430 \tmse2 loss: 1.447778\n",
            "Saving best encoder - decoder\n",
            "Saving last encoder - decoder\n",
            "Epoch: 9 \tTrain Loss: 2.430718 \tmse loss: 1.069310 \tmse2 loss: 1.361408\n",
            "Saving best encoder - decoder\n",
            "Saving last encoder - decoder\n",
            "Epoch: 10 \tTrain Loss: 2.390305 \tmse loss: 1.003383 \tmse2 loss: 1.386922\n",
            "Saving best encoder - decoder\n",
            "Saving last encoder - decoder\n",
            "Epoch: 11 \tTrain Loss: 2.297638 \tmse loss: 0.947754 \tmse2 loss: 1.349884\n",
            "Saving best encoder - decoder\n",
            "Saving last encoder - decoder\n",
            "Epoch: 12 \tTrain Loss: 2.211478 \tmse loss: 0.942759 \tmse2 loss: 1.268719\n",
            "Saving best encoder - decoder\n",
            "Saving last encoder - decoder\n",
            "Epoch: 13 \tTrain Loss: 2.224302 \tmse loss: 0.939262 \tmse2 loss: 1.285039\n",
            "Saving last encoder - decoder\n",
            "Epoch: 14 \tTrain Loss: 2.091953 \tmse loss: 0.871941 \tmse2 loss: 1.220012\n",
            "Saving best encoder - decoder\n",
            "Saving last encoder - decoder\n",
            "Epoch: 15 \tTrain Loss: 2.044284 \tmse loss: 0.854714 \tmse2 loss: 1.189570\n",
            "Saving best encoder - decoder\n",
            "Saving last encoder - decoder\n",
            "Epoch: 16 \tTrain Loss: 2.097986 \tmse loss: 0.878664 \tmse2 loss: 1.219322\n",
            "Saving last encoder - decoder\n",
            "Epoch: 17 \tTrain Loss: 2.098824 \tmse loss: 0.875717 \tmse2 loss: 1.223107\n",
            "Saving last encoder - decoder\n",
            "Epoch: 18 \tTrain Loss: 1.995100 \tmse loss: 0.817802 \tmse2 loss: 1.177298\n",
            "Saving best encoder - decoder\n",
            "Saving last encoder - decoder\n",
            "Epoch: 19 \tTrain Loss: 1.897978 \tmse loss: 0.833374 \tmse2 loss: 1.064604\n",
            "Saving best encoder - decoder\n",
            "Saving last encoder - decoder\n",
            "Epoch: 20 \tTrain Loss: 1.891092 \tmse loss: 0.827801 \tmse2 loss: 1.063291\n",
            "Saving best encoder - decoder\n",
            "Saving last encoder - decoder\n",
            "Epoch: 21 \tTrain Loss: 1.802419 \tmse loss: 0.814558 \tmse2 loss: 0.987861\n",
            "Saving best encoder - decoder\n",
            "Saving last encoder - decoder\n",
            "Epoch: 22 \tTrain Loss: 1.867575 \tmse loss: 0.822895 \tmse2 loss: 1.044680\n",
            "Saving last encoder - decoder\n",
            "Epoch: 23 \tTrain Loss: 1.853053 \tmse loss: 0.840036 \tmse2 loss: 1.013017\n",
            "Saving last encoder - decoder\n",
            "Epoch: 24 \tTrain Loss: 1.822306 \tmse loss: 0.808471 \tmse2 loss: 1.013836\n",
            "Saving last encoder - decoder\n",
            "Epoch: 25 \tTrain Loss: 1.729070 \tmse loss: 0.766862 \tmse2 loss: 0.962208\n",
            "Saving best encoder - decoder\n",
            "Saving last encoder - decoder\n",
            "Epoch: 26 \tTrain Loss: 1.629938 \tmse loss: 0.721505 \tmse2 loss: 0.908434\n",
            "Saving best encoder - decoder\n",
            "Saving last encoder - decoder\n",
            "Epoch: 27 \tTrain Loss: 1.643633 \tmse loss: 0.734480 \tmse2 loss: 0.909153\n",
            "Saving last encoder - decoder\n",
            "Epoch: 28 \tTrain Loss: 1.708623 \tmse loss: 0.778945 \tmse2 loss: 0.929679\n",
            "Saving last encoder - decoder\n",
            "Epoch: 29 \tTrain Loss: 1.633916 \tmse loss: 0.725230 \tmse2 loss: 0.908686\n",
            "Saving last encoder - decoder\n",
            "Epoch: 30 \tTrain Loss: 1.582657 \tmse loss: 0.716852 \tmse2 loss: 0.865805\n",
            "Saving best encoder - decoder\n",
            "Saving last encoder - decoder\n",
            "Epoch: 31 \tTrain Loss: 1.573767 \tmse loss: 0.692442 \tmse2 loss: 0.881324\n",
            "Saving best encoder - decoder\n",
            "Saving last encoder - decoder\n",
            "Epoch: 32 \tTrain Loss: 1.474086 \tmse loss: 0.667319 \tmse2 loss: 0.806767\n",
            "Saving best encoder - decoder\n",
            "Saving last encoder - decoder\n",
            "Epoch: 33 \tTrain Loss: 1.445649 \tmse loss: 0.663813 \tmse2 loss: 0.781836\n",
            "Saving best encoder - decoder\n",
            "Saving last encoder - decoder\n",
            "Epoch: 34 \tTrain Loss: 1.383388 \tmse loss: 0.630146 \tmse2 loss: 0.753241\n",
            "Saving best encoder - decoder\n",
            "Saving last encoder - decoder\n",
            "Epoch: 35 \tTrain Loss: 1.476357 \tmse loss: 0.675651 \tmse2 loss: 0.800706\n",
            "Saving last encoder - decoder\n",
            "Epoch: 36 \tTrain Loss: 1.394161 \tmse loss: 0.642319 \tmse2 loss: 0.751842\n",
            "Saving last encoder - decoder\n",
            "Epoch: 37 \tTrain Loss: 1.380749 \tmse loss: 0.632166 \tmse2 loss: 0.748583\n",
            "Saving best encoder - decoder\n",
            "Saving last encoder - decoder\n",
            "Epoch: 38 \tTrain Loss: 1.405232 \tmse loss: 0.643845 \tmse2 loss: 0.761387\n",
            "Saving last encoder - decoder\n",
            "Epoch: 39 \tTrain Loss: 1.286873 \tmse loss: 0.604482 \tmse2 loss: 0.682391\n",
            "Saving best encoder - decoder\n",
            "Saving last encoder - decoder\n",
            "Epoch: 40 \tTrain Loss: 1.355868 \tmse loss: 0.637045 \tmse2 loss: 0.718822\n",
            "Saving last encoder - decoder\n",
            "Epoch: 41 \tTrain Loss: 1.371825 \tmse loss: 0.653038 \tmse2 loss: 0.718786\n",
            "Saving last encoder - decoder\n",
            "Epoch: 42 \tTrain Loss: 1.348737 \tmse loss: 0.625337 \tmse2 loss: 0.723400\n",
            "Saving last encoder - decoder\n",
            "Epoch: 43 \tTrain Loss: 1.286499 \tmse loss: 0.616462 \tmse2 loss: 0.670037\n",
            "Saving best encoder - decoder\n",
            "Saving last encoder - decoder\n",
            "Epoch: 44 \tTrain Loss: 1.347290 \tmse loss: 0.618123 \tmse2 loss: 0.729166\n",
            "Saving last encoder - decoder\n",
            "Epoch: 45 \tTrain Loss: 1.357875 \tmse loss: 0.633765 \tmse2 loss: 0.724111\n",
            "Saving last encoder - decoder\n",
            "Epoch: 46 \tTrain Loss: 1.223423 \tmse loss: 0.580502 \tmse2 loss: 0.642921\n",
            "Saving best encoder - decoder\n",
            "Saving last encoder - decoder\n",
            "Epoch: 47 \tTrain Loss: 1.257264 \tmse loss: 0.578815 \tmse2 loss: 0.678449\n",
            "Saving last encoder - decoder\n",
            "Epoch: 48 \tTrain Loss: 1.266337 \tmse loss: 0.595284 \tmse2 loss: 0.671052\n",
            "Saving last encoder - decoder\n",
            "Epoch: 49 \tTrain Loss: 1.194296 \tmse loss: 0.570200 \tmse2 loss: 0.624096\n",
            "Saving best encoder - decoder\n",
            "Saving last encoder - decoder\n"
          ]
        }
      ]
    },
    {
      "cell_type": "code",
      "source": [
        "X_train, y_train = DeepSMOTE_Data(X_train, y_train, one_hot = True, use_model=\"best\")"
      ],
      "metadata": {
        "colab": {
          "base_uri": "https://localhost:8080/"
        },
        "id": "FEqp4T2-7jVE",
        "outputId": "ecb5714b-648b-45e5-ea88-511ee90d89ee"
      },
      "execution_count": null,
      "outputs": [
        {
          "output_type": "stream",
          "name": "stdout",
          "text": [
            "Load model:  /content/drive/MyDrive/PHD/Model/best_enc_deep smote_under70_128px.pth\n",
            "Load model:  /content/drive/MyDrive/PHD/Model/best_dec_deep smote_under70_128px.pth\n"
          ]
        }
      ]
    },
    {
      "cell_type": "markdown",
      "metadata": {
        "id": "0jrJ33lUDkCM"
      },
      "source": [
        "#Split dataset to train and val"
      ]
    },
    {
      "cell_type": "code",
      "execution_count": null,
      "metadata": {
        "id": "e6qneWL_Bs2U"
      },
      "outputs": [],
      "source": [
        "# stratified train and rem (20%) datasets\n",
        "from sklearn.model_selection import train_test_split\n",
        "X_train, X_val, y_train, y_val = train_test_split(X_train, y_train, test_size=0.2, stratify=y_train, random_state=1)\n",
        "\n",
        "print('Train Data: ', X_train.shape)\n",
        "print('Remaining Data: ', X_val.shape)"
      ]
    },
    {
      "cell_type": "code",
      "execution_count": null,
      "metadata": {
        "id": "8Kef4r_zxjgk"
      },
      "outputs": [],
      "source": [
        "#Data Augmentation\n",
        "dataaugment = ImageDataGenerator(\n",
        "        rotation_range=90,  # randomly rotate images in the range (degrees, 0 to 180)\n",
        "        zoom_range = 0.1, # Randomly zoom image \n",
        "        width_shift_range=0.1,  # randomly shift images horizontally (fraction of total width)\n",
        "        height_shift_range=0.1,  # randomly shift images vertically (fraction of total height)\n",
        "        horizontal_flip=True,  # randomly flip images\n",
        "        vertical_flip=True,  # randomly flip images\n",
        "        shear_range = 10) \n",
        "\n",
        "dataaugment.fit(X_train)"
      ]
    },
    {
      "cell_type": "markdown",
      "metadata": {
        "id": "B2PgksTFkOAq"
      },
      "source": [
        "#Fine Tune"
      ]
    },
    {
      "cell_type": "code",
      "execution_count": null,
      "metadata": {
        "id": "Nr1jnSM7yzJc"
      },
      "outputs": [],
      "source": [
        "limit = 171\n",
        "for layer in model.layers[:limit]:\n",
        "   layer.trainable = False\n",
        "for layer in model.layers[limit:]:\n",
        "   layer.trainable = True\n",
        "\n",
        "optimizer_SGD = SGD(learning_rate=0.0001, momentum=0.9)\n",
        "model.compile(optimizer = optimizer_SGD , loss = \"categorical_crossentropy\", metrics=['accuracy', balanced_acc])\n",
        "hst2 = model.fit(train_data_batches,\n",
        "                    epochs = EPOCHS, validation_data = valid_data_batches,\n",
        "                    callbacks=[learning_rate_reduction,early_stopping_monitor, mc])\n"
      ]
    },
    {
      "cell_type": "code",
      "execution_count": null,
      "metadata": {
        "id": "vO1aAQBmiy0K"
      },
      "outputs": [],
      "source": [
        "# summarize history for accuracy\n",
        "plt.plot(hst2.history['balanced_acc'])\n",
        "plt.plot(hst2.history['val_balanced_acc'])\n",
        "plt.title('model balance_acc after tunning')\n",
        "plt.ylabel('accuracy')\n",
        "plt.xlabel('epoch')\n",
        "plt.legend(['train', 'val'], loc='upper left')\n",
        "plt.show()"
      ]
    }
  ],
  "metadata": {
    "accelerator": "GPU",
    "colab": {
      "collapsed_sections": [
        "BE9FCWBe8deT",
        "3K908bbiYwbS",
        "UswA0co2y1wl",
        "LfcFpsBwM0d4",
        "cNBXx28B9yGu",
        "0jrJ33lUDkCM",
        "B2PgksTFkOAq"
      ],
      "machine_shape": "hm",
      "provenance": [],
      "include_colab_link": true
    },
    "gpuClass": "standard",
    "kernelspec": {
      "display_name": "Python 3",
      "name": "python3"
    },
    "language_info": {
      "name": "python"
    }
  },
  "nbformat": 4,
  "nbformat_minor": 0
}